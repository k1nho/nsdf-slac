{
 "cells": [
  {
   "cell_type": "markdown",
   "metadata": {},
   "source": [
    "Execute in a shell:\n",
    "\n",
    "```\n",
    "mkdir supercdms-data\n",
    "alias ='aws s3 --profile slac_public --endpoint-url https://maritime.sealstorage.io/api/v0/s3 --no-verify-ssl'\n",
    "s3 ls --recursive s3://utah/supercdms-data/CDMS/UMN/R68/Raw/  | awk '{print $4}' > supercdms-data/list.txt\n",
    "```"
   ]
  },
  {
   "cell_type": "code",
   "execution_count": 1,
   "metadata": {},
   "outputs": [
    {
     "name": "stdout",
     "output_type": "stream",
     "text": [
      "found 39522 .mid.gz files\n"
     ]
    }
   ],
   "source": [
    "with open(\"supercdms-data/list.txt\",\"r\") as f:\n",
    "  files=[it.strip() for it in f.readlines() if it.strip().endswith(\".mid.gz\")]\n",
    "print(\"found\",len(files),\".mid.gz files\")"
   ]
  },
  {
   "cell_type": "code",
   "execution_count": 2,
   "metadata": {},
   "outputs": [
    {
     "name": "stdout",
     "output_type": "stream",
     "text": [
      "File supercdms-data/CDMS/UMN/R68/Raw/07180808_1558/07180808_1558_F0001.mid.gz already exists 48189875\n",
      "File supercdms-data/CDMS/UMN/R68/Raw/07180808_1558/07180808_1558_F0002.mid.gz already exists 185526004\n",
      "File supercdms-data/CDMS/UMN/R68/Raw/07180808_1558/07180808_1558_F0003.mid.gz already exists 180300511\n",
      "File supercdms-data/CDMS/UMN/R68/Raw/07180808_1558/07180808_1558_F0004.mid.gz already exists 179814119\n",
      "File supercdms-data/CDMS/UMN/R68/Raw/07180808_1558/07180808_1558_F0005.mid.gz already exists 182222931\n",
      "File supercdms-data/CDMS/UMN/R68/Raw/07180808_1558/07180808_1558_F0006.mid.gz already exists 179705278\n",
      "File supercdms-data/CDMS/UMN/R68/Raw/07180808_1558/07180808_1558_F0007.mid.gz already exists 183954816\n",
      "File supercdms-data/CDMS/UMN/R68/Raw/07180808_1558/07180808_1558_F0008.mid.gz already exists 181079571\n",
      "File supercdms-data/CDMS/UMN/R68/Raw/07180808_1558/07180808_1558_F0009.mid.gz already exists 181132576\n",
      "File supercdms-data/CDMS/UMN/R68/Raw/07180808_1558/07180808_1558_F0010.mid.gz already exists 149806354\n",
      "File supercdms-data/CDMS/UMN/R68/Raw/07180808_1608/07180808_1608_F0001.mid.gz already exists 50175705\n",
      "File supercdms-data/CDMS/UMN/R68/Raw/07180808_1608/07180808_1608_F0002.mid.gz already exists 188260687\n",
      "File supercdms-data/CDMS/UMN/R68/Raw/07180808_1608/07180808_1608_F0003.mid.gz already exists 184524512\n",
      "File supercdms-data/CDMS/UMN/R68/Raw/07180808_1608/07180808_1608_F0004.mid.gz already exists 180548513\n",
      "File supercdms-data/CDMS/UMN/R68/Raw/07180808_1608/07180808_1608_F0005.mid.gz already exists 182468674\n",
      "File supercdms-data/CDMS/UMN/R68/Raw/07180808_1608/07180808_1608_F0006.mid.gz already exists 183731519\n",
      "File supercdms-data/CDMS/UMN/R68/Raw/07180808_1608/07180808_1608_F0007.mid.gz already exists 181857767\n",
      "File supercdms-data/CDMS/UMN/R68/Raw/07180808_1608/07180808_1608_F0008.mid.gz already exists 182064872\n",
      "File supercdms-data/CDMS/UMN/R68/Raw/07180808_1608/07180808_1608_F0009.mid.gz already exists 168277011\n",
      "File supercdms-data/CDMS/UMN/R68/Raw/07180808_1608/07180808_1608_F0010.mid.gz already exists 141343911\n",
      "File supercdms-data/CDMS/UMN/R68/Raw/07180808_1618/07180808_1618_F0001.mid.gz already exists 53011111\n",
      "File supercdms-data/CDMS/UMN/R68/Raw/07180808_1618/07180808_1618_F0002.mid.gz already exists 183605551\n",
      "File supercdms-data/CDMS/UMN/R68/Raw/07180808_1618/07180808_1618_F0003.mid.gz already exists 183539457\n",
      "File supercdms-data/CDMS/UMN/R68/Raw/07180808_1618/07180808_1618_F0004.mid.gz already exists 181716747\n",
      "File supercdms-data/CDMS/UMN/R68/Raw/07180808_1618/07180808_1618_F0005.mid.gz already exists 158912991\n",
      "File supercdms-data/CDMS/UMN/R68/Raw/07180808_1618/07180808_1618_F0006.mid.gz already exists 178104770\n",
      "File supercdms-data/CDMS/UMN/R68/Raw/07180808_1618/07180808_1618_F0007.mid.gz already exists 179558404\n",
      "File supercdms-data/CDMS/UMN/R68/Raw/07180808_1618/07180808_1618_F0008.mid.gz already exists 183086198\n",
      "File supercdms-data/CDMS/UMN/R68/Raw/07180808_1618/07180808_1618_F0009.mid.gz already exists 181128566\n",
      "File supercdms-data/CDMS/UMN/R68/Raw/07180808_1618/07180808_1618_F0010.mid.gz already exists 148199340\n",
      "File supercdms-data/CDMS/UMN/R68/Raw/07180808_1628/07180808_1628_F0001.mid.gz already exists 47705246\n"
     ]
    }
   ],
   "source": [
    "import os,sys,boto3\n",
    "from botocore.client import Config\n",
    "\n",
    "config = Config(signature_version = 's3v4')\n",
    "\n",
    "s3 = boto3.resource('s3',endpoint_url='https://maritime.sealstorage.io/api/v0/s3', aws_access_key_id='any', aws_secret_access_key='any', config=config,)\n",
    "bucket = s3.Bucket(\"utah\")\n",
    "\n",
    "max_files=30\n",
    "for I,key in enumerate(files):\n",
    "  local=key\n",
    "\n",
    "  # download file\n",
    "  if not os.path.isfile(local):\n",
    "    os.makedirs(os.path.dirname(local),exist_ok=True)\n",
    "    bucket.download_file(key,local)\n",
    "    print(f\"Downloaded file {key} {os.path.getsize(local)}\")\n",
    "  else:\n",
    "    print(f\"File {key} already exists {os.path.getsize(local)}\")\n",
    "\n",
    "\n",
    "  if max_files and I>=max_files:\n",
    "    break\n"
   ]
  },
  {
   "cell_type": "code",
   "execution_count": 3,
   "metadata": {},
   "outputs": [],
   "source": [
    "import midas.file_reader\n",
    "\n",
    "import json,os,sys, xmltodict\n",
    "from pprint import pprint\n",
    "\n",
    "# ///////////////////////////////////////////////////////////////////\n",
    "def LoadXML(filename):\n",
    "\twith open(filename, 'rt') as file: \n",
    "\t\tbody = file.read() \n",
    "\treturn \n",
    "\n",
    "# ///////////////////////////////////////////////////////////////////\n",
    "def Merge(d1, d2):\n",
    "    return {**d1, **d2} if d1 and d2 else (d1 or d2)\n",
    "\n",
    "# /////////////////////////////////////////\n",
    "def ParseEvent(evt, parse_xml=False):\n",
    "\n",
    "    ret={}\n",
    "\n",
    "    if parse_xml:\n",
    "        body=evt.non_bank_data.decode(\"latin-1\")\n",
    "        d=xmltodict.parse(''.join(c for c in body if c.isprintable())) # I am loosing some char this\n",
    "        assert(isinstance(d,dict))\n",
    "        assert(list(d.keys())==[\"odb\"])\n",
    "        ret[\"odb\"]=d['odb']\n",
    "        evt.non_bank_data=\"\"\n",
    "\n",
    "    ret.update({\n",
    "        \"header\" : {\n",
    "            \"event_id\": evt.header.event_id,  # int\n",
    "            \"trigger_mask\": evt.header.trigger_mask,  # int\n",
    "            \"serial_number\":evt.header.serial_number,  # int\n",
    "            \"timestamp\": evt.header.timestamp,  # int UNIX timestamp of event\n",
    "            \"event_data_size_bytes\": evt.header.event_data_size_bytes,  # int Size of all banks\n",
    "        }, \n",
    "        \"all_bank_size_bytes\": evt.all_bank_size_bytes,  # (int)\n",
    "        \"flags\":evt.flags,  # (int) \n",
    "        # \"non_bank_data\" : # evt.non_bank_data,  # (bytes or None) - Content of some special events that don't  use banks (e.g. begin-of-run ODB dump)\n",
    "        \"banks\" : { # (dict of {str: `Bank`}) - Keyed by bank name\n",
    "            bank_name: {\n",
    "                \"name\": bank.name,  # (str) - 4 characters\n",
    "                \"type\": bank.type,  # (int) - See `TID_xxx` members in `midas` module\n",
    "                \"size_bytes\": bank.size_bytes,  # (int)\n",
    "                # \"data\": \"\", # (tuple of int/float/byte etc, or a numpy array if use_numpy is specified when unpacking)\n",
    "            } for bank_name, bank in evt.banks.items()\n",
    "        },\n",
    "    })\n",
    "\n",
    "    return ret\n",
    "\n",
    "# /////////////////////////////////////////\n",
    "def GenerateJson(src_filename,dst_filename):\n",
    "    mfile = midas.file_reader.MidasFile(src_filename)\n",
    "    events=[]\n",
    "    for E,evt in enumerate(mfile):\n",
    "        events.append(ParseEvent(evt, parse_xml=(E==0)))\n",
    "    with open(filename + \".json\",\"w\") as out:\n",
    "        out.write(json.dumps({\"events\":events}, sort_keys=False, indent=2))\n",
    "    \n",
    "\n",
    "# /////////////////////////////////////////\n",
    "for filename in files[0:max_files]:\n",
    "    if not os.path.isfile(filename+\".json\"):\n",
    "        GenerateJson(filename,filename+\".json\")\n"
   ]
  },
  {
   "cell_type": "code",
   "execution_count": 4,
   "metadata": {},
   "outputs": [
    {
     "data": {
      "text/html": [
       "<style>\n",
       "        .bk-notebook-logo {\n",
       "            display: block;\n",
       "            width: 20px;\n",
       "            height: 20px;\n",
       "            background-image: url(data:image/png;base64,iVBORw0KGgoAAAANSUhEUgAAABQAAAAUCAYAAACNiR0NAAAABHNCSVQICAgIfAhkiAAAAAlwSFlzAAALEgAACxIB0t1+/AAAABx0RVh0U29mdHdhcmUAQWRvYmUgRmlyZXdvcmtzIENTNui8sowAAAOkSURBVDiNjZRtaJVlGMd/1/08zzln5zjP1LWcU9N0NkN8m2CYjpgQYQXqSs0I84OLIC0hkEKoPtiH3gmKoiJDU7QpLgoLjLIQCpEsNJ1vqUOdO7ppbuec5+V+rj4ctwzd8IIbbi6u+8f1539dt3A78eXC7QizUF7gyV1fD1Yqg4JWz84yffhm0qkFqBogB9rM8tZdtwVsPUhWhGcFJngGeWrPzHm5oaMmkfEg1usvLFyc8jLRqDOMru7AyC8saQr7GG7f5fvDeH7Ej8CM66nIF+8yngt6HWaKh7k49Soy9nXurCi1o3qUbS3zWfrYeQDTB/Qj6kX6Ybhw4B+bOYoLKCC9H3Nu/leUTZ1JdRWkkn2ldcCamzrcf47KKXdAJllSlxAOkRgyHsGC/zRday5Qld9DyoM4/q/rUoy/CXh3jzOu3bHUVZeU+DEn8FInkPBFlu3+nW3Nw0mk6vCDiWg8CeJaxEwuHS3+z5RgY+YBR6V1Z1nxSOfoaPa4LASWxxdNp+VWTk7+4vzaou8v8PN+xo+KY2xsw6une2frhw05CTYOmQvsEhjhWjn0bmXPjpE1+kplmmkP3suftwTubK9Vq22qKmrBhpY4jvd5afdRA3wGjFAgcnTK2s4hY0/GPNIb0nErGMCRxWOOX64Z8RAC4oCXdklmEvcL8o0BfkNK4lUg9HTl+oPlQxdNo3Mg4Nv175e/1LDGzZen30MEjRUtmXSfiTVu1kK8W4txyV6BMKlbgk3lMwYCiusNy9fVfvvwMxv8Ynl6vxoByANLTWplvuj/nF9m2+PDtt1eiHPBr1oIfhCChQMBw6Aw0UulqTKZdfVvfG7VcfIqLG9bcldL/+pdWTLxLUy8Qq38heUIjh4XlzZxzQm19lLFlr8vdQ97rjZVOLf8nclzckbcD4wxXMidpX30sFd37Fv/GtwwhzhxGVAprjbg0gCAEeIgwCZyTV2Z1REEW8O4py0wsjeloKoMr6iCY6dP92H6Vw/oTyICIthibxjm/DfN9lVz8IqtqKYLUXfoKVMVQVVJOElGjrnnUt9T9wbgp8AyYKaGlqingHZU/uG2NTZSVqwHQTWkx9hxjkpWDaCg6Ckj5qebgBVbT3V3NNXMSiWSDdGV3hrtzla7J+duwPOToIg42ChPQOQjspnSlp1V+Gjdged7+8UN5CRAV7a5EdFNwCjEaBR27b3W890TE7g24NAP/mMDXRWrGoFPQI9ls/MWO2dWFAar/xcOIImbbpA3zgAAAABJRU5ErkJggg==);\n",
       "        }\n",
       "    </style>\n",
       "    <div>\n",
       "        <a href=\"https://bokeh.org\" target=\"_blank\" class=\"bk-notebook-logo\"></a>\n",
       "        <span id=\"c63397fc-ab92-4c9f-b339-9ed648767921\">Loading BokehJS ...</span>\n",
       "    </div>\n"
      ]
     },
     "metadata": {},
     "output_type": "display_data"
    },
    {
     "data": {
      "application/javascript": "(function(root) {\n  function now() {\n    return new Date();\n  }\n\n  const force = true;\n\n  if (typeof root._bokeh_onload_callbacks === \"undefined\" || force === true) {\n    root._bokeh_onload_callbacks = [];\n    root._bokeh_is_loading = undefined;\n  }\n\nconst JS_MIME_TYPE = 'application/javascript';\n  const HTML_MIME_TYPE = 'text/html';\n  const EXEC_MIME_TYPE = 'application/vnd.bokehjs_exec.v0+json';\n  const CLASS_NAME = 'output_bokeh rendered_html';\n\n  /**\n   * Render data to the DOM node\n   */\n  function render(props, node) {\n    const script = document.createElement(\"script\");\n    node.appendChild(script);\n  }\n\n  /**\n   * Handle when an output is cleared or removed\n   */\n  function handleClearOutput(event, handle) {\n    const cell = handle.cell;\n\n    const id = cell.output_area._bokeh_element_id;\n    const server_id = cell.output_area._bokeh_server_id;\n    // Clean up Bokeh references\n    if (id != null && id in Bokeh.index) {\n      Bokeh.index[id].model.document.clear();\n      delete Bokeh.index[id];\n    }\n\n    if (server_id !== undefined) {\n      // Clean up Bokeh references\n      const cmd_clean = \"from bokeh.io.state import curstate; print(curstate().uuid_to_server['\" + server_id + \"'].get_sessions()[0].document.roots[0]._id)\";\n      cell.notebook.kernel.execute(cmd_clean, {\n        iopub: {\n          output: function(msg) {\n            const id = msg.content.text.trim();\n            if (id in Bokeh.index) {\n              Bokeh.index[id].model.document.clear();\n              delete Bokeh.index[id];\n            }\n          }\n        }\n      });\n      // Destroy server and session\n      const cmd_destroy = \"import bokeh.io.notebook as ion; ion.destroy_server('\" + server_id + \"')\";\n      cell.notebook.kernel.execute(cmd_destroy);\n    }\n  }\n\n  /**\n   * Handle when a new output is added\n   */\n  function handleAddOutput(event, handle) {\n    const output_area = handle.output_area;\n    const output = handle.output;\n\n    // limit handleAddOutput to display_data with EXEC_MIME_TYPE content only\n    if ((output.output_type != \"display_data\") || (!Object.prototype.hasOwnProperty.call(output.data, EXEC_MIME_TYPE))) {\n      return\n    }\n\n    const toinsert = output_area.element.find(\".\" + CLASS_NAME.split(' ')[0]);\n\n    if (output.metadata[EXEC_MIME_TYPE][\"id\"] !== undefined) {\n      toinsert[toinsert.length - 1].firstChild.textContent = output.data[JS_MIME_TYPE];\n      // store reference to embed id on output_area\n      output_area._bokeh_element_id = output.metadata[EXEC_MIME_TYPE][\"id\"];\n    }\n    if (output.metadata[EXEC_MIME_TYPE][\"server_id\"] !== undefined) {\n      const bk_div = document.createElement(\"div\");\n      bk_div.innerHTML = output.data[HTML_MIME_TYPE];\n      const script_attrs = bk_div.children[0].attributes;\n      for (let i = 0; i < script_attrs.length; i++) {\n        toinsert[toinsert.length - 1].firstChild.setAttribute(script_attrs[i].name, script_attrs[i].value);\n        toinsert[toinsert.length - 1].firstChild.textContent = bk_div.children[0].textContent\n      }\n      // store reference to server id on output_area\n      output_area._bokeh_server_id = output.metadata[EXEC_MIME_TYPE][\"server_id\"];\n    }\n  }\n\n  function register_renderer(events, OutputArea) {\n\n    function append_mime(data, metadata, element) {\n      // create a DOM node to render to\n      const toinsert = this.create_output_subarea(\n        metadata,\n        CLASS_NAME,\n        EXEC_MIME_TYPE\n      );\n      this.keyboard_manager.register_events(toinsert);\n      // Render to node\n      const props = {data: data, metadata: metadata[EXEC_MIME_TYPE]};\n      render(props, toinsert[toinsert.length - 1]);\n      element.append(toinsert);\n      return toinsert\n    }\n\n    /* Handle when an output is cleared or removed */\n    events.on('clear_output.CodeCell', handleClearOutput);\n    events.on('delete.Cell', handleClearOutput);\n\n    /* Handle when a new output is added */\n    events.on('output_added.OutputArea', handleAddOutput);\n\n    /**\n     * Register the mime type and append_mime function with output_area\n     */\n    OutputArea.prototype.register_mime_type(EXEC_MIME_TYPE, append_mime, {\n      /* Is output safe? */\n      safe: true,\n      /* Index of renderer in `output_area.display_order` */\n      index: 0\n    });\n  }\n\n  // register the mime type if in Jupyter Notebook environment and previously unregistered\n  if (root.Jupyter !== undefined) {\n    const events = require('base/js/events');\n    const OutputArea = require('notebook/js/outputarea').OutputArea;\n\n    if (OutputArea.prototype.mime_types().indexOf(EXEC_MIME_TYPE) == -1) {\n      register_renderer(events, OutputArea);\n    }\n  }\n  if (typeof (root._bokeh_timeout) === \"undefined\" || force === true) {\n    root._bokeh_timeout = Date.now() + 5000;\n    root._bokeh_failed_load = false;\n  }\n\n  const NB_LOAD_WARNING = {'data': {'text/html':\n     \"<div style='background-color: #fdd'>\\n\"+\n     \"<p>\\n\"+\n     \"BokehJS does not appear to have successfully loaded. If loading BokehJS from CDN, this \\n\"+\n     \"may be due to a slow or bad network connection. Possible fixes:\\n\"+\n     \"</p>\\n\"+\n     \"<ul>\\n\"+\n     \"<li>re-rerun `output_notebook()` to attempt to load from CDN again, or</li>\\n\"+\n     \"<li>use INLINE resources instead, as so:</li>\\n\"+\n     \"</ul>\\n\"+\n     \"<code>\\n\"+\n     \"from bokeh.resources import INLINE\\n\"+\n     \"output_notebook(resources=INLINE)\\n\"+\n     \"</code>\\n\"+\n     \"</div>\"}};\n\n  function display_loaded() {\n    const el = document.getElementById(\"c63397fc-ab92-4c9f-b339-9ed648767921\");\n    if (el != null) {\n      el.textContent = \"BokehJS is loading...\";\n    }\n    if (root.Bokeh !== undefined) {\n      if (el != null) {\n        el.textContent = \"BokehJS \" + root.Bokeh.version + \" successfully loaded.\";\n      }\n    } else if (Date.now() < root._bokeh_timeout) {\n      setTimeout(display_loaded, 100)\n    }\n  }\n\n  function run_callbacks() {\n    try {\n      root._bokeh_onload_callbacks.forEach(function(callback) {\n        if (callback != null)\n          callback();\n      });\n    } finally {\n      delete root._bokeh_onload_callbacks\n    }\n    console.debug(\"Bokeh: all callbacks have finished\");\n  }\n\n  function load_libs(css_urls, js_urls, callback) {\n    if (css_urls == null) css_urls = [];\n    if (js_urls == null) js_urls = [];\n\n    root._bokeh_onload_callbacks.push(callback);\n    if (root._bokeh_is_loading > 0) {\n      console.debug(\"Bokeh: BokehJS is being loaded, scheduling callback at\", now());\n      return null;\n    }\n    if (js_urls == null || js_urls.length === 0) {\n      run_callbacks();\n      return null;\n    }\n    console.debug(\"Bokeh: BokehJS not loaded, scheduling load and callback at\", now());\n    root._bokeh_is_loading = css_urls.length + js_urls.length;\n\n    function on_load() {\n      root._bokeh_is_loading--;\n      if (root._bokeh_is_loading === 0) {\n        console.debug(\"Bokeh: all BokehJS libraries/stylesheets loaded\");\n        run_callbacks()\n      }\n    }\n\n    function on_error(url) {\n      console.error(\"failed to load \" + url);\n    }\n\n    for (let i = 0; i < css_urls.length; i++) {\n      const url = css_urls[i];\n      const element = document.createElement(\"link\");\n      element.onload = on_load;\n      element.onerror = on_error.bind(null, url);\n      element.rel = \"stylesheet\";\n      element.type = \"text/css\";\n      element.href = url;\n      console.debug(\"Bokeh: injecting link tag for BokehJS stylesheet: \", url);\n      document.body.appendChild(element);\n    }\n\n    for (let i = 0; i < js_urls.length; i++) {\n      const url = js_urls[i];\n      const element = document.createElement('script');\n      element.onload = on_load;\n      element.onerror = on_error.bind(null, url);\n      element.async = false;\n      element.src = url;\n      console.debug(\"Bokeh: injecting script tag for BokehJS library: \", url);\n      document.head.appendChild(element);\n    }\n  };\n\n  function inject_raw_css(css) {\n    const element = document.createElement(\"style\");\n    element.appendChild(document.createTextNode(css));\n    document.body.appendChild(element);\n  }\n\n  const js_urls = [\"https://cdn.bokeh.org/bokeh/release/bokeh-3.1.1.min.js\", \"https://cdn.bokeh.org/bokeh/release/bokeh-gl-3.1.1.min.js\", \"https://cdn.bokeh.org/bokeh/release/bokeh-widgets-3.1.1.min.js\", \"https://cdn.bokeh.org/bokeh/release/bokeh-tables-3.1.1.min.js\", \"https://cdn.bokeh.org/bokeh/release/bokeh-mathjax-3.1.1.min.js\"];\n  const css_urls = [];\n\n  const inline_js = [    function(Bokeh) {\n      Bokeh.set_log_level(\"info\");\n    },\nfunction(Bokeh) {\n    }\n  ];\n\n  function run_inline_js() {\n    if (root.Bokeh !== undefined || force === true) {\n          for (let i = 0; i < inline_js.length; i++) {\n      inline_js[i].call(root, root.Bokeh);\n    }\nif (force === true) {\n        display_loaded();\n      }} else if (Date.now() < root._bokeh_timeout) {\n      setTimeout(run_inline_js, 100);\n    } else if (!root._bokeh_failed_load) {\n      console.log(\"Bokeh: BokehJS failed to load within specified timeout.\");\n      root._bokeh_failed_load = true;\n    } else if (force !== true) {\n      const cell = $(document.getElementById(\"c63397fc-ab92-4c9f-b339-9ed648767921\")).parents('.cell').data().cell;\n      cell.output_area.append_execute_result(NB_LOAD_WARNING)\n    }\n  }\n\n  if (root._bokeh_is_loading === 0) {\n    console.debug(\"Bokeh: BokehJS loaded, going straight to plotting\");\n    run_inline_js();\n  } else {\n    load_libs(css_urls, js_urls, function() {\n      console.debug(\"Bokeh: BokehJS plotting callback run at\", now());\n      run_inline_js();\n    });\n  }\n}(window));",
      "application/vnd.bokehjs_load.v0+json": ""
     },
     "metadata": {},
     "output_type": "display_data"
    }
   ],
   "source": [
    "import bokeh\n",
    "import bokeh.io\n",
    "import bokeh.plotting\n",
    "\n",
    "bokeh.io.output_notebook()"
   ]
  },
  {
   "cell_type": "code",
   "execution_count": 5,
   "metadata": {},
   "outputs": [
    {
     "name": "stdout",
     "output_type": "stream",
     "text": [
      "supercdms-data/CDMS/UMN/R68/Raw/07180808_1558/07180808_1558_F0001.mid.gz\n",
      "supercdms-data/CDMS/UMN/R68/Raw/07180808_1558/07180808_1558_F0002.mid.gz\n",
      "supercdms-data/CDMS/UMN/R68/Raw/07180808_1558/07180808_1558_F0003.mid.gz\n",
      "supercdms-data/CDMS/UMN/R68/Raw/07180808_1558/07180808_1558_F0004.mid.gz\n",
      "supercdms-data/CDMS/UMN/R68/Raw/07180808_1558/07180808_1558_F0005.mid.gz\n",
      "supercdms-data/CDMS/UMN/R68/Raw/07180808_1558/07180808_1558_F0006.mid.gz\n",
      "int64 (690028440,)\n"
     ]
    }
   ],
   "source": [
    "def non_decreasing(L):\n",
    "    return all(x<=y for x, y in zip(L, L[1:]))\n",
    "\n",
    "def non_increasing(L):\n",
    "    return all(x>=y for x, y in zip(L, L[1:]))\n",
    "\n",
    "def monotonic(L):\n",
    "    return non_decreasing(L) or non_increasing(L)\n",
    "\n",
    "# /////////////////////////////////////////\n",
    "def GetBanksData(filename):\n",
    "    mfile = midas.file_reader.MidasFile(filename)\n",
    "    ret=[]\n",
    "    for E,evt in enumerate(mfile):\n",
    "      timestamp=evt.header.timestamp\n",
    "      ret.extend([(timestamp,bank) for __, bank in evt.banks.items() if bank.data])\n",
    "    return ret\n",
    "\n",
    "timesteps,pulse=[],[]\n",
    "bank_name=None\n",
    "\n",
    "for F,filename in enumerate(files):\n",
    "    print(filename)\n",
    "    for timetamp,bank in GetBanksData(filename):\n",
    "        assert(bank_name is None or bank.name==bank_name)\n",
    "        bank_name=bank.name\n",
    "\n",
    "        # not sure if append here is \"logically right\"\n",
    "        timesteps.append(timetamp)\n",
    "        pulse.extend(bank.data)\n",
    "    \n",
    "    if F==5:\n",
    "        break\n",
    "\n",
    "assert(non_decreasing(timesteps))\n",
    "\n",
    "import numpy as np\n",
    "pulse=np.array(pulse)\n",
    "print(pulse.dtype,pulse.shape)"
   ]
  },
  {
   "cell_type": "code",
   "execution_count": 15,
   "metadata": {},
   "outputs": [
    {
     "name": "stdout",
     "output_type": "stream",
     "text": [
      "IDX write uncompressed done logic_box 0 690028440\n",
      "compress dataset done\n"
     ]
    }
   ],
   "source": [
    "import shutil\n",
    "import numpy as np\n",
    "import OpenVisus as ov\n",
    "idx_filename='/mnt/c/big/visus-datasets/signal1d_slac/visus.idx'\n",
    "\n",
    "N=pulse.shape[0]\n",
    "# shutil.rmtree(os.path.dirname(idx_filename), ignore_errors=True)\n",
    "db=ov.CreateIdx(\n",
    "  url=idx_filename, \n",
    "  dims=[N],\n",
    "  fields=[ov.Field('data',ov.DType.fromString(str(pulse.dtype)),'row_major')], \n",
    "  compression=\"raw\", \n",
    "  arco=f\"{4*1024*1024}\")\n",
    "assert(os.path.isfile(idx_filename))\n",
    "\n",
    "logic_box=logic_box=ov.BoxNi(ov.PointNi([0]),ov.PointNi([N]))\n",
    "db.write(pulse,  logic_box=logic_box)\n",
    "print(\"IDX write uncompressed done\",\"logic_box\",logic_box.toString())\n",
    "\n",
    "# use the python version\n",
    "db=ov.LoadDataset(idx_filename)\n",
    "db.compressDataset(\"zip\") \n",
    "print(\"compress dataset done\")"
   ]
  },
  {
   "cell_type": "code",
   "execution_count": 16,
   "metadata": {},
   "outputs": [
    {
     "name": "stdout",
     "output_type": "stream",
     "text": [
      "logic_box ([0], [690028440])\n",
      "db.getMaxResolution() 30\n",
      "IDX read done dtype=int64 shape=(2633,) vmin=0 vmax=3221225488\n"
     ]
    }
   ],
   "source": [
    "logic_box=db.getLogicBox()\n",
    "print(\"logic_box\",logic_box)\n",
    "print(\"db.getMaxResolution()\",db.getMaxResolution())\n",
    "\n",
    "resolution=12\n",
    "data=db.read(logic_box=logic_box, max_resolution=resolution)\n",
    "print(f\"IDX read done dtype={data.dtype} shape={data.shape} vmin={np.min(data)} vmax={np.max(data)}\")"
   ]
  },
  {
   "cell_type": "code",
   "execution_count": 14,
   "metadata": {},
   "outputs": [
    {
     "data": {
      "text/html": [
       "\n",
       "  <div id=\"f3b07642-086c-4fcc-b330-eb0b900918c6\" data-root-id=\"p1140\" style=\"display: contents;\"></div>\n"
      ]
     },
     "metadata": {},
     "output_type": "display_data"
    },
    {
     "data": {
      "application/javascript": "(function(root) {\n  function embed_document(root) {\n  const docs_json = {\"a4db4df5-a0c4-4d8d-b998-0f41ce38e91b\":{\"version\":\"3.1.1\",\"title\":\"Bokeh Application\",\"defs\":[],\"roots\":[{\"type\":\"object\",\"name\":\"Figure\",\"id\":\"p1140\",\"attributes\":{\"x_range\":{\"type\":\"object\",\"name\":\"DataRange1d\",\"id\":\"p1141\"},\"y_range\":{\"type\":\"object\",\"name\":\"DataRange1d\",\"id\":\"p1142\"},\"x_scale\":{\"type\":\"object\",\"name\":\"LinearScale\",\"id\":\"p1154\"},\"y_scale\":{\"type\":\"object\",\"name\":\"LinearScale\",\"id\":\"p1156\"},\"title\":{\"type\":\"object\",\"name\":\"Title\",\"id\":\"p1143\",\"attributes\":{\"text\":\"Simple line example\"}},\"renderers\":[{\"type\":\"object\",\"name\":\"GlyphRenderer\",\"id\":\"p1193\",\"attributes\":{\"data_source\":{\"type\":\"object\",\"name\":\"ColumnDataSource\",\"id\":\"p1187\",\"attributes\":{\"selected\":{\"type\":\"object\",\"name\":\"Selection\",\"id\":\"p1189\",\"attributes\":{\"indices\":[],\"line_indices\":[]}},\"selection_policy\":{\"type\":\"object\",\"name\":\"UnionRenderers\",\"id\":\"p1188\"},\"data\":{\"type\":\"map\",\"entries\":[[\"x\",[0,1,2,3,4,5,6,7,8,9,10,11,12,13,14,15,16,17,18,19,20,21,22,23,24,25,26,27,28,29,30,31,32,33,34,35,36,37,38,39,40,41,42,43,44,45,46,47,48,49,50,51,52,53,54,55,56,57,58,59,60,61,62,63,64,65,66,67,68,69,70,71,72,73,74,75,76,77,78,79,80,81,82,83,84,85,86,87,88,89,90,91,92,93,94,95,96,97,98,99,100,101,102,103,104,105,106,107,108,109,110,111,112,113,114,115,116,117,118,119,120,121,122,123,124,125,126,127,128,129,130,131,132,133,134,135,136,137,138,139,140,141,142,143,144,145,146,147,148,149,150,151,152,153,154,155,156,157,158,159,160,161,162,163,164,165,166,167,168,169,170,171,172,173,174,175,176,177,178,179,180,181,182,183,184,185,186,187,188,189,190,191,192,193,194,195,196,197,198,199,200,201,202,203,204,205,206,207,208,209,210,211,212,213,214,215,216,217,218,219,220,221,222,223,224,225,226,227,228,229,230,231,232,233,234,235,236,237,238,239,240,241,242,243,244,245,246,247,248,249,250,251,252,253,254,255,256,257,258,259,260,261,262,263,264,265,266,267,268,269,270,271,272,273,274,275,276,277,278,279,280,281,282,283,284,285,286,287,288,289,290,291,292,293,294,295,296,297,298,299,300,301,302,303,304,305,306,307,308,309,310,311,312,313,314,315,316,317,318,319,320,321,322,323,324,325,326,327,328,329,330,331,332,333,334,335,336,337,338,339,340,341,342,343,344,345,346,347,348,349,350,351,352,353,354,355,356,357,358,359,360,361,362,363,364,365,366,367,368,369,370,371,372,373,374,375,376,377,378,379,380,381,382,383,384,385,386,387,388,389,390,391,392,393,394,395,396,397,398,399,400,401,402,403,404,405,406,407,408,409,410,411,412,413,414,415,416,417,418,419,420,421,422,423,424,425,426,427,428,429,430,431,432,433,434,435,436,437,438,439,440,441,442,443,444,445,446,447,448,449,450,451,452,453,454,455,456,457,458,459,460,461,462,463,464,465,466,467,468,469,470,471,472,473,474,475,476,477,478,479,480,481,482,483,484,485,486,487,488,489,490,491,492,493,494,495,496,497,498,499,500,501,502,503,504,505,506,507,508,509,510,511,512,513,514,515,516,517,518,519,520,521,522,523,524,525,526,527,528,529,530,531,532,533,534,535,536,537,538,539,540,541,542,543,544,545,546,547,548,549,550,551,552,553,554,555,556,557,558,559,560,561,562,563,564,565,566,567,568,569,570,571,572,573,574,575,576,577,578,579,580,581,582,583,584,585,586,587,588,589,590,591,592,593,594,595,596,597,598,599,600,601,602,603,604,605,606,607,608,609,610,611,612,613,614,615,616,617,618,619,620,621,622,623,624,625,626,627,628,629,630,631,632,633,634,635,636,637,638,639,640,641,642,643,644,645,646,647,648,649,650,651,652,653,654,655,656,657,658,659,660,661,662,663,664,665,666,667,668,669,670,671,672,673,674,675,676,677,678,679,680,681,682,683,684,685,686,687,688,689,690,691,692,693,694,695,696,697,698,699,700,701,702,703,704,705,706,707,708,709,710,711,712,713,714,715,716,717,718,719,720,721,722,723,724,725,726,727,728,729,730,731,732,733,734,735,736,737,738,739,740,741,742,743,744,745,746,747,748,749,750,751,752,753,754,755,756,757,758,759,760,761,762,763,764,765,766,767,768,769,770,771,772,773,774,775,776,777,778,779,780,781,782,783,784,785,786,787,788,789,790,791,792,793,794,795,796,797,798,799,800,801,802,803,804,805,806,807,808,809,810,811,812,813,814,815,816,817,818,819,820,821,822,823,824,825,826,827,828,829,830,831,832,833,834,835,836,837,838,839,840,841,842,843,844,845,846,847,848,849,850,851,852,853,854,855,856,857,858,859,860,861,862,863,864,865,866,867,868,869,870,871,872,873,874,875,876,877,878,879,880,881,882,883,884,885,886,887,888,889,890,891,892,893,894,895,896,897,898,899,900,901,902,903,904,905,906,907,908,909,910,911,912,913,914,915,916,917,918,919,920,921,922,923,924,925,926,927,928,929,930,931,932,933,934,935,936,937,938,939,940,941,942,943,944,945,946,947,948,949,950,951,952,953,954,955,956,957,958,959,960,961,962,963,964,965,966,967,968,969,970,971,972,973,974,975,976,977,978,979,980,981,982,983,984,985,986,987,988,989,990,991,992,993,994,995,996,997,998,999,1000,1001,1002,1003,1004,1005,1006,1007,1008,1009,1010,1011,1012,1013,1014,1015,1016,1017,1018,1019,1020,1021,1022,1023,1024,1025,1026,1027,1028,1029,1030,1031,1032,1033,1034,1035,1036,1037,1038,1039,1040,1041,1042,1043,1044,1045,1046,1047,1048,1049,1050,1051,1052,1053,1054,1055,1056,1057,1058,1059,1060,1061,1062,1063,1064,1065,1066,1067,1068,1069,1070,1071,1072,1073,1074,1075,1076,1077,1078,1079,1080,1081,1082,1083,1084,1085,1086,1087,1088,1089,1090,1091,1092,1093,1094,1095,1096,1097,1098,1099,1100,1101,1102,1103,1104,1105,1106,1107,1108,1109,1110,1111,1112,1113,1114,1115,1116,1117,1118,1119,1120,1121,1122,1123,1124,1125,1126,1127,1128,1129,1130,1131,1132,1133,1134,1135,1136,1137,1138,1139,1140,1141,1142,1143,1144,1145,1146,1147,1148,1149,1150,1151,1152,1153,1154,1155,1156,1157,1158,1159,1160,1161,1162,1163,1164,1165,1166,1167,1168,1169,1170,1171,1172,1173,1174,1175,1176,1177,1178,1179,1180,1181,1182,1183,1184,1185,1186,1187,1188,1189,1190,1191,1192,1193,1194,1195,1196,1197,1198,1199,1200,1201,1202,1203,1204,1205,1206,1207,1208,1209,1210,1211,1212,1213,1214,1215,1216,1217,1218,1219,1220,1221,1222,1223,1224,1225,1226,1227,1228,1229,1230,1231,1232,1233,1234,1235,1236,1237,1238,1239,1240,1241,1242,1243,1244,1245,1246,1247,1248,1249,1250,1251,1252,1253,1254,1255,1256,1257,1258,1259,1260,1261,1262,1263,1264,1265,1266,1267,1268,1269,1270,1271,1272,1273,1274,1275,1276,1277,1278,1279,1280,1281,1282,1283,1284,1285,1286,1287,1288,1289,1290,1291,1292,1293,1294,1295,1296,1297,1298,1299,1300,1301,1302,1303,1304,1305,1306,1307,1308,1309,1310,1311,1312,1313,1314,1315,1316,1317,1318,1319,1320,1321,1322,1323,1324,1325,1326,1327,1328,1329,1330,1331,1332,1333,1334,1335,1336,1337,1338,1339,1340,1341,1342,1343,1344,1345,1346,1347,1348,1349,1350,1351,1352,1353,1354,1355,1356,1357,1358,1359,1360,1361,1362,1363,1364,1365,1366,1367,1368,1369,1370,1371,1372,1373,1374,1375,1376,1377,1378,1379,1380,1381,1382,1383,1384,1385,1386,1387,1388,1389,1390,1391,1392,1393,1394,1395,1396,1397,1398,1399,1400,1401,1402,1403,1404,1405,1406,1407,1408,1409,1410,1411,1412,1413,1414,1415,1416,1417,1418,1419,1420,1421,1422,1423,1424,1425,1426,1427,1428,1429,1430,1431,1432,1433,1434,1435,1436,1437,1438,1439,1440,1441,1442,1443,1444,1445,1446,1447,1448,1449,1450,1451,1452,1453,1454,1455,1456,1457,1458,1459,1460,1461,1462,1463,1464,1465,1466,1467,1468,1469,1470,1471,1472,1473,1474,1475,1476,1477,1478,1479,1480,1481,1482,1483,1484,1485,1486,1487,1488,1489,1490,1491,1492,1493,1494,1495,1496,1497,1498,1499,1500,1501,1502,1503,1504,1505,1506,1507,1508,1509,1510,1511,1512,1513,1514,1515,1516,1517,1518,1519,1520,1521,1522,1523,1524,1525,1526,1527,1528,1529,1530,1531,1532,1533,1534,1535,1536,1537,1538,1539,1540,1541,1542,1543,1544,1545,1546,1547,1548,1549,1550,1551,1552,1553,1554,1555,1556,1557,1558,1559,1560,1561,1562,1563,1564,1565,1566,1567,1568,1569,1570,1571,1572,1573,1574,1575,1576,1577,1578,1579,1580,1581,1582,1583,1584,1585,1586,1587,1588,1589,1590,1591,1592,1593,1594,1595,1596,1597,1598,1599,1600,1601,1602,1603,1604,1605,1606,1607,1608,1609,1610,1611,1612,1613,1614,1615,1616,1617,1618,1619,1620,1621,1622,1623,1624,1625,1626,1627,1628,1629,1630,1631,1632,1633,1634,1635,1636,1637,1638,1639,1640,1641,1642,1643,1644,1645,1646,1647,1648,1649,1650,1651,1652,1653,1654,1655,1656,1657,1658,1659,1660,1661,1662,1663,1664,1665,1666,1667,1668,1669,1670,1671,1672,1673,1674,1675,1676,1677,1678,1679,1680,1681,1682,1683,1684,1685,1686,1687,1688,1689,1690,1691,1692,1693,1694,1695,1696,1697,1698,1699,1700,1701,1702,1703,1704,1705,1706,1707,1708,1709,1710,1711,1712,1713,1714,1715,1716,1717,1718,1719,1720,1721,1722,1723,1724,1725,1726,1727,1728,1729,1730,1731,1732,1733,1734,1735,1736,1737,1738,1739,1740,1741,1742,1743,1744,1745,1746,1747,1748,1749,1750,1751,1752,1753,1754,1755,1756,1757,1758,1759,1760,1761,1762,1763,1764,1765,1766,1767,1768,1769,1770,1771,1772,1773,1774,1775,1776,1777,1778,1779,1780,1781,1782,1783,1784,1785,1786,1787,1788,1789,1790,1791,1792,1793,1794,1795,1796,1797,1798,1799,1800,1801,1802,1803,1804,1805,1806,1807,1808,1809,1810,1811,1812,1813,1814,1815,1816,1817,1818,1819,1820,1821,1822,1823,1824,1825,1826,1827,1828,1829,1830,1831,1832,1833,1834,1835,1836,1837,1838,1839,1840,1841,1842,1843,1844,1845,1846,1847,1848,1849,1850,1851,1852,1853,1854,1855,1856,1857,1858,1859,1860,1861,1862,1863,1864,1865,1866,1867,1868,1869,1870,1871,1872,1873,1874,1875,1876,1877,1878,1879,1880,1881,1882,1883,1884,1885,1886,1887,1888,1889,1890,1891,1892,1893,1894,1895,1896,1897,1898,1899,1900,1901,1902,1903,1904,1905,1906,1907,1908,1909,1910,1911,1912,1913,1914,1915,1916,1917,1918,1919,1920,1921,1922,1923,1924,1925,1926,1927,1928,1929,1930,1931,1932,1933,1934,1935,1936,1937,1938,1939,1940,1941,1942,1943,1944,1945,1946,1947,1948,1949,1950,1951,1952,1953,1954,1955,1956,1957,1958,1959,1960,1961,1962,1963,1964,1965,1966,1967,1968,1969,1970,1971,1972,1973,1974,1975,1976,1977,1978,1979,1980,1981,1982,1983,1984,1985,1986,1987,1988,1989,1990,1991,1992,1993,1994,1995,1996,1997,1998,1999,2000,2001,2002,2003,2004,2005,2006,2007,2008,2009,2010,2011,2012,2013,2014,2015,2016,2017,2018,2019,2020,2021,2022,2023,2024,2025,2026,2027,2028,2029,2030,2031,2032,2033,2034,2035,2036,2037,2038,2039,2040,2041,2042,2043,2044,2045,2046,2047,2048,2049,2050,2051,2052,2053,2054,2055,2056,2057,2058,2059,2060,2061,2062,2063,2064,2065,2066,2067,2068,2069,2070,2071,2072,2073,2074,2075,2076,2077,2078,2079,2080,2081,2082,2083,2084,2085,2086,2087,2088,2089,2090,2091,2092,2093,2094,2095,2096,2097,2098,2099,2100,2101,2102,2103,2104,2105,2106,2107,2108,2109,2110,2111,2112,2113,2114,2115,2116,2117,2118,2119,2120,2121,2122,2123,2124,2125,2126,2127,2128,2129,2130,2131,2132,2133,2134,2135,2136,2137,2138,2139,2140,2141,2142,2143,2144,2145,2146,2147,2148,2149,2150,2151,2152,2153,2154,2155,2156,2157,2158,2159,2160,2161,2162,2163,2164,2165,2166,2167,2168,2169,2170,2171,2172,2173,2174,2175,2176,2177,2178,2179,2180,2181,2182,2183,2184,2185,2186,2187,2188,2189,2190,2191,2192,2193,2194,2195,2196,2197,2198,2199,2200,2201,2202,2203,2204,2205,2206,2207,2208,2209,2210,2211,2212,2213,2214,2215,2216,2217,2218,2219,2220,2221,2222,2223,2224,2225,2226,2227,2228,2229,2230,2231,2232,2233,2234,2235,2236,2237,2238,2239,2240,2241,2242,2243,2244,2245,2246,2247,2248,2249,2250,2251,2252,2253,2254,2255,2256,2257,2258,2259,2260,2261,2262,2263,2264,2265,2266,2267,2268,2269,2270,2271,2272,2273,2274,2275,2276,2277,2278,2279,2280,2281,2282,2283,2284,2285,2286,2287,2288,2289,2290,2291,2292,2293,2294,2295,2296,2297,2298,2299,2300,2301,2302,2303,2304,2305,2306,2307,2308,2309,2310,2311,2312,2313,2314,2315,2316,2317,2318,2319,2320,2321,2322,2323,2324,2325,2326,2327,2328,2329,2330,2331,2332,2333,2334,2335,2336,2337,2338,2339,2340,2341,2342,2343,2344,2345,2346,2347,2348,2349,2350,2351,2352,2353,2354,2355,2356,2357,2358,2359,2360,2361,2362,2363,2364,2365,2366,2367,2368,2369,2370,2371,2372,2373,2374,2375,2376,2377,2378,2379,2380,2381,2382,2383,2384,2385,2386,2387,2388,2389,2390,2391,2392,2393,2394,2395,2396,2397,2398,2399,2400,2401,2402,2403,2404,2405,2406,2407,2408,2409,2410,2411,2412,2413,2414,2415,2416,2417,2418,2419,2420,2421,2422,2423,2424,2425,2426,2427,2428,2429,2430,2431,2432,2433,2434,2435,2436,2437,2438,2439,2440,2441,2442,2443,2444,2445,2446,2447,2448,2449,2450,2451,2452,2453,2454,2455,2456,2457,2458,2459,2460,2461,2462,2463,2464,2465,2466,2467,2468,2469,2470,2471,2472,2473,2474,2475,2476,2477,2478,2479,2480,2481,2482,2483,2484,2485,2486,2487,2488,2489,2490,2491,2492,2493,2494,2495,2496,2497,2498,2499,2500,2501,2502,2503,2504,2505,2506,2507,2508,2509,2510,2511,2512,2513,2514,2515,2516,2517,2518,2519,2520,2521,2522,2523,2524,2525,2526,2527,2528,2529,2530,2531,2532,2533,2534,2535,2536,2537,2538,2539,2540,2541,2542,2543,2544,2545,2546,2547,2548,2549,2550,2551,2552,2553,2554,2555,2556,2557,2558,2559,2560,2561,2562,2563,2564,2565,2566,2567,2568,2569,2570,2571,2572,2573,2574,2575,2576,2577,2578,2579,2580,2581,2582,2583,2584,2585,2586,2587,2588,2589,2590,2591,2592,2593,2594,2595,2596,2597,2598,2599,2600,2601,2602,2603,2604,2605,2606,2607,2608,2609,2610,2611,2612,2613,2614,2615,2616,2617,2618,2619,2620,2621,2622,2623,2624,2625,2626,2627,2628,2629,2630,2631,2632]],[\"y\",{\"type\":\"ndarray\",\"array\":[3221225488,216599782,0,234556926,250023661,0,231214541,261033873,221842748,216403168,1084899532,221580599,0,240324180,276959370,0,237768233,259198834,222891337,216141023,242093675,232918501,0,242486903,228265365,0,233639402,241634920,219745568,222760266,234753542,222760263,0,248188623,222956873,0,237375017,233836013,220400920,214043847,233573873,355603762,0,268177404,223022407,0,230559166,241241697,215682267,214109376,243732104,232066521,0,290918740,221711674,0,231411152,236588569,231476679,212274342,240324177,225643893,0,228986280,224333150,0,239734344,229248427,217713918,214764746,236916257,225054053,0,230100406,233770478,0,231083456,232984036,219090193,215354583,240782936,222563648,0,228265365,324539221,0,239734353,238620218,224595296,223874387,242814584,224202079,0,235802122,269946902,0,213060787,355276079,218041598,218500358,245829289,252055304,0,236326424,239930960,0,243535492,355407151,237440554,0,256577351,221908274,0,266473439,279842995,0,212470951,338498607,218303752,0,243404417,238358075,0,270536741,257036120,0,218303749,338105384,217976067,0,244977311,220073249,0,242880119,239668813,0,210635916,1073692671,215354581,0,259985281,220269854,0,227282320,230362560,0,225971576,1073692671,226299265,0,235408903,227347845,0,242290289,244059786,0,216730863,996162397,218762502,0,241045089,223022416,0,230624700,242224753,218762502,214240454,995375954,221449522,0,243994254,226823557,0,253759260,252448527,237833776,226037108,251203322,299962849,0,239078977,224136533,0,245632675,264048575,225840509,214961362,239078976,225906027,0,236719639,241045090,0,271388719,274206804,239275592,236654110,257625950,241700450,0,250547948,236719639,0,240586328,241503847,237047327,212602031,240258643,233442792,0,284496119,265162695,0,229379502,232263128,215289046,217779449,234098162,269684751,0,255135544,253300505,0,220597542,2147254268,225643885,217779446,241372769,632038823,0,231935440,243404420,0,222825801,355669293,216534246,0,233836019,219483420,0,301011449,234229240,0,230624711,366810448,213847232,0,261033874,236523024,0,243601027,247992004,0,256905037,338301992,233836014,0,262082463,233115107,0,246288047,244387468,0,215878884,338039847,221515056,0,242880124,223677780,0,263393206,235474444,0,212143267,1073692671,269553679,0,246812344,224857455,0,229510575,236129809,0,217779444,1073692671,217255163,0,238751295,220728610,0,275845235,275583088,0,233639401,997931897,225119592,0,287707429,253628181,0,253169426,253234964,221711665,215747803,998980492,221908279,0,246222507,237571629,0,234556930,234753534,218893575,215223515,630793623,215944414,0,253169428,226954641,0,240914012,236326419,215944422,211029140,233246186,221973824,0,237964850,230755778,0,242421366,232328670,243273340,219417873,242028141,224333157,0,231738832,239865421,0,226495873,236260882,215878873,211029141,243404415,254086943,0,356586844,252776208,0,237637160,238358069,230624701,219680020,365303239,626074972,0,283447526,282792154,0,232066518,2147254268,217451761,220859690,244780691,286003470,0,340530258,246615733,0,427563401,355407153,218500363,0,233967089,232263128,0,304812605,255397687,0,217386230,355407152,219942171,0,237571626,266997735,0,247926470,250416870,0,215944417,338367531,216861930,0,244846233,295440795,217320694,241307236,244125330,0,225381744,1073692671,221383993,0,244321937,224595307,2204140378,245698213,240062030,0,216730857,1073692671,217910530,0,241897063,224071002,0,262606757,270798886,0,224791906,998128513,223284554,0,250482416,238423605,0,262016923,268046336,0,227741081,995310423,228855206,0,241176158,221711672,0,354358583,231935443,246222507,234622456,1028799727,234294777,0,251399926,226692486,0,248385232,241241699,339088453,216665324,250941173,231345600,0,246746798,235474436,0,231673296,235933205,286003469,220335390,239865420,227085708,0,238227002,242814583,0,231607763,256184132,215747805,210308230,235212292,292884862,0,229772724,270798887,0,251662082,251596545,227020166,220466464,243994250,233836025,0,231476685,233770482,0,218500349,233377259,218303740,223415633,240848474,221973822,0,229838263,260312963,0,221580594,355734834,220925227,215026896,241962603,220204314,0,230428092,239013430,0,213191864,355472687,217517305,0,238095922,254545713,0,252186372,239603275,0,218959122,338170920,227741074,0,251137788,234622451,0,228199832,231935446,0,218631428,338105384,228068749,0,239799886,220204320,0,239734349,246484661,0,255987521,1073692671,223022413,0,243142268,295637407,2209383350,239144509,250744559,0,265424848,1073692671,246419132,0,246812348,232459741,0,236260887,245829285,0,219417880,999242638,220204322,0,281284782,225316201,0,272961612,239668813,218107138,210046081,997276529,214764754,0,230428096,219286801,0,232852955,243535496,231869905,226626940,1088307432,222629190,0,235539974,222039354,0,226233724,234950149,217124082,230034862,244518548,235015675,0,238358070,225643888,0,242880124,580526746,271323182,245960369,263786429,224922988,0,233442797,224071007,0,231411146,265752534,231804376,226692481,249761512,243994259,0,352064675,273682509,0,260509573,269684757,218434821,218893575,247795397,228199834,0,231542224,244387475,0,235474441,269094918,223546712,215092433,263917502,221449520,0,231345607,235015684,0,256970580,355603762,236195356,233770483,251858694,236260893,0,232197592,237112868,0,212929715,355407151,230362557,0,241372773,231017927,0,239537734,239472200,0,212077730,337908772,216665326,0,240651866,228593054,0,332403665,250679026,0,210832537,338236456,215682268,0,233639404,260312963,0,241241698,244321937,0,221842748,1073692671,217058537,0,236588571,222170423,0,234491384,233377260,0,228920737,1073692671,226823554,0,243404425,232459740,0,229838261,243142269,0,236654110,997473139,297734592,0,242159217,229445037,0,237375019,238554676,219548941,379131586,997342067,244584083,0,253431582,268374011,0,236195347,238882366,219352337,213388469,262410149,236195350,0,252972821,322900807,0,240586327,244715157,223743321,218893586,242683518,231869900,0,238095918,257363800,0,240258649,240455255,222694729,213650614,240782939,223808858,0,228724128,218500360,0,228789668,263393207,225119593,224791907,248581840,248516303,0,256577351,251268858,0,234491387,253955879,223939925,215157972,249106139,230886853,0,241307233,294588812,0,216861929,2147254268,246550201,231149005,262737834,236785183,0,266080223,243076738,0,338105396,355407152,226430335,0,273092684,240651862,0,246615731,247992012,0,400234479,355407151,229379497,0,242421369,237899317,0,228461979,232197590,0,212339888,338236458,214830279,0,239013434,218434820,0,230362552,245960363,0,223219021,338433065,243469949,0,271388719,244387471,0,249368289,561127798,0,323359560,1073692671,224922986,0,247664328,231411148,0,238554677,241438298,0,214895833,1073692671,231345607,0,247598786,231345611,0,234425852,237833773,0,212012195,999963545,217058546,0,261099408,229117351,0,231411147,234950148,217386224,216534252,999439250,219942165,0,365172164,252317443,0,250744559,356390202,369694229,236850718,236195351,217124085,0,234098163,255004470,0,228593054,358421851,280891584,234753538,254086951,234622457,0,248712911,231738827,0,240455257,238685756,235277831,215485653,240127565,244911733,0,233311719,236588570,0,227413392,232066517,222498120,240520794,247205567,230034874,0,284299509,272764993,0,229576110,256642894,242159221,229772720,251072253,236457494,0,249630432,236916259,0,215026898,2147254268,216861933,211422356,257036112,228920739,0,232656351,244649617,0,213519542,355800371,216927473,0,233967089,223284561,0,230493630,234884606,0,228789669,338170918,218172671,0,235867663,221318450,0,258150247,229576110,0,546578584,338105385,414128307,0,236391961,285085956,217976064,236785186,235539976,0,226102656,1073692671,222563653,0,241438311,223874393,2202960723,255463229,235605518,0,211881114,1073692671,226823553,0,234360311,224857449,0,232132050,252317447,0,213978307,996555624,215747804,0,231345612,252776208,0,241700453,243404418,0,215682261,997407601,224464224,0,235539980,222432572,0,231345606,235867665,217058545,218828043,1042169358,223481167,0,249106135,221777201,0,224202079,233901560,217124074,460856183,245173918,228986272,0,405674035,222956886,0,234687996,241962605,222760262,214043845,236457499,220859691,0,243273345,234687992,0,235671046,237833776,218500354,212470958,235605516,234491382,0,232000974,235146757,0,232787426,251989769,228986275,215878880,238685750,221449527,0,237768232,239930954,0,229641648,300749294,233639404,218959116,239275583,223415631,0,228920742,240979549,0,228527513,355276078,226758025,221973815,242552433,276238456,0,234950141,236588572,0,213454004,355407150,243404421,0,241372770,230428088,0,245173919,314380999,0,220663075,338236458,220138778,0,239013446,228396449,0,232132050,237112866,0,219417867,338105382,216665322,0,236195341,220204314,0,249106136,245173916,0,216665324,1073692671,223022409,0,237964847,220728609,2208334748,229772716,230821313,0,213191867,1073692671,222432570,0,236654109,232721895,0,640427567,251924226,0,212798634,999373712,215289047,0,239668810,237243943,0,233967089,239341125,216665325,244649627,997931901,235867661,0,252186377,239472204,0,233573865,237637166,220990763,219745552,1088110846,223415640,0,239537736,224791915,0,233115109,234819071,222104891,223481171,238292534,224857443,0,235933205,224857449,0,255135542,253038350,228658591,219221259,243928711,227609996,0,235605516,226102648,0,233180651,246353578,221908281,216403173,238030388,355407155,0,229707185,233049566,0,227937687,232132053,217386230,274534494,235605516,219614487,0,227282315,240586328,0,214699205,544612477,274731099,243863181,313135782,280236212,0,571351545,243535489,0,212667562,355472689,219024655,213912766,236654110,231804360,0,233180645,237178402,0,214699210,355210542,219483416,0,245763748,232394200,0,235539979,236523032,0,213847230,338433068,218500360,0,292360558,238751287,0,240717399,532225991,0,214830286,338105384,224464229,0,238161456,232590809,0,234294774,237112866,0,212339882,1073692671,216927467,0,235212295,262410145,0,248516307,258740073,0,220794143,1073692671,232525276,0,237375015,243011193,0,286396693,271585326,0,225709432,997931899,236785181,0,272764986,235081221,0,241307235,241569380,221056301,223546712,997473140,220990767,0,243469964,224988515,0,231345606,237702696,218500356,212798631,243404414,228789663,0,241700459,232787428,0,239013435,322900808,219614484,218172675,238685749,291049812,0,252448523,233442791,0,453647112,289149243,241765991,212733106,235867665,497753583,0,253300507,228265372,0,236326427,524033857,232852962,220466465,461314964,236981791,0,235605514,239734345,0,238489138,234753534,216534252,213519548,236391960,221252906,0,235015681,237964843,0,212405416,2147254268,215551192,244518551,268701701,240651861,0,237702703,250613486,0,214699214,355538228,226430331,0,243863175,247271092,0,237243943,247205559,0,223219023,355407149,217648378,0,241700457,221908290,0,243142269,236326422,0,211487902,338039847,229445035,0,236523038,223022418,0,240127571,261492628,0,478420101,338105383,228134298,0,238292528,224333153,0,236129802,234032629,0,210242692,1073692671,249433826,0,237375013,239341128,0,238489146,277352585,0,216403175,1073692671,241176166,0,247533248,229576110,0,237243945,241372771,0,229576105,996293474,235736596,0,243601026,224726370,0,230034871,238358074,215616725,238161451,997931901,235474438,0,254152481,383063770,0,238685754,237571623,219811094,218959128,323556173,248254158,0,256315212,245829284,0,238292532,255004470,222170433,218500359,240979550,230559164,0,255987518,233573859,0,231345613,233836016,217451769,212143267,234622457,253234960,0,230690242,431626681,0,253431576,248319697,239013442,221646137,245304989,230297022,0,242028147,237375009,0,224333152,237047332,240717404,214764750,628696441,304419362,0,239472196,240389717,0,215354576,2147254268,441653826,222825798,254742321,229313956,0,233049572,235081222,0,213978304,355538223,225971571,0,243666570,227347848,0,232525273,289542467,0,228396445,338170919,216993003,0,243994250,258477931,0,227675539,231738833,0,209980550,338236456,221187373,0,236523035,294850953,211684509,265031628,237899308,0,210832541,1073692671,284889343,0,239603274,222956879,2203157329,230690243,234163701,0,227020165,1073692671,231607763,0,240062037,226692483,0,261951385,248057548,0,217517302,996031326,217910530,0,247992010,222235966,0,237964843,238161457,0,220335401,997014382,218500363,0,235802126,240848465,0,234687998,242093685,223808855,215092435,1074348077,218107140,0,235998740,225512810,0,231935438,254807853,216075490,290722130,283578597,259329909,0,241241695,228724128,0,232984037,238161466,220073250,211553438,233836016,220073241,0,253300504,221252918,0,226823551,249302750,214043840,213519548,247008959,226758016,0,233311719,234884607,0,228593054,247008955,216665316,213060781,259854205,225512822,0,244977308,247729858,0,313725617,303436315,246156968,213585080,262999983,225578351,0,230362552,601564119,0,215157973,355341616,231542222,352064769,267915259,307696220,0,229510575,232328661,0,212864177,355407152,215092427,0,235408908,220728617,0,270602274,229510574,0,211094680,338236457,218696971,0,238358067,225971568,0,231935442,234425841,0,229838270,337318937,219155724,0,252251916,231476679,0,229903795,232263123,0,221252910,1073692671,220597541,0,236588569,223481172,2209448888,232263129,234622458,0,226889097,1073692671,221056296,0,236195346,224922978,0,227478928,230231482,0,257691489,995965790,450370268,0,305861182,229379509,0,236916253,238620220,218893580,211356821,996883308,246091437,0,235736587,240455251,0,232656346,312808102,254349101,228789663,1086734553,217517301,0,233115108,219614492,0,266211292,252710669,226233722,238620219,252186374,231738837,0,239210050,227020165,0,235802128,237768236,220335398,227872152,241176154,224333146,0,227675539,232984031,0,238226993,250220269,224464226,217058549,287641904,240651871,0,285282559,278991013,0,253366036,242617974,218107138,212929710,236850719,305271345,0,420026656,245239456,0,212536483,11,221252909,212274341,234688003,221056295,0,227741071,234556923,0,210832526,356324670,217976068,212929706,251203322,234556916,0,336729102,246419119,0,221252905,355407151,217910525,0,337122329,223284562,0,236523032,247336642,0,213322939,338301992,217713912,0,235867663,222301499,0,225643896,243601030,0,265162708,338433068,269815831,0,252579600,237178398,0,241045086,259657595,0,213716157,1073692671,216993009,0,249433822,229117349,0,235474436,237047335,0,212995246,1073692671,218828041,0,238095924,222039358,0,230493626,233704943,0,252907285,998390659,217844985,0,234622457,225054058,0,234229234,310448766,224464222,223415632,998521729,236916254,0,291901797,239144505,0,256773971,245763750,223677784,223087944,637347326,228199829,0,240455249,232459740,0,237047324,247729861,229969334,217320692,269684758,239406665,0,246222503,231280075,0,239472203,279253155,297800123,276828290,289214783,267653117,0,234753535,225709432,0,234229236,292622705,215354580,220663081,240062037,225185142,0,231017925,403445775,0,227216777,275124325,224005467,215813344,268898306,225709420,0,630531479,388044581,0,218434824,2147254268,227085708,224136534,247533247,247271102,0,238095912,241503841,0,250547949,355407151,220663082,0,265686992,234688001,0,245567140,236326422,0,249237208,355407148,227675530,0,244846232,363402675,0,243469955,249368284,0,216993011,338105387,217648376,0,242421363,228134294,0,234753534,238226998,0,228986277,338433071,223415632,0,238554680,221056301,0,227085709,256380751,0,216534237,1073692671,225840502,0,264507339,231542220,0,243797633,243535494,0,218631429,1073692671,227478926,0,261951386,243863181,0,232852959,237702701,0,213585085,996686697,223022406,0,242814583,232656349,0,233704934,236981791,217189623,212077732,997014379,220794149,0,347804861,245042838,0,238816825,380966582,300749291,215289049,237702702,244846233,0,286396690,250679018,0,248450767,239734348,219876632,214109380,240455249,224988520,0,260575114,226692487,0,229117356,236588570,218107127,214568132,233901550,253759238,0,257560411,240127562,0,234950148,238685751,217976066,215485652,236457493,305009216,0,232197589,233049570,0,210635920,234491389,225512820,214371531,236719640,233639406,0,253890336,237243944,0,247664324,2147254268,222104894,232394213,248712913,233836014,0,256511819,257757018,0,218434824,355341614,220990762,0,238947902,223677784,0,232328664,271847479,0,218762508,338236456,224529764,0,235933200,226364804,0,233704944,237571622,0,212077736,338105387,217255153,0,253693735,234556924,213847231,236523029,247598786,0,220007714,1073692671,222891339,0,241241693,227478924,2203222867,241503842,236654110,0,219876630,1073692671,222891337,0,243338881,234032632,0,233377259,239472194,0,229772724,997866360,224529764,0,258150244,236523028,0,239668809,242683516,0,227151249,997014382,221908284,0,245894819,293998986,0,233377252,251268861,223087950,219745562,1055801365,222039357,0,237243938,224398697,0,239668809,470817803,240455254,228068762,254545706,234491394,0,245042844,228920735,0,257494878,233704944,215944419,212602028,233246180,220663080,0,232328667,220073248,0,239537728,251858691,218041600,211750048,276303991,224922980,0,235015681,238030385,0,233180646,236654109,216927474,218434825,238489145,230886846,0,236654105,238620216,0,236981789,244256398,224988518,219024648,254676790,230100411,0,416618727,237833770,0,221646127,357176652,221842753,220204323,241766000,231214526,0,289608009,239472197,0,212864178,355276078,217320692,0,239996492,223481166,0,229838258,233115107,0,252907291,337777698,214830283,0,564601262,247795394,0,244321934,245239455,0,223153483,345969829,238030384,0,261951385,233049580,0,235867666,237768232,0,218696972,1073692671,219286802,0,236654103,230100399,2207679379,233967090,252972814,0,220400922,1073692671,217779453,0,238226996,636429796,0,236129803,240455247,0,248385235,999963547,233573870,0,263524280,620897531,0,296358314,295440798,225774967,217451767,999177104,219811102,0,237375016,220138782,0,307434071,242552436,222301508,214568136,1085292740,220728614,0,366286295,285937930,0,258543466,272896067,237243944,245698206,255921986,304615722,0,244321941,252972815,0,241372773,243338883,220990769,214633679,238226996,239275593,0,233573870,237309480,0,244256400,243273345,225054067,223612245,245698211,230165951,0,247008959,249564897,0,242355829,236326430,218107138,220400922,235277824,221252905,0,355865910,297079225,0,242945653,11,237047327,226692488,284168433,233770484,0,266538977,242421366,0,214240448,355341615,216141024,545529979,400824295,230952398,0,229117354,235146760,0,211422364,355603761,218893580,0,234229240,220073251,0,229903796,234819072,0,425990525,336991250,216730863,0,235408905,223939919,0,232787425,234294781,0,214633675,338367528,215682266,0,232263127,217976058,0,233311718,237112861,0,441457240,1073692671,216403175,0,238489144,218369283,0,228330904,240455252,0,211618971,1073692671,215354582,0,254021417,227085700,0,235539976,241765993,0,266211294,997210991,219745564,0,322245428,291836257,0,241438306,243535488,220925230,216337633,999570325,217910526,0,238947905,254676780,0,230231481,255856449,219221262,217910520,241503841,218631431,0,275124324,227282321,0,234360308,271126574,247074493,234360305,257822553,242028143,0,258084712,226168189,0,304615978,288428334,220466467,219155727,244453012,228855207,0,229772723,237637164,0,234687996,357110970,236260881,224464229,240062030,344331431,0,233704945,237309484,0,232263129,234098162,217517303,211029139,237833775,223022417,0,228003218,234425846,0,231411154,2147254268,217451764,211356832,234294773,221318450,0,228527513,239930960,0,210898075,355472690,215747809,0,249695964,217910522,0,325129058,231476683,0,212470957,355603760,219548951,0,249106135,228658599,0,256773965,238226994,0,493297006,338105382,219155721,0,236064283,221842743,0,228003224,257167187,0,232197590,338105383,217320686,0,322310965,224398696,0,234032631,232984037,0,215944412,1073692671,217189624,0,232459741,219745560,0,232066518,249237209,0,213978311,1073692671,219090194,0,235277827,218041601,0,228265369,232000979,0,226299268,997210990,225578350,0,563421588,305402415,0,245042842,259526521,223743319,325587848,996162399,220597540,0,251268862,220138790,0,229903792,242749043,219286802,217320696,239734347,218107143,0,237964852,228855197,0,230231479,243076731,247467712,238292527,262606760,245763756,0,245960361,229576111,0,234425854,237964846,232263129,213519544,235015680,222039354,0,238882367,393680760,0,246746807,251924229,440932941,258871153,637085179,254480171,0,246025899,248254154,0,294064518,322442043,237702696,232066516,295965091,242093680,0,243273346,249171675,0,215026896,2147254268,232656350,217779457,242683509,243076734,0,235474441,260378496,0,211750048,355276081,216730860,0,234032622,222825805,0,229051813,361239947,0,249171677,338170924,242552435,0,239144513,287117597,0,274010202,272175165,0,215485657,338105383,218434820,0,234884608,248319694,214371528,283775209,239341126,0,250875639,1073692671,225512814,0,245042842,230100397,2202633030,239013439,238751291,0,214043843,1073692671,218434819,0,234491388,220335389,0,225643890,248188620,0,212929711,997735288,216665321,0,238358071,229182893,0,231345609,246025896,0,215944419,999308178,231214531,0,442374749,236981796,0,235081219,236850714,221383987,234163698,1043480215,217976069,0,239210047,241897073,0,375723618,362354070,286134542,272961609,291574119,226233735,0,244911765,229248425,0,247205565,243273346,227020166,216861934,243666562,236064282,0,243732100,229248423,0,232852963,237637158,221908284,545202301,318640897,268767234,0,251531001,255987520,0,237964850,243601025,225840517,217451772],\"shape\":[2633],\"dtype\":\"object\",\"order\":\"little\"}]]}}},\"view\":{\"type\":\"object\",\"name\":\"CDSView\",\"id\":\"p1194\",\"attributes\":{\"filter\":{\"type\":\"object\",\"name\":\"AllIndices\",\"id\":\"p1195\"}}},\"glyph\":{\"type\":\"object\",\"name\":\"Line\",\"id\":\"p1190\",\"attributes\":{\"x\":{\"type\":\"field\",\"field\":\"x\"},\"y\":{\"type\":\"field\",\"field\":\"y\"},\"line_color\":\"#1f77b4\"}},\"nonselection_glyph\":{\"type\":\"object\",\"name\":\"Line\",\"id\":\"p1191\",\"attributes\":{\"x\":{\"type\":\"field\",\"field\":\"x\"},\"y\":{\"type\":\"field\",\"field\":\"y\"},\"line_color\":\"#1f77b4\",\"line_alpha\":0.1}},\"muted_glyph\":{\"type\":\"object\",\"name\":\"Line\",\"id\":\"p1192\",\"attributes\":{\"x\":{\"type\":\"field\",\"field\":\"x\"},\"y\":{\"type\":\"field\",\"field\":\"y\"},\"line_color\":\"#1f77b4\",\"line_alpha\":0.2}}}}],\"toolbar\":{\"type\":\"object\",\"name\":\"Toolbar\",\"id\":\"p1147\",\"attributes\":{\"tools\":[{\"type\":\"object\",\"name\":\"PanTool\",\"id\":\"p1172\"},{\"type\":\"object\",\"name\":\"WheelZoomTool\",\"id\":\"p1173\"},{\"type\":\"object\",\"name\":\"BoxZoomTool\",\"id\":\"p1174\",\"attributes\":{\"overlay\":{\"type\":\"object\",\"name\":\"BoxAnnotation\",\"id\":\"p1175\",\"attributes\":{\"syncable\":false,\"level\":\"overlay\",\"visible\":false,\"left_units\":\"canvas\",\"right_units\":\"canvas\",\"bottom_units\":\"canvas\",\"top_units\":\"canvas\",\"line_color\":\"black\",\"line_alpha\":1.0,\"line_width\":2,\"line_dash\":[4,4],\"fill_color\":\"lightgrey\",\"fill_alpha\":0.5}}}},{\"type\":\"object\",\"name\":\"SaveTool\",\"id\":\"p1176\"},{\"type\":\"object\",\"name\":\"ResetTool\",\"id\":\"p1177\"},{\"type\":\"object\",\"name\":\"HelpTool\",\"id\":\"p1178\"}]}},\"left\":[{\"type\":\"object\",\"name\":\"LinearAxis\",\"id\":\"p1165\",\"attributes\":{\"ticker\":{\"type\":\"object\",\"name\":\"BasicTicker\",\"id\":\"p1166\",\"attributes\":{\"mantissas\":[1,2,5]}},\"formatter\":{\"type\":\"object\",\"name\":\"BasicTickFormatter\",\"id\":\"p1167\"},\"axis_label\":\"y\",\"major_label_policy\":{\"type\":\"object\",\"name\":\"AllLabels\",\"id\":\"p1168\"}}}],\"below\":[{\"type\":\"object\",\"name\":\"LinearAxis\",\"id\":\"p1158\",\"attributes\":{\"ticker\":{\"type\":\"object\",\"name\":\"BasicTicker\",\"id\":\"p1159\",\"attributes\":{\"mantissas\":[1,2,5]}},\"formatter\":{\"type\":\"object\",\"name\":\"BasicTickFormatter\",\"id\":\"p1160\"},\"axis_label\":\"x\",\"major_label_policy\":{\"type\":\"object\",\"name\":\"AllLabels\",\"id\":\"p1161\"}}}],\"center\":[{\"type\":\"object\",\"name\":\"Grid\",\"id\":\"p1164\",\"attributes\":{\"axis\":{\"id\":\"p1158\"}}},{\"type\":\"object\",\"name\":\"Grid\",\"id\":\"p1171\",\"attributes\":{\"dimension\":1,\"axis\":{\"id\":\"p1165\"}}},{\"type\":\"object\",\"name\":\"Legend\",\"id\":\"p1196\",\"attributes\":{\"items\":[{\"type\":\"object\",\"name\":\"LegendItem\",\"id\":\"p1197\",\"attributes\":{\"label\":{\"type\":\"value\",\"value\":\"Pulse\"},\"renderers\":[{\"id\":\"p1193\"}]}}]}}]}}],\"callbacks\":{\"type\":\"map\"}}};\n  const render_items = [{\"docid\":\"a4db4df5-a0c4-4d8d-b998-0f41ce38e91b\",\"roots\":{\"p1140\":\"f3b07642-086c-4fcc-b330-eb0b900918c6\"},\"root_ids\":[\"p1140\"]}];\n  root.Bokeh.embed.embed_items_notebook(docs_json, render_items);\n  }\n  if (root.Bokeh !== undefined) {\n    embed_document(root);\n  } else {\n    let attempts = 0;\n    const timer = setInterval(function(root) {\n      if (root.Bokeh !== undefined) {\n        clearInterval(timer);\n        embed_document(root);\n      } else {\n        attempts++;\n        if (attempts > 100) {\n          clearInterval(timer);\n          console.log(\"Bokeh: ERROR: Unable to run BokehJS code because BokehJS library is missing\");\n        }\n      }\n    }, 10, root)\n  }\n})(window);",
      "application/vnd.bokehjs_exec.v0+json": ""
     },
     "metadata": {
      "application/vnd.bokehjs_exec.v0+json": {
       "id": "p1140"
      }
     },
     "output_type": "display_data"
    }
   ],
   "source": [
    "from bokeh.plotting import figure, show\n",
    "p = bokeh.plotting.figure(title=\"Simple line example\", x_axis_label='x', y_axis_label='y')\n",
    "\n",
    "y=data\n",
    "x=list(range(len(y)))\n",
    "p.line(x, y, legend_label=\"Pulse\", line_width=1)\n",
    "show(p)"
   ]
  },
  {
   "cell_type": "markdown",
   "metadata": {},
   "source": [
    "Copy blocks to S3. For example:\n",
    "\n",
    "\n",
    "```bash\n",
    "aws s3 sync --endpoint-url https://maritime.sealstorage.io/api/v0/s3 --profile sealstorage --size-only  /mnt/c/big/visus-datasets/signal1d_slac/ s3://utah/visus-datasets/signal1d_slac/\n",
    "```"
   ]
  }
 ],
 "metadata": {
  "kernelspec": {
   "display_name": "Python 3",
   "language": "python",
   "name": "python3"
  },
  "language_info": {
   "codemirror_mode": {
    "name": "ipython",
    "version": 3
   },
   "file_extension": ".py",
   "mimetype": "text/x-python",
   "name": "python",
   "nbconvert_exporter": "python",
   "pygments_lexer": "ipython3",
   "version": "3.9.16"
  }
 },
 "nbformat": 4,
 "nbformat_minor": 2
}
