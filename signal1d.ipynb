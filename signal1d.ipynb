{
 "cells": [
  {
   "cell_type": "markdown",
   "metadata": {},
   "source": [
    "Execute in a shell:\n",
    "\n",
    "```\n",
    "mkdir supercdms-data\n",
    "alias ='aws s3 --profile slac_public --endpoint-url https://maritime.sealstorage.io/api/v0/s3 --no-verify-ssl'\n",
    "s3 ls --recursive s3://utah/supercdms-data/CDMS/UMN/R68/Raw/  | awk '{print $4}' > supercdms-data/list.txt\n",
    "```"
   ]
  },
  {
   "cell_type": "code",
   "execution_count": null,
   "metadata": {},
   "outputs": [],
   "source": [
    "with open(\"supercdms-data/list.txt\",\"r\") as f:\n",
    "  files=[it.strip() for it in f.readlines() if it.strip().endswith(\".mid.gz\")]\n",
    "print(\"found\",len(files),\".mid.gz files\")"
   ]
  },
  {
   "cell_type": "code",
   "execution_count": null,
   "metadata": {},
   "outputs": [],
   "source": [
    "import os,sys,boto3\n",
    "from botocore.client import Config\n",
    "\n",
    "config = Config(signature_version = 's3v4')\n",
    "\n",
    "s3 = boto3.resource('s3',endpoint_url='https://maritime.sealstorage.io/api/v0/s3', aws_access_key_id='any', aws_secret_access_key='any', config=config,)\n",
    "bucket = s3.Bucket(\"utah\")\n",
    "\n",
    "max_files=30\n",
    "for I,key in enumerate(files):\n",
    "  local=key\n",
    "\n",
    "  # download file\n",
    "  if not os.path.isfile(local):\n",
    "    os.makedirs(os.path.dirname(local),exist_ok=True)\n",
    "    bucket.download_file(key,local)\n",
    "    print(f\"Downloaded file {key} {os.path.getsize(local)}\")\n",
    "  else:\n",
    "    print(f\"File {key} already exists {os.path.getsize(local)}\")\n",
    "\n",
    "\n",
    "  if max_files and I>=max_files:\n",
    "    break\n"
   ]
  },
  {
   "cell_type": "code",
   "execution_count": null,
   "metadata": {},
   "outputs": [],
   "source": [
    "import midas.file_reader\n",
    "\n",
    "import json,os,sys, xmltodict\n",
    "from pprint import pprint\n",
    "\n",
    "# ///////////////////////////////////////////////////////////////////\n",
    "def LoadXML(filename):\n",
    "\twith open(filename, 'rt') as file: \n",
    "\t\tbody = file.read() \n",
    "\treturn \n",
    "\n",
    "# ///////////////////////////////////////////////////////////////////\n",
    "def Merge(d1, d2):\n",
    "    return {**d1, **d2} if d1 and d2 else (d1 or d2)\n",
    "\n",
    "# /////////////////////////////////////////\n",
    "def ParseEvent(evt, parse_xml=False):\n",
    "\n",
    "    ret={}\n",
    "\n",
    "    if parse_xml:\n",
    "        body=evt.non_bank_data.decode(\"latin-1\")\n",
    "        d=xmltodict.parse(''.join(c for c in body if c.isprintable())) # I am loosing some char this\n",
    "        assert(isinstance(d,dict))\n",
    "        assert(list(d.keys())==[\"odb\"])\n",
    "        ret[\"odb\"]=d['odb']\n",
    "        evt.non_bank_data=\"\"\n",
    "\n",
    "    ret.update({\n",
    "        \"header\" : {\n",
    "            \"event_id\": evt.header.event_id,  # int\n",
    "            \"trigger_mask\": evt.header.trigger_mask,  # int\n",
    "            \"serial_number\":evt.header.serial_number,  # int\n",
    "            \"timestamp\": evt.header.timestamp,  # int UNIX timestamp of event\n",
    "            \"event_data_size_bytes\": evt.header.event_data_size_bytes,  # int Size of all banks\n",
    "        }, \n",
    "        \"all_bank_size_bytes\": evt.all_bank_size_bytes,  # (int)\n",
    "        \"flags\":evt.flags,  # (int) \n",
    "        # \"non_bank_data\" : # evt.non_bank_data,  # (bytes or None) - Content of some special events that don't  use banks (e.g. begin-of-run ODB dump)\n",
    "        \"banks\" : { # (dict of {str: `Bank`}) - Keyed by bank name\n",
    "            bank_name: {\n",
    "                \"name\": bank.name,  # (str) - 4 characters\n",
    "                \"type\": bank.type,  # (int) - See `TID_xxx` members in `midas` module\n",
    "                \"size_bytes\": bank.size_bytes,  # (int)\n",
    "                # \"data\": \"\", # (tuple of int/float/byte etc, or a numpy array if use_numpy is specified when unpacking)\n",
    "            } for bank_name, bank in evt.banks.items()\n",
    "        },\n",
    "    })\n",
    "\n",
    "    return ret\n",
    "\n",
    "# /////////////////////////////////////////\n",
    "def GenerateJson(src_filename,dst_filename):\n",
    "    mfile = midas.file_reader.MidasFile(src_filename)\n",
    "    events=[]\n",
    "    for E,evt in enumerate(mfile):\n",
    "        events.append(ParseEvent(evt, parse_xml=(E==0)))\n",
    "    with open(filename + \".json\",\"w\") as out:\n",
    "        out.write(json.dumps({\"events\":events}, sort_keys=False, indent=2))\n",
    "    \n",
    "\n",
    "# /////////////////////////////////////////\n",
    "for filename in files[0:max_files]:\n",
    "    if not os.path.isfile(filename+\".json\"):\n",
    "        GenerateJson(filename,filename+\".json\")\n"
   ]
  },
  {
   "cell_type": "code",
   "execution_count": null,
   "metadata": {},
   "outputs": [],
   "source": [
    "# /////////////////////////////////////////\n",
    "def GetBanksData(filename):\n",
    "    mfile = midas.file_reader.MidasFile(filename)\n",
    "    for E,evt in enumerate(mfile):\n",
    "      timestamp=evt.header.timestamp\n",
    "      for __name,bank in evt.banks.items():\n",
    "        yield (timestamp,bank)\n",
    "\n",
    "# # not sure if append here is \"logically right\"\n",
    "timesteps,pulse=[],[]\n",
    "last=None\n",
    "for F,filename in enumerate(files[0:5]): # TODO ... signal otherwise is too big\n",
    "    print(\"Reading\",F, \"filename\", filename)\n",
    "    for timetamp,bank in GetBanksData(filename):\n",
    "        assert(last is None or bank.name==last.name)\n",
    "        last=bank\n",
    "        timesteps.append(timetamp) \n",
    "        pulse.extend(bank.data)\n",
    "\n",
    "def non_decreasing(L):return all(x<=y for x, y in zip(L, L[1:]))\n",
    "assert(non_decreasing(timesteps))\n",
    "import numpy as np\n",
    "pulse=np.array(pulse)\n",
    "print(\"dtype\",pulse.dtype,\"shape\", pulse.shape,\"vmin\",np.min(pulse),\"vmax\",np.max(pulse))"
   ]
  },
  {
   "cell_type": "code",
   "execution_count": null,
   "metadata": {},
   "outputs": [],
   "source": [
    "import shutil\n",
    "import numpy as np\n",
    "import OpenVisus as ov\n",
    "idx_filename='/mnt/c/big/visus-datasets/signal1d_slac/visus.idx'\n",
    "\n",
    "N=pulse.shape[0]\n",
    "shutil.rmtree(os.path.splitext(os.path.dirname(idx_filename))[0], ignore_errors=True)\n",
    "db=ov.CreateIdx(\n",
    "  url=idx_filename, \n",
    "  dims=[N],\n",
    "  fields=[ov.Field('data',ov.DType.fromString(str(pulse.dtype)),'row_major')], \n",
    "  compression=\"raw\", \n",
    "  arco=f\"{4*1024*1024}\")\n",
    "assert(os.path.isfile(idx_filename))\n",
    "\n",
    "print(\"Writing data...\")\n",
    "logic_box=logic_box=ov.BoxNi(ov.PointNi([0]),ov.PointNi([N]))\n",
    "db.write(pulse,  logic_box=logic_box)\n",
    "print(\"write uncompressed data done\",\"logic_box\",logic_box.toString())"
   ]
  },
  {
   "cell_type": "code",
   "execution_count": null,
   "metadata": {},
   "outputs": [],
   "source": [
    "print(\"Compressing data\")\n",
    "db=ov.LoadDataset(idx_filename)\n",
    "db.compressDataset(\"zip\") \n",
    "print(\"compress dataset done\")"
   ]
  },
  {
   "cell_type": "markdown",
   "metadata": {},
   "source": [
    "Read data"
   ]
  },
  {
   "cell_type": "code",
   "execution_count": null,
   "metadata": {},
   "outputs": [],
   "source": [
    "logic_box=db.getLogicBox()\n",
    "print(\"logic_box\",logic_box)\n",
    "print(\"db.getMaxResolution()\",db.getMaxResolution())\n",
    "resolution=12\n",
    "data=db.read(logic_box=logic_box, max_resolution=resolution)\n",
    "print(f\"IDX read done dtype={data.dtype} shape={data.shape} vmin={np.min(data)} vmax={np.max(data)}\")"
   ]
  },
  {
   "cell_type": "markdown",
   "metadata": {},
   "source": [
    "Show data"
   ]
  },
  {
   "cell_type": "code",
   "execution_count": null,
   "metadata": {},
   "outputs": [],
   "source": [
    "import bokeh\n",
    "import bokeh.io \n",
    "bokeh.io.output_notebook()"
   ]
  },
  {
   "cell_type": "code",
   "execution_count": null,
   "metadata": {},
   "outputs": [],
   "source": [
    "from bokeh.plotting import figure, show\n",
    "p = bokeh.plotting.figure(title=\"Simple line example\", x_axis_label='x', y_axis_label='y')\n",
    "y=data\n",
    "x=list(range(len(y)))\n",
    "p.line(x, y, legend_label=\"Pulse\", line_width=1)\n",
    "show(p)"
   ]
  },
  {
   "cell_type": "markdown",
   "metadata": {},
   "source": [
    "Copy blocks to S3. For example:\n",
    "\n",
    "\n",
    "```bash\n",
    "aws s3 sync --endpoint-url https://maritime.sealstorage.io/api/v0/s3 --profile sealstorage --size-only  /mnt/c/big/visus-datasets/signal1d_slac/ s3://utah/visus-datasets/signal1d_slac/\n",
    "```"
   ]
  },
  {
   "cell_type": "markdown",
   "metadata": {},
   "source": [
    "# With `max` filter"
   ]
  },
  {
   "cell_type": "code",
   "execution_count": null,
   "metadata": {},
   "outputs": [],
   "source": [
    "import shutil\n",
    "import numpy as np\n",
    "\n",
    "import OpenVisus as ov\n",
    "\n",
    "idx_filename_max='/mnt/c/big/visus-datasets/signal1d_slac_max/visus.idx'\n",
    "shutil.rmtree(os.path.splitext(idx_filename_max)[0], ignore_errors=True)\n",
    "field=ov.Field('data',f\"int64[2]\",'row_major')\n",
    "N=pulse.shape[0]\n",
    "\n",
    "db=ov.CreateIdx(url=idx_filename_max, \n",
    "  dim=1, \n",
    "  dims=[N],\n",
    "  fields=[field], \n",
    "  compression=\"raw\",\n",
    "  filters=['max'],\n",
    "  arco=2*1024*1024\n",
    ")\n",
    "assert(os.path.isfile(idx_filename_max))\n",
    "\n",
    "print(f\"Source pulse dtype={pulse.dtype} shape={pulse.shape} vmin={np.min(pulse):,} vmax={np.max(pulse)}\")\n",
    "pulse_max=np.zeros((N, 2), dtype=pulse.dtype)\n",
    "pulse_max[:,0]=pulse[:]\n",
    "vmin,vmax=np.min(pulse_max[:,0]),np.max(pulse_max[:,0])\n",
    "print(f\"New pulse with extra channel shape={pulse_max.shape} dtype={pulse_max.dtype} vmin={vmin:,} vmax={vmax:,}\")\n",
    "\n",
    "print(\"Writing data...\")\n",
    "logic_box=ov.BoxNi(ov.PointNi([0]),ov.PointNi([N]))\n",
    "db.write(pulse_max, logic_box=logic_box)\n",
    "print(f\"written max pulse logic_box=[{logic_box.toString()}]\")"
   ]
  },
  {
   "cell_type": "markdown",
   "metadata": {},
   "source": [
    "Compute filter (SLOW OPERATION!)"
   ]
  },
  {
   "cell_type": "code",
   "execution_count": null,
   "metadata": {},
   "outputs": [],
   "source": [
    "import OpenVisus as ov\n",
    "GB=1024*1024*1024\n",
    "db.computeFilter(db.getField(), 1*GB)\n",
    "print(\"Filter computed\")"
   ]
  },
  {
   "cell_type": "code",
   "execution_count": null,
   "metadata": {},
   "outputs": [],
   "source": [
    "print(\"Compressing data...\")\n",
    "db.compressDataset(\"zip\") \n",
    "print(\"compress dataset done\")"
   ]
  },
  {
   "cell_type": "code",
   "execution_count": 1,
   "metadata": {},
   "outputs": [
    {
     "data": {
      "text/html": [
       "<style>\n",
       "        .bk-notebook-logo {\n",
       "            display: block;\n",
       "            width: 20px;\n",
       "            height: 20px;\n",
       "            background-image: url(data:image/png;base64,iVBORw0KGgoAAAANSUhEUgAAABQAAAAUCAYAAACNiR0NAAAABHNCSVQICAgIfAhkiAAAAAlwSFlzAAALEgAACxIB0t1+/AAAABx0RVh0U29mdHdhcmUAQWRvYmUgRmlyZXdvcmtzIENTNui8sowAAAOkSURBVDiNjZRtaJVlGMd/1/08zzln5zjP1LWcU9N0NkN8m2CYjpgQYQXqSs0I84OLIC0hkEKoPtiH3gmKoiJDU7QpLgoLjLIQCpEsNJ1vqUOdO7ppbuec5+V+rj4ctwzd8IIbbi6u+8f1539dt3A78eXC7QizUF7gyV1fD1Yqg4JWz84yffhm0qkFqBogB9rM8tZdtwVsPUhWhGcFJngGeWrPzHm5oaMmkfEg1usvLFyc8jLRqDOMru7AyC8saQr7GG7f5fvDeH7Ej8CM66nIF+8yngt6HWaKh7k49Soy9nXurCi1o3qUbS3zWfrYeQDTB/Qj6kX6Ybhw4B+bOYoLKCC9H3Nu/leUTZ1JdRWkkn2ldcCamzrcf47KKXdAJllSlxAOkRgyHsGC/zRday5Qld9DyoM4/q/rUoy/CXh3jzOu3bHUVZeU+DEn8FInkPBFlu3+nW3Nw0mk6vCDiWg8CeJaxEwuHS3+z5RgY+YBR6V1Z1nxSOfoaPa4LASWxxdNp+VWTk7+4vzaou8v8PN+xo+KY2xsw6une2frhw05CTYOmQvsEhjhWjn0bmXPjpE1+kplmmkP3suftwTubK9Vq22qKmrBhpY4jvd5afdRA3wGjFAgcnTK2s4hY0/GPNIb0nErGMCRxWOOX64Z8RAC4oCXdklmEvcL8o0BfkNK4lUg9HTl+oPlQxdNo3Mg4Nv175e/1LDGzZen30MEjRUtmXSfiTVu1kK8W4txyV6BMKlbgk3lMwYCiusNy9fVfvvwMxv8Ynl6vxoByANLTWplvuj/nF9m2+PDtt1eiHPBr1oIfhCChQMBw6Aw0UulqTKZdfVvfG7VcfIqLG9bcldL/+pdWTLxLUy8Qq38heUIjh4XlzZxzQm19lLFlr8vdQ97rjZVOLf8nclzckbcD4wxXMidpX30sFd37Fv/GtwwhzhxGVAprjbg0gCAEeIgwCZyTV2Z1REEW8O4py0wsjeloKoMr6iCY6dP92H6Vw/oTyICIthibxjm/DfN9lVz8IqtqKYLUXfoKVMVQVVJOElGjrnnUt9T9wbgp8AyYKaGlqingHZU/uG2NTZSVqwHQTWkx9hxjkpWDaCg6Ckj5qebgBVbT3V3NNXMSiWSDdGV3hrtzla7J+duwPOToIg42ChPQOQjspnSlp1V+Gjdged7+8UN5CRAV7a5EdFNwCjEaBR27b3W890TE7g24NAP/mMDXRWrGoFPQI9ls/MWO2dWFAar/xcOIImbbpA3zgAAAABJRU5ErkJggg==);\n",
       "        }\n",
       "    </style>\n",
       "    <div>\n",
       "        <a href=\"https://bokeh.org\" target=\"_blank\" class=\"bk-notebook-logo\"></a>\n",
       "        <span id=\"ce42e076-a34e-4317-932a-60eaf44746e5\">Loading BokehJS ...</span>\n",
       "    </div>\n"
      ]
     },
     "metadata": {},
     "output_type": "display_data"
    },
    {
     "data": {
      "application/javascript": "(function(root) {\n  function now() {\n    return new Date();\n  }\n\n  const force = true;\n\n  if (typeof root._bokeh_onload_callbacks === \"undefined\" || force === true) {\n    root._bokeh_onload_callbacks = [];\n    root._bokeh_is_loading = undefined;\n  }\n\nconst JS_MIME_TYPE = 'application/javascript';\n  const HTML_MIME_TYPE = 'text/html';\n  const EXEC_MIME_TYPE = 'application/vnd.bokehjs_exec.v0+json';\n  const CLASS_NAME = 'output_bokeh rendered_html';\n\n  /**\n   * Render data to the DOM node\n   */\n  function render(props, node) {\n    const script = document.createElement(\"script\");\n    node.appendChild(script);\n  }\n\n  /**\n   * Handle when an output is cleared or removed\n   */\n  function handleClearOutput(event, handle) {\n    const cell = handle.cell;\n\n    const id = cell.output_area._bokeh_element_id;\n    const server_id = cell.output_area._bokeh_server_id;\n    // Clean up Bokeh references\n    if (id != null && id in Bokeh.index) {\n      Bokeh.index[id].model.document.clear();\n      delete Bokeh.index[id];\n    }\n\n    if (server_id !== undefined) {\n      // Clean up Bokeh references\n      const cmd_clean = \"from bokeh.io.state import curstate; print(curstate().uuid_to_server['\" + server_id + \"'].get_sessions()[0].document.roots[0]._id)\";\n      cell.notebook.kernel.execute(cmd_clean, {\n        iopub: {\n          output: function(msg) {\n            const id = msg.content.text.trim();\n            if (id in Bokeh.index) {\n              Bokeh.index[id].model.document.clear();\n              delete Bokeh.index[id];\n            }\n          }\n        }\n      });\n      // Destroy server and session\n      const cmd_destroy = \"import bokeh.io.notebook as ion; ion.destroy_server('\" + server_id + \"')\";\n      cell.notebook.kernel.execute(cmd_destroy);\n    }\n  }\n\n  /**\n   * Handle when a new output is added\n   */\n  function handleAddOutput(event, handle) {\n    const output_area = handle.output_area;\n    const output = handle.output;\n\n    // limit handleAddOutput to display_data with EXEC_MIME_TYPE content only\n    if ((output.output_type != \"display_data\") || (!Object.prototype.hasOwnProperty.call(output.data, EXEC_MIME_TYPE))) {\n      return\n    }\n\n    const toinsert = output_area.element.find(\".\" + CLASS_NAME.split(' ')[0]);\n\n    if (output.metadata[EXEC_MIME_TYPE][\"id\"] !== undefined) {\n      toinsert[toinsert.length - 1].firstChild.textContent = output.data[JS_MIME_TYPE];\n      // store reference to embed id on output_area\n      output_area._bokeh_element_id = output.metadata[EXEC_MIME_TYPE][\"id\"];\n    }\n    if (output.metadata[EXEC_MIME_TYPE][\"server_id\"] !== undefined) {\n      const bk_div = document.createElement(\"div\");\n      bk_div.innerHTML = output.data[HTML_MIME_TYPE];\n      const script_attrs = bk_div.children[0].attributes;\n      for (let i = 0; i < script_attrs.length; i++) {\n        toinsert[toinsert.length - 1].firstChild.setAttribute(script_attrs[i].name, script_attrs[i].value);\n        toinsert[toinsert.length - 1].firstChild.textContent = bk_div.children[0].textContent\n      }\n      // store reference to server id on output_area\n      output_area._bokeh_server_id = output.metadata[EXEC_MIME_TYPE][\"server_id\"];\n    }\n  }\n\n  function register_renderer(events, OutputArea) {\n\n    function append_mime(data, metadata, element) {\n      // create a DOM node to render to\n      const toinsert = this.create_output_subarea(\n        metadata,\n        CLASS_NAME,\n        EXEC_MIME_TYPE\n      );\n      this.keyboard_manager.register_events(toinsert);\n      // Render to node\n      const props = {data: data, metadata: metadata[EXEC_MIME_TYPE]};\n      render(props, toinsert[toinsert.length - 1]);\n      element.append(toinsert);\n      return toinsert\n    }\n\n    /* Handle when an output is cleared or removed */\n    events.on('clear_output.CodeCell', handleClearOutput);\n    events.on('delete.Cell', handleClearOutput);\n\n    /* Handle when a new output is added */\n    events.on('output_added.OutputArea', handleAddOutput);\n\n    /**\n     * Register the mime type and append_mime function with output_area\n     */\n    OutputArea.prototype.register_mime_type(EXEC_MIME_TYPE, append_mime, {\n      /* Is output safe? */\n      safe: true,\n      /* Index of renderer in `output_area.display_order` */\n      index: 0\n    });\n  }\n\n  // register the mime type if in Jupyter Notebook environment and previously unregistered\n  if (root.Jupyter !== undefined) {\n    const events = require('base/js/events');\n    const OutputArea = require('notebook/js/outputarea').OutputArea;\n\n    if (OutputArea.prototype.mime_types().indexOf(EXEC_MIME_TYPE) == -1) {\n      register_renderer(events, OutputArea);\n    }\n  }\n  if (typeof (root._bokeh_timeout) === \"undefined\" || force === true) {\n    root._bokeh_timeout = Date.now() + 5000;\n    root._bokeh_failed_load = false;\n  }\n\n  const NB_LOAD_WARNING = {'data': {'text/html':\n     \"<div style='background-color: #fdd'>\\n\"+\n     \"<p>\\n\"+\n     \"BokehJS does not appear to have successfully loaded. If loading BokehJS from CDN, this \\n\"+\n     \"may be due to a slow or bad network connection. Possible fixes:\\n\"+\n     \"</p>\\n\"+\n     \"<ul>\\n\"+\n     \"<li>re-rerun `output_notebook()` to attempt to load from CDN again, or</li>\\n\"+\n     \"<li>use INLINE resources instead, as so:</li>\\n\"+\n     \"</ul>\\n\"+\n     \"<code>\\n\"+\n     \"from bokeh.resources import INLINE\\n\"+\n     \"output_notebook(resources=INLINE)\\n\"+\n     \"</code>\\n\"+\n     \"</div>\"}};\n\n  function display_loaded() {\n    const el = document.getElementById(\"ce42e076-a34e-4317-932a-60eaf44746e5\");\n    if (el != null) {\n      el.textContent = \"BokehJS is loading...\";\n    }\n    if (root.Bokeh !== undefined) {\n      if (el != null) {\n        el.textContent = \"BokehJS \" + root.Bokeh.version + \" successfully loaded.\";\n      }\n    } else if (Date.now() < root._bokeh_timeout) {\n      setTimeout(display_loaded, 100)\n    }\n  }\n\n  function run_callbacks() {\n    try {\n      root._bokeh_onload_callbacks.forEach(function(callback) {\n        if (callback != null)\n          callback();\n      });\n    } finally {\n      delete root._bokeh_onload_callbacks\n    }\n    console.debug(\"Bokeh: all callbacks have finished\");\n  }\n\n  function load_libs(css_urls, js_urls, callback) {\n    if (css_urls == null) css_urls = [];\n    if (js_urls == null) js_urls = [];\n\n    root._bokeh_onload_callbacks.push(callback);\n    if (root._bokeh_is_loading > 0) {\n      console.debug(\"Bokeh: BokehJS is being loaded, scheduling callback at\", now());\n      return null;\n    }\n    if (js_urls == null || js_urls.length === 0) {\n      run_callbacks();\n      return null;\n    }\n    console.debug(\"Bokeh: BokehJS not loaded, scheduling load and callback at\", now());\n    root._bokeh_is_loading = css_urls.length + js_urls.length;\n\n    function on_load() {\n      root._bokeh_is_loading--;\n      if (root._bokeh_is_loading === 0) {\n        console.debug(\"Bokeh: all BokehJS libraries/stylesheets loaded\");\n        run_callbacks()\n      }\n    }\n\n    function on_error(url) {\n      console.error(\"failed to load \" + url);\n    }\n\n    for (let i = 0; i < css_urls.length; i++) {\n      const url = css_urls[i];\n      const element = document.createElement(\"link\");\n      element.onload = on_load;\n      element.onerror = on_error.bind(null, url);\n      element.rel = \"stylesheet\";\n      element.type = \"text/css\";\n      element.href = url;\n      console.debug(\"Bokeh: injecting link tag for BokehJS stylesheet: \", url);\n      document.body.appendChild(element);\n    }\n\n    for (let i = 0; i < js_urls.length; i++) {\n      const url = js_urls[i];\n      const element = document.createElement('script');\n      element.onload = on_load;\n      element.onerror = on_error.bind(null, url);\n      element.async = false;\n      element.src = url;\n      console.debug(\"Bokeh: injecting script tag for BokehJS library: \", url);\n      document.head.appendChild(element);\n    }\n  };\n\n  function inject_raw_css(css) {\n    const element = document.createElement(\"style\");\n    element.appendChild(document.createTextNode(css));\n    document.body.appendChild(element);\n  }\n\n  const js_urls = [\"https://cdn.bokeh.org/bokeh/release/bokeh-3.1.1.min.js\", \"https://cdn.bokeh.org/bokeh/release/bokeh-gl-3.1.1.min.js\", \"https://cdn.bokeh.org/bokeh/release/bokeh-widgets-3.1.1.min.js\", \"https://cdn.bokeh.org/bokeh/release/bokeh-tables-3.1.1.min.js\", \"https://cdn.bokeh.org/bokeh/release/bokeh-mathjax-3.1.1.min.js\"];\n  const css_urls = [];\n\n  const inline_js = [    function(Bokeh) {\n      Bokeh.set_log_level(\"info\");\n    },\nfunction(Bokeh) {\n    }\n  ];\n\n  function run_inline_js() {\n    if (root.Bokeh !== undefined || force === true) {\n          for (let i = 0; i < inline_js.length; i++) {\n      inline_js[i].call(root, root.Bokeh);\n    }\nif (force === true) {\n        display_loaded();\n      }} else if (Date.now() < root._bokeh_timeout) {\n      setTimeout(run_inline_js, 100);\n    } else if (!root._bokeh_failed_load) {\n      console.log(\"Bokeh: BokehJS failed to load within specified timeout.\");\n      root._bokeh_failed_load = true;\n    } else if (force !== true) {\n      const cell = $(document.getElementById(\"ce42e076-a34e-4317-932a-60eaf44746e5\")).parents('.cell').data().cell;\n      cell.output_area.append_execute_result(NB_LOAD_WARNING)\n    }\n  }\n\n  if (root._bokeh_is_loading === 0) {\n    console.debug(\"Bokeh: BokehJS loaded, going straight to plotting\");\n    run_inline_js();\n  } else {\n    load_libs(css_urls, js_urls, function() {\n      console.debug(\"Bokeh: BokehJS plotting callback run at\", now());\n      run_inline_js();\n    });\n  }\n}(window));",
      "application/vnd.bokehjs_load.v0+json": ""
     },
     "metadata": {},
     "output_type": "display_data"
    }
   ],
   "source": [
    "import bokeh\n",
    "import bokeh.io \n",
    "bokeh.io.output_notebook()"
   ]
  },
  {
   "cell_type": "code",
   "execution_count": 5,
   "metadata": {},
   "outputs": [
    {
     "name": "stdout",
     "output_type": "stream",
     "text": [
      "logic_box ([0], [560336136])\n",
      "db.getMaxResolution() 30\n",
      "read id  dtype=int64 shape=(134,) vmin=0 vmax=3221225488\n",
      "read max dtype=int64 shape=(134,) vmin=3221225488 vmax=3221225912\n"
     ]
    }
   ],
   "source": [
    "import OpenVisus as ov\n",
    "import numpy as np\n",
    "\n",
    "db_id =ov.LoadDataset('/mnt/c/big/visus-datasets/signal1d_slac/visus.idx'    )\n",
    "db_max=ov.LoadDataset('/mnt/c/big/visus-datasets/signal1d_slac_max/visus.idx')\n",
    "\n",
    "logic_box=db_id.getLogicBox()\n",
    "\n",
    "print(\"logic_box\",logic_box)\n",
    "print(\"db.getMaxResolution()\",db_id.getMaxResolution())\n",
    "\n",
    "resolution=8\n",
    "data_id =db_id .read(logic_box=logic_box, max_resolution=resolution)\n",
    "data_max=db_max.read(logic_box=logic_box, max_resolution=resolution)[:,0]\n",
    "#print([f\"{it:,}\" for it in data_id ])\n",
    "#print([f\"{it:,}\" for it in data_max])\n",
    "print(f\"read id  dtype={data_id.dtype } shape={data_id.shape } vmin={np.min(data_id) } vmax={np.max(data_id )}\")\n",
    "print(f\"read max dtype={data_max.dtype} shape={data_max.shape} vmin={np.min(data_max)} vmax={np.max(data_max)}\")"
   ]
  },
  {
   "cell_type": "code",
   "execution_count": 6,
   "metadata": {},
   "outputs": [
    {
     "data": {
      "text/html": [
       "\n",
       "  <div id=\"c9c3484d-acd6-4b65-ab49-f99327e00cd4\" data-root-id=\"p1262\" style=\"display: contents;\"></div>\n"
      ]
     },
     "metadata": {},
     "output_type": "display_data"
    },
    {
     "data": {
      "application/javascript": "(function(root) {\n  function embed_document(root) {\n  const docs_json = {\"e7ac7d84-327e-4f5b-946c-44d7b5a5c837\":{\"version\":\"3.1.1\",\"title\":\"Bokeh Application\",\"defs\":[],\"roots\":[{\"type\":\"object\",\"name\":\"Figure\",\"id\":\"p1262\",\"attributes\":{\"x_range\":{\"type\":\"object\",\"name\":\"DataRange1d\",\"id\":\"p1263\"},\"y_range\":{\"type\":\"object\",\"name\":\"DataRange1d\",\"id\":\"p1264\"},\"x_scale\":{\"type\":\"object\",\"name\":\"LinearScale\",\"id\":\"p1276\"},\"y_scale\":{\"type\":\"object\",\"name\":\"LinearScale\",\"id\":\"p1278\"},\"title\":{\"type\":\"object\",\"name\":\"Title\",\"id\":\"p1265\",\"attributes\":{\"text\":\"Simple line example\"}},\"renderers\":[{\"type\":\"object\",\"name\":\"GlyphRenderer\",\"id\":\"p1315\",\"attributes\":{\"data_source\":{\"type\":\"object\",\"name\":\"ColumnDataSource\",\"id\":\"p1309\",\"attributes\":{\"selected\":{\"type\":\"object\",\"name\":\"Selection\",\"id\":\"p1310\",\"attributes\":{\"indices\":[],\"line_indices\":[]}},\"selection_policy\":{\"type\":\"object\",\"name\":\"UnionRenderers\",\"id\":\"p1311\"},\"data\":{\"type\":\"map\",\"entries\":[[\"x\",[0,1,2,3,4,5,6,7,8,9,10,11,12,13,14,15,16,17,18,19,20,21,22,23,24,25,26,27,28,29,30,31,32,33,34,35,36,37,38,39,40,41,42,43,44,45,46,47,48,49,50,51,52,53,54,55,56,57,58,59,60,61,62,63,64,65,66,67,68,69,70,71,72,73,74,75,76,77,78,79,80,81,82,83,84,85,86,87,88,89,90,91,92,93,94,95,96,97,98,99,100,101,102,103,104,105,106,107,108,109,110,111,112,113,114,115,116,117,118,119,120,121,122,123,124,125,126,127,128,129,130,131,132,133]],[\"y\",{\"type\":\"ndarray\",\"array\":[3221225488,237768233,0,215682267,224333150,240782936,213060787,0,217976067,230362560,241045089,226037108,0,233442792,2147254268,301011449,0,0,220728610,998980492,240914012,0,230624701,246615733,237571626,225381744,0,228855206,241241699,238227002,220466464,0,254545713,338105384,239144509,0,231869905,225643888,249761512,235474441,0,216665326,244321937,243404425,379131586,0,223808858,253955879,266080223,0,0,231411148,999963545,250744559,0,222498120,236916259,233967089,546578584,2202960723,215747804,235867665,405674035,212470958,0,276238456,338236458,249106136,0,216665325,224791915,243928711,227937687,0,219483416,532225991,235212295,225709432,0,291049812,524033857,235015681,0,0,224333153,1073692671,230034871,0,217451769,237375009,254742321,228396445,211684509,231607763,238161457,235998740,211553438,0,225578351,355407152,231935442,0,0,240455251,252186374,238226993,0,217976068,247336642,252579600,212995246,0,228199829,279253155,231017925,224136534,0,228134294,1073692671,232852959,0,219876632,240127562,236719640,218434824,0,222891339,239472194,245894819,228068762,0,230886846,357176652,229838258],\"shape\":[134],\"dtype\":\"object\",\"order\":\"little\"}]]}}},\"view\":{\"type\":\"object\",\"name\":\"CDSView\",\"id\":\"p1316\",\"attributes\":{\"filter\":{\"type\":\"object\",\"name\":\"AllIndices\",\"id\":\"p1317\"}}},\"glyph\":{\"type\":\"object\",\"name\":\"Line\",\"id\":\"p1312\",\"attributes\":{\"x\":{\"type\":\"field\",\"field\":\"x\"},\"y\":{\"type\":\"field\",\"field\":\"y\"},\"line_color\":\"blue\"}},\"nonselection_glyph\":{\"type\":\"object\",\"name\":\"Line\",\"id\":\"p1313\",\"attributes\":{\"x\":{\"type\":\"field\",\"field\":\"x\"},\"y\":{\"type\":\"field\",\"field\":\"y\"},\"line_color\":\"blue\",\"line_alpha\":0.1}},\"muted_glyph\":{\"type\":\"object\",\"name\":\"Line\",\"id\":\"p1314\",\"attributes\":{\"x\":{\"type\":\"field\",\"field\":\"x\"},\"y\":{\"type\":\"field\",\"field\":\"y\"},\"line_color\":\"blue\",\"line_alpha\":0.2}}}},{\"type\":\"object\",\"name\":\"GlyphRenderer\",\"id\":\"p1326\",\"attributes\":{\"data_source\":{\"type\":\"object\",\"name\":\"ColumnDataSource\",\"id\":\"p1320\",\"attributes\":{\"selected\":{\"type\":\"object\",\"name\":\"Selection\",\"id\":\"p1321\",\"attributes\":{\"indices\":[],\"line_indices\":[]}},\"selection_policy\":{\"type\":\"object\",\"name\":\"UnionRenderers\",\"id\":\"p1322\"},\"data\":{\"type\":\"map\",\"entries\":[[\"x\",[0,1,2,3,4,5,6,7,8,9,10,11,12,13,14,15,16,17,18,19,20,21,22,23,24,25,26,27,28,29,30,31,32,33,34,35,36,37,38,39,40,41,42,43,44,45,46,47,48,49,50,51,52,53,54,55,56,57,58,59,60,61,62,63,64,65,66,67,68,69,70,71,72,73,74,75,76,77,78,79,80,81,82,83,84,85,86,87,88,89,90,91,92,93,94,95,96,97,98,99,100,101,102,103,104,105,106,107,108,109,110,111,112,113,114,115,116,117,118,119,120,121,122,123,124,125,126,127,128,129,130,131,132,133]],[\"y\",{\"type\":\"ndarray\",\"array\":[3221225488,237768233,0,215682267,224333150,240782936,213060787,0,217976067,230362560,241045089,226037108,0,233442792,2147254268,301011449,0,0,220728610,998980492,240914012,0,230624701,246615733,237571626,225381744,0,228855206,241241699,238227002,220466464,0,254545713,338105384,239144509,0,231869905,225643888,249761512,235474441,0,216665326,244321937,243404425,379131586,0,223808858,253955879,266080223,0,0,231411148,999963545,250744559,0,222498120,236916259,233967089,546578584,2202960723,215747804,235867665,405674035,212470958,0,276238456,338236458,249106136,0,216665325,224791915,243928711,227937687,0,219483416,532225991,235212295,225709432,0,291049812,524033857,235015681,0,0,224333153,1073692671,230034871,0,217451769,237375009,254742321,228396445,211684509,231607763,238161457,235998740,211553438,0,225578351,355407152,231935442,0,0,240455251,252186374,238226993,0,217976068,247336642,252579600,212995246,0,228199829,279253155,231017925,224136534,0,228134294,1073692671,232852959,0,219876632,240127562,236719640,218434824,0,222891339,239472194,245894819,228068762,0,230886846,357176652,229838258],\"shape\":[134],\"dtype\":\"object\",\"order\":\"little\"}]]}}},\"view\":{\"type\":\"object\",\"name\":\"CDSView\",\"id\":\"p1327\",\"attributes\":{\"filter\":{\"type\":\"object\",\"name\":\"AllIndices\",\"id\":\"p1328\"}}},\"glyph\":{\"type\":\"object\",\"name\":\"Circle\",\"id\":\"p1323\",\"attributes\":{\"x\":{\"type\":\"field\",\"field\":\"x\"},\"y\":{\"type\":\"field\",\"field\":\"y\"},\"line_color\":{\"type\":\"value\",\"value\":\"blue\"},\"fill_color\":{\"type\":\"value\",\"value\":\"blue\"},\"hatch_color\":{\"type\":\"value\",\"value\":\"blue\"}}},\"nonselection_glyph\":{\"type\":\"object\",\"name\":\"Circle\",\"id\":\"p1324\",\"attributes\":{\"x\":{\"type\":\"field\",\"field\":\"x\"},\"y\":{\"type\":\"field\",\"field\":\"y\"},\"line_color\":{\"type\":\"value\",\"value\":\"blue\"},\"line_alpha\":{\"type\":\"value\",\"value\":0.1},\"fill_color\":{\"type\":\"value\",\"value\":\"blue\"},\"fill_alpha\":{\"type\":\"value\",\"value\":0.1},\"hatch_color\":{\"type\":\"value\",\"value\":\"blue\"},\"hatch_alpha\":{\"type\":\"value\",\"value\":0.1}}},\"muted_glyph\":{\"type\":\"object\",\"name\":\"Circle\",\"id\":\"p1325\",\"attributes\":{\"x\":{\"type\":\"field\",\"field\":\"x\"},\"y\":{\"type\":\"field\",\"field\":\"y\"},\"line_color\":{\"type\":\"value\",\"value\":\"blue\"},\"line_alpha\":{\"type\":\"value\",\"value\":0.2},\"fill_color\":{\"type\":\"value\",\"value\":\"blue\"},\"fill_alpha\":{\"type\":\"value\",\"value\":0.2},\"hatch_color\":{\"type\":\"value\",\"value\":\"blue\"},\"hatch_alpha\":{\"type\":\"value\",\"value\":0.2}}}}},{\"type\":\"object\",\"name\":\"GlyphRenderer\",\"id\":\"p1335\",\"attributes\":{\"data_source\":{\"type\":\"object\",\"name\":\"ColumnDataSource\",\"id\":\"p1329\",\"attributes\":{\"selected\":{\"type\":\"object\",\"name\":\"Selection\",\"id\":\"p1330\",\"attributes\":{\"indices\":[],\"line_indices\":[]}},\"selection_policy\":{\"type\":\"object\",\"name\":\"UnionRenderers\",\"id\":\"p1331\"},\"data\":{\"type\":\"map\",\"entries\":[[\"x\",[0,1,2,3,4,5,6,7,8,9,10,11,12,13,14,15,16,17,18,19,20,21,22,23,24,25,26,27,28,29,30,31,32,33,34,35,36,37,38,39,40,41,42,43,44,45,46,47,48,49,50,51,52,53,54,55,56,57,58,59,60,61,62,63,64,65,66,67,68,69,70,71,72,73,74,75,76,77,78,79,80,81,82,83,84,85,86,87,88,89,90,91,92,93,94,95,96,97,98,99,100,101,102,103,104,105,106,107,108,109,110,111,112,113,114,115,116,117,118,119,120,121,122,123,124,125,126,127,128,129,130,131,132,133]],[\"y\",{\"type\":\"ndarray\",\"array\":[3221225912,3221225488,3221225488,3221225488,3221225488,3221225848,3221225840,3221225816,3221225852,3221225820,3221225880,3221225840,3221225880,3221225828,3221225828,3221225876,3221225876,3221225816,3221225840,3221225832,3221225856,3221225800,3221225828,3221225848,3221225864,3221225840,3221225852,3221225828,3221225860,3221225840,3221225860,3221225844,3221225892,3221225848,3221225852,3221225852,3221225888,3221225848,3221225876,3221225792,3221225856,3221225784,3221225828,3221225848,3221225848,3221225820,3221225840,3221225824,3221225888,3221225832,3221225848,3221225840,3221225908,3221225844,3221225876,3221225844,3221225864,3221225820,3221225820,3221225792,3221225840,3221225836,3221225844,3221225852,3221225912,3221225816,3221225860,3221225848,3221225860,3221225808,3221225852,3221225832,3221225872,3221225812,3221225844,3221225812,3221225856,3221225852,3221225860,3221225828,3221225884,3221225836,3221225840,3221225820,3221225876,3221225828,3221225852,3221225856,3221225876,3221225840,3221225892,3221225832,3221225848,3221225820,3221225844,3221225820,3221225892,3221225848,3221225824,3221225824,3221225852,3221225828,3221225864,3221225816,3221225884,3221225824,3221225812,3221225808,3221225844,3221225816,3221225872,3221225820,3221225868,3221225836,3221225812,3221225796,3221225844,3221225860,3221225860,3221225832,3221225856,3221225828,3221225844,3221225816,3221225848,3221225792,3221225824,3221225836,3221225880,3221225812,3221225868,3221225820,3221225844,3221225840],\"shape\":[134],\"dtype\":\"object\",\"order\":\"little\"}]]}}},\"view\":{\"type\":\"object\",\"name\":\"CDSView\",\"id\":\"p1336\",\"attributes\":{\"filter\":{\"type\":\"object\",\"name\":\"AllIndices\",\"id\":\"p1337\"}}},\"glyph\":{\"type\":\"object\",\"name\":\"Line\",\"id\":\"p1332\",\"attributes\":{\"x\":{\"type\":\"field\",\"field\":\"x\"},\"y\":{\"type\":\"field\",\"field\":\"y\"},\"line_color\":\"green\"}},\"nonselection_glyph\":{\"type\":\"object\",\"name\":\"Line\",\"id\":\"p1333\",\"attributes\":{\"x\":{\"type\":\"field\",\"field\":\"x\"},\"y\":{\"type\":\"field\",\"field\":\"y\"},\"line_color\":\"green\",\"line_alpha\":0.1}},\"muted_glyph\":{\"type\":\"object\",\"name\":\"Line\",\"id\":\"p1334\",\"attributes\":{\"x\":{\"type\":\"field\",\"field\":\"x\"},\"y\":{\"type\":\"field\",\"field\":\"y\"},\"line_color\":\"green\",\"line_alpha\":0.2}}}},{\"type\":\"object\",\"name\":\"GlyphRenderer\",\"id\":\"p1345\",\"attributes\":{\"data_source\":{\"type\":\"object\",\"name\":\"ColumnDataSource\",\"id\":\"p1339\",\"attributes\":{\"selected\":{\"type\":\"object\",\"name\":\"Selection\",\"id\":\"p1340\",\"attributes\":{\"indices\":[],\"line_indices\":[]}},\"selection_policy\":{\"type\":\"object\",\"name\":\"UnionRenderers\",\"id\":\"p1341\"},\"data\":{\"type\":\"map\",\"entries\":[[\"x\",[0,1,2,3,4,5,6,7,8,9,10,11,12,13,14,15,16,17,18,19,20,21,22,23,24,25,26,27,28,29,30,31,32,33,34,35,36,37,38,39,40,41,42,43,44,45,46,47,48,49,50,51,52,53,54,55,56,57,58,59,60,61,62,63,64,65,66,67,68,69,70,71,72,73,74,75,76,77,78,79,80,81,82,83,84,85,86,87,88,89,90,91,92,93,94,95,96,97,98,99,100,101,102,103,104,105,106,107,108,109,110,111,112,113,114,115,116,117,118,119,120,121,122,123,124,125,126,127,128,129,130,131,132,133]],[\"y\",{\"type\":\"ndarray\",\"array\":[3221225912,3221225488,3221225488,3221225488,3221225488,3221225848,3221225840,3221225816,3221225852,3221225820,3221225880,3221225840,3221225880,3221225828,3221225828,3221225876,3221225876,3221225816,3221225840,3221225832,3221225856,3221225800,3221225828,3221225848,3221225864,3221225840,3221225852,3221225828,3221225860,3221225840,3221225860,3221225844,3221225892,3221225848,3221225852,3221225852,3221225888,3221225848,3221225876,3221225792,3221225856,3221225784,3221225828,3221225848,3221225848,3221225820,3221225840,3221225824,3221225888,3221225832,3221225848,3221225840,3221225908,3221225844,3221225876,3221225844,3221225864,3221225820,3221225820,3221225792,3221225840,3221225836,3221225844,3221225852,3221225912,3221225816,3221225860,3221225848,3221225860,3221225808,3221225852,3221225832,3221225872,3221225812,3221225844,3221225812,3221225856,3221225852,3221225860,3221225828,3221225884,3221225836,3221225840,3221225820,3221225876,3221225828,3221225852,3221225856,3221225876,3221225840,3221225892,3221225832,3221225848,3221225820,3221225844,3221225820,3221225892,3221225848,3221225824,3221225824,3221225852,3221225828,3221225864,3221225816,3221225884,3221225824,3221225812,3221225808,3221225844,3221225816,3221225872,3221225820,3221225868,3221225836,3221225812,3221225796,3221225844,3221225860,3221225860,3221225832,3221225856,3221225828,3221225844,3221225816,3221225848,3221225792,3221225824,3221225836,3221225880,3221225812,3221225868,3221225820,3221225844,3221225840],\"shape\":[134],\"dtype\":\"object\",\"order\":\"little\"}]]}}},\"view\":{\"type\":\"object\",\"name\":\"CDSView\",\"id\":\"p1346\",\"attributes\":{\"filter\":{\"type\":\"object\",\"name\":\"AllIndices\",\"id\":\"p1347\"}}},\"glyph\":{\"type\":\"object\",\"name\":\"Circle\",\"id\":\"p1342\",\"attributes\":{\"x\":{\"type\":\"field\",\"field\":\"x\"},\"y\":{\"type\":\"field\",\"field\":\"y\"},\"line_color\":{\"type\":\"value\",\"value\":\"green\"},\"fill_color\":{\"type\":\"value\",\"value\":\"green\"},\"hatch_color\":{\"type\":\"value\",\"value\":\"green\"}}},\"nonselection_glyph\":{\"type\":\"object\",\"name\":\"Circle\",\"id\":\"p1343\",\"attributes\":{\"x\":{\"type\":\"field\",\"field\":\"x\"},\"y\":{\"type\":\"field\",\"field\":\"y\"},\"line_color\":{\"type\":\"value\",\"value\":\"green\"},\"line_alpha\":{\"type\":\"value\",\"value\":0.1},\"fill_color\":{\"type\":\"value\",\"value\":\"green\"},\"fill_alpha\":{\"type\":\"value\",\"value\":0.1},\"hatch_color\":{\"type\":\"value\",\"value\":\"green\"},\"hatch_alpha\":{\"type\":\"value\",\"value\":0.1}}},\"muted_glyph\":{\"type\":\"object\",\"name\":\"Circle\",\"id\":\"p1344\",\"attributes\":{\"x\":{\"type\":\"field\",\"field\":\"x\"},\"y\":{\"type\":\"field\",\"field\":\"y\"},\"line_color\":{\"type\":\"value\",\"value\":\"green\"},\"line_alpha\":{\"type\":\"value\",\"value\":0.2},\"fill_color\":{\"type\":\"value\",\"value\":\"green\"},\"fill_alpha\":{\"type\":\"value\",\"value\":0.2},\"hatch_color\":{\"type\":\"value\",\"value\":\"green\"},\"hatch_alpha\":{\"type\":\"value\",\"value\":0.2}}}}}],\"toolbar\":{\"type\":\"object\",\"name\":\"Toolbar\",\"id\":\"p1268\",\"attributes\":{\"tools\":[{\"type\":\"object\",\"name\":\"PanTool\",\"id\":\"p1294\"},{\"type\":\"object\",\"name\":\"WheelZoomTool\",\"id\":\"p1295\"},{\"type\":\"object\",\"name\":\"BoxZoomTool\",\"id\":\"p1296\",\"attributes\":{\"overlay\":{\"type\":\"object\",\"name\":\"BoxAnnotation\",\"id\":\"p1297\",\"attributes\":{\"syncable\":false,\"level\":\"overlay\",\"visible\":false,\"left_units\":\"canvas\",\"right_units\":\"canvas\",\"bottom_units\":\"canvas\",\"top_units\":\"canvas\",\"line_color\":\"black\",\"line_alpha\":1.0,\"line_width\":2,\"line_dash\":[4,4],\"fill_color\":\"lightgrey\",\"fill_alpha\":0.5}}}},{\"type\":\"object\",\"name\":\"SaveTool\",\"id\":\"p1298\"},{\"type\":\"object\",\"name\":\"ResetTool\",\"id\":\"p1299\"},{\"type\":\"object\",\"name\":\"HelpTool\",\"id\":\"p1300\"}]}},\"left\":[{\"type\":\"object\",\"name\":\"LinearAxis\",\"id\":\"p1287\",\"attributes\":{\"ticker\":{\"type\":\"object\",\"name\":\"BasicTicker\",\"id\":\"p1288\",\"attributes\":{\"mantissas\":[1,2,5]}},\"formatter\":{\"type\":\"object\",\"name\":\"BasicTickFormatter\",\"id\":\"p1289\"},\"axis_label\":\"y\",\"major_label_policy\":{\"type\":\"object\",\"name\":\"AllLabels\",\"id\":\"p1290\"}}}],\"below\":[{\"type\":\"object\",\"name\":\"LinearAxis\",\"id\":\"p1280\",\"attributes\":{\"ticker\":{\"type\":\"object\",\"name\":\"BasicTicker\",\"id\":\"p1281\",\"attributes\":{\"mantissas\":[1,2,5]}},\"formatter\":{\"type\":\"object\",\"name\":\"BasicTickFormatter\",\"id\":\"p1282\"},\"axis_label\":\"x\",\"major_label_policy\":{\"type\":\"object\",\"name\":\"AllLabels\",\"id\":\"p1283\"}}}],\"center\":[{\"type\":\"object\",\"name\":\"Grid\",\"id\":\"p1286\",\"attributes\":{\"axis\":{\"id\":\"p1280\"}}},{\"type\":\"object\",\"name\":\"Grid\",\"id\":\"p1293\",\"attributes\":{\"dimension\":1,\"axis\":{\"id\":\"p1287\"}}},{\"type\":\"object\",\"name\":\"Legend\",\"id\":\"p1318\",\"attributes\":{\"items\":[{\"type\":\"object\",\"name\":\"LegendItem\",\"id\":\"p1319\",\"attributes\":{\"label\":{\"type\":\"value\",\"value\":\"id\"},\"renderers\":[{\"id\":\"p1315\"}]}},{\"type\":\"object\",\"name\":\"LegendItem\",\"id\":\"p1338\",\"attributes\":{\"label\":{\"type\":\"value\",\"value\":\"max\"},\"renderers\":[{\"id\":\"p1335\"}]}}]}}]}}],\"callbacks\":{\"type\":\"map\"}}};\n  const render_items = [{\"docid\":\"e7ac7d84-327e-4f5b-946c-44d7b5a5c837\",\"roots\":{\"p1262\":\"c9c3484d-acd6-4b65-ab49-f99327e00cd4\"},\"root_ids\":[\"p1262\"],\"notebook_comms_target\":\"p1404\"}];\n  root.Bokeh.embed.embed_items_notebook(docs_json, render_items);\n  }\n  if (root.Bokeh !== undefined) {\n    embed_document(root);\n  } else {\n    let attempts = 0;\n    const timer = setInterval(function(root) {\n      if (root.Bokeh !== undefined) {\n        clearInterval(timer);\n        embed_document(root);\n      } else {\n        attempts++;\n        if (attempts > 100) {\n          clearInterval(timer);\n          console.log(\"Bokeh: ERROR: Unable to run BokehJS code because BokehJS library is missing\");\n        }\n      }\n    }, 10, root)\n  }\n})(window);",
      "application/vnd.bokehjs_exec.v0+json": ""
     },
     "metadata": {
      "application/vnd.bokehjs_exec.v0+json": {
       "id": "p1262"
      }
     },
     "output_type": "display_data"
    },
    {
     "data": {
      "text/html": [
       "<p><code>&lt;Bokeh Notebook handle for <strong>In[6]</strong>&gt;</code></p>"
      ],
      "text/plain": [
       "<bokeh.io.notebook.CommsHandle at 0x7f77b62b9e50>"
      ]
     },
     "execution_count": 6,
     "metadata": {},
     "output_type": "execute_result"
    }
   ],
   "source": [
    "from bokeh.plotting import figure, show\n",
    "p = bokeh.plotting.figure(title=\"Simple line example\", x_axis_label='x', y_axis_label='y')\n",
    "p.line(list(range(len(data_id ))), data_id , legend_label=\"id\",  line_width=1, color=\"blue\" );p.circle(list(range(len(data_id ))),data_id , color=\"blue\" )\n",
    "p.line(list(range(len(data_max))), data_max, legend_label=\"max\", line_width=1, color=\"green\");p.circle(list(range(len(data_max))),data_max, color=\"green\")\n",
    "bokeh.io.show(p, notebook_handle=True)"
   ]
  },
  {
   "cell_type": "markdown",
   "metadata": {},
   "source": [
    "Copy blocks to S3. For example:\n",
    "\n",
    "\n",
    "```bash\n",
    "aws s3 sync --endpoint-url https://maritime.sealstorage.io/api/v0/s3 --profile sealstorage --size-only  /mnt/c/big/visus-datasets/signal1d_slac_max/ s3://utah/visus-datasets/signal1d_slac_max/\n",
    "```"
   ]
  }
 ],
 "metadata": {
  "kernelspec": {
   "display_name": "Python 3",
   "language": "python",
   "name": "python3"
  },
  "language_info": {
   "codemirror_mode": {
    "name": "ipython",
    "version": 3
   },
   "file_extension": ".py",
   "mimetype": "text/x-python",
   "name": "python",
   "nbconvert_exporter": "python",
   "pygments_lexer": "ipython3",
   "version": "3.9.16"
  }
 },
 "nbformat": 4,
 "nbformat_minor": 2
}
