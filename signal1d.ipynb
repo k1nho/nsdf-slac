{
 "cells": [
  {
   "cell_type": "code",
   "execution_count": 1,
   "metadata": {},
   "outputs": [
    {
     "name": "stdout",
     "output_type": "stream",
     "text": [
      "found 39522 .mid.gz files\n",
      "Done supercdms-data/CDMS/UMN/R68/Raw/07180808_1558/07180808_1558_F0001.mid.gz 671,710\n"
     ]
    }
   ],
   "source": [
    "import os,sys,boto3,json,xmltodict,itertools,subprocess\n",
    "from botocore.client import Config\n",
    "import midas.file_reader\n",
    "from pprint import pprint\n",
    "import numpy as np\n",
    "\n",
    "# /////////////////////////////////////////\n",
    "def GetBanksData(filename):\n",
    "    reader = midas.file_reader.MidasFile(filename)\n",
    "    for E,evt in enumerate(reader):\n",
    "      for bank_name, bank in evt.banks.items():\n",
    "        yield (evt, bank)\n",
    "\n",
    "# ///////////////////////////////////////////////////////////////////\n",
    "def LoadXML(filename):\n",
    "\twith open(filename, 'rt') as file: \n",
    "\t\tbody = file.read() \n",
    "\treturn \n",
    "\n",
    "# ///////////////////////////////////////////////////////////////////\n",
    "def Merge(d1, d2):\n",
    "    return {**d1, **d2} if d1 and d2 else (d1 or d2)\n",
    "\n",
    "# ///////////////////////////////////////////////////////////////////\n",
    "def Concat(v):\n",
    "    return np.array(itertools.chain.from_iterable(v))\n",
    "\n",
    "\n",
    "# /////////////////////////////////////////\n",
    "def ParseEvent(evt):\n",
    "\n",
    "    ret={}\n",
    "\n",
    "    ret[\"header\"]={\n",
    "        \"event_id\": evt.header.event_id,  # int\n",
    "        \"trigger_mask\": evt.header.trigger_mask,  # int\n",
    "        \"serial_number\":evt.header.serial_number,  # int\n",
    "        \"timestamp\": evt.header.timestamp,  # int UNIX timestamp of event\n",
    "        \"event_data_size_bytes\": evt.header.event_data_size_bytes,  # int Size of all banks\n",
    "    }\n",
    "    ret[\"all_bank_size_bytes\"]=evt.all_bank_size_bytes  # (int)\n",
    "    ret[\"flags\"]=evt.flags\n",
    "    ret[\"non_bank_data\"]=evt.non_bank_data # (bytes or None) - Content of some special events that don't\n",
    "    \n",
    "    ret[\"banks\"]={}\n",
    "    for bank_name, bank in evt.banks.items():\n",
    "        ret[\"banks\"][bank.name]={\n",
    "            \"name\": bank.name,  # (str) - 4 characters\n",
    "            \"type\": bank.type,  # (int) - See `TID_xxx` members in `midas` module\n",
    "            \"size_bytes\": bank.size_bytes,  # (int)\n",
    "            \"data\": bank.data # (tuple of int/float/byte etc, or a numpy array if use_numpy is specified when unpacking),\n",
    "        }\n",
    "\n",
    "    return ret\n",
    "\n",
    "# ////////////////////////////////////////////////////////////////\n",
    "def Shell(cmd):\n",
    "\treturn subprocess.check_output(cmd, shell=True, text=True)\n",
    "\n",
    "# /////////////////////////////////////////\n",
    "def ConnectS3(bucket_name=None, endpoint_url=None,aws_access_key_id=None, aws_secret_access_key=None, signature_version = None):\n",
    "    config = Config(signature_version = signature_version)\n",
    "    s3 = boto3.resource('s3', endpoint_url=endpoint_url, aws_access_key_id=aws_access_key_id, aws_secret_access_key=aws_secret_access_key, config=config,)\n",
    "    bucket = s3.Bucket(bucket_name)\n",
    "    return bucket\n",
    "\n",
    "# /////////////////////////////////////////\n",
    "def ParseXML(body):\n",
    "    d=xmltodict.parse(body) \n",
    "    assert(isinstance(d,dict))\n",
    "    return d\n",
    "\n",
    "# /////////////////////////////////////////\n",
    "def SaveXML(filename, data):\n",
    "    os.makedirs(os.path.dirname(filename),exist_ok=True)\n",
    "    with open(filename,\"wb\") as out: out.write(data)\n",
    "\n",
    "\n",
    "# /////////////////////////////////////////\n",
    "def SaveBinary(filename, data):\n",
    "    os.makedirs(os.path.dirname(filename),exist_ok=True)\n",
    "    with open(filename,\"wb\") as out: out.write(data)\n",
    "\n",
    "# /////////////////////////////////////////\n",
    "def SaveArray(filename, data):\n",
    "    os.makedirs(os.path.dirname(filename),exist_ok=True)\n",
    "    np.savez_compressed(filename, data=data)\n",
    "\n",
    "# /////////////////////////////////////////\n",
    "def SaveJSON(filename,d):\n",
    "    os.makedirs(os.path.dirname(filename),exist_ok=True)\n",
    "    with open(json_filename,\"w\") as out:\n",
    "        out.write(d)\n",
    "\n",
    "\n",
    "# ///////////////////////////////////////////////////////////////\n",
    "os.makedirs(\"supercdms-data\",exist_ok=True)\n",
    "\n",
    "endpoint_url=\"https://maritime.sealstorage.io/api/v0/s3\"\n",
    "\n",
    "if not os.path.isfile(\"list.txt\"):\n",
    "    Shell(f\"aws s3 --profile slac_public --endpoint-url {endpoint_url} --no-verify-ssl ls --recursive s3://utah/supercdms-data/CDMS/UMN/R68/Raw/  | awk '{print $4}' > supercdms-data/list.txt\")\n",
    "\n",
    "\n",
    "# ///////////////////////////////////////////////////////////////\n",
    "bucket=ConnectS3(\"utah\", endpoint_url,'any','any','s3v4')\n",
    "max_files=1\n",
    "pulses={}\n",
    "    \n",
    "with open(\"supercdms-data/list.txt\",\"r\") as f:\n",
    "  files=[it.strip() for it in f.readlines() if it.strip().endswith(\".mid.gz\")]\n",
    "print(\"found\",len(files),\".mid.gz files\")\n",
    "        \n",
    "for I,key in enumerate(files):\n",
    "\n",
    "    if max_files and I>=max_files:\n",
    "        break\n",
    "            \n",
    "    key_noext=key.replace(\".mid.gz\",\"\")\n",
    "\n",
    "    # download file\n",
    "    if not os.path.isfile(key):\n",
    "        os.makedirs(os.path.dirname(key),exist_ok=True)\n",
    "        bucket.download_file(key,key)\n",
    "        print(f\"Downloaded file {key} {os.path.getsize(key)}\")\n",
    "    else:\n",
    "        # print(f\"File {key} already exists {os.path.getsize(key)}\")\n",
    "        pass\n",
    "\n",
    "    # generate json\n",
    "    if True or not os.path.isfile(key_noext+\".json\"):\n",
    "        reader = midas.file_reader.MidasFile(key)\n",
    "        events=[]\n",
    "        for E,evt in enumerate(reader):\n",
    "            parsed=ParseEvent(evt)\n",
    "        \n",
    "            # parse xml\n",
    "            non_bank_data=parsed[\"non_bank_data\"]\n",
    "            if non_bank_data:\n",
    "                if non_bank_data[0:5]==b\"<?xml\":\n",
    "                    sub_key=f\"{key_noext}/events/{E:05d}/non_bank_data.xml\"\n",
    "                    SaveXML(sub_key,non_bank_data)\n",
    "                else:\n",
    "                    sub_key=f\"{key_noext}/events/{E:05d}/non_bank_data.bin\"\n",
    "                    SaveBinary(sub_key,non_bank_data)\n",
    "                parsed[\"non_bank_data\"]={\"key\":sub_key}\n",
    "            else:\n",
    "                del parsed[\"non_bank_data\"]\n",
    "\n",
    "            # streamable\n",
    "            for bank_name, bank in parsed[\"banks\"].items():\n",
    "                data=bank[\"data\"]\n",
    "                if data: \n",
    "                    data=np.array(data)\n",
    "                    sub_key=f\"{key_noext}/events/{E:05d}/banks/{bank_name}/data.npz\"\n",
    "                    SaveArray(sub_key,data)\n",
    "                    bank[\"data\"]={\n",
    "                        \"key\":sub_key, \n",
    "                        \"shape\": str(data.shape),\n",
    "                        \"dtype\": str(data.dtype),\n",
    "                        \"vmin\": str(np.min(data)),\n",
    "                        \"vmax\": str(np.max(data))\n",
    "                    } \n",
    "                else:\n",
    "                    del bank[\"data\"]\n",
    "                    \n",
    "            events.append(parsed)\n",
    "\n",
    "        # save json\n",
    "        d=json.dumps(events, sort_keys=False, indent=2)\n",
    "        json_filename=f\"{key_noext}.json\"\n",
    "        SaveJSON(json_filename,d)\n",
    "\n",
    "        # if you want compressed\n",
    "        uncompressed_size=os.path.getsize(json_filename)\n",
    "        #Shell(f\"gzip --keep --force {json_filename}\")\n",
    "        #compressed_size=os.path.getsize(json_filename + '.gz')\n",
    "        #print(\"JSON size size\", f\"{uncompressed_size:,}\",f\"{compressed_size:,}\")\n",
    "\n",
    "    print(\"Done\",key,f\"{uncompressed_size:,}\")"
   ]
  },
  {
   "cell_type": "code",
   "execution_count": null,
   "metadata": {},
   "outputs": [],
   "source": [
    "import glob\n",
    "pulses=[]\n",
    "for it in glob.glob(\"supercdms-data/**/data.npz\",recursive=True):\n",
    "  pulses.append(np.array(np.load(it)[\"data\"]))\n",
    "pulse=np.concatenate(pulses)\n",
    "vmin=np.min(pulse)\n",
    "vmax=np.max(pulse)\n",
    "print(\"dtype\",pulse.dtype,\"shape\", pulse.shape,\"vmin\",vmin,\"vmax\",vmax)"
   ]
  },
  {
   "cell_type": "code",
   "execution_count": null,
   "metadata": {},
   "outputs": [],
   "source": [
    "import shutil\n",
    "import numpy as np\n",
    "import OpenVisus as ov\n",
    "idx_filename='/mnt/c/big/visus-datasets/signal1d_slac/visus.idx'\n",
    "\n",
    "N=pulse.shape[0]\n",
    "shutil.rmtree(os.path.splitext(os.path.dirname(idx_filename))[0], ignore_errors=True)\n",
    "db=ov.CreateIdx(\n",
    "  url=idx_filename, \n",
    "  dims=[N],\n",
    "  fields=[ov.Field('data',ov.DType.fromString(str(pulse.dtype)),'row_major')], \n",
    "  compression=\"raw\", \n",
    "  arco=f\"{4*1024*1024}\")\n",
    "assert(os.path.isfile(idx_filename))\n",
    "\n",
    "print(\"Writing data...\")\n",
    "logic_box=logic_box=ov.BoxNi(ov.PointNi([0]),ov.PointNi([N]))\n",
    "db.write(pulse,  logic_box=logic_box)\n",
    "print(\"write uncompressed data done\",\"logic_box\",logic_box.toString())"
   ]
  },
  {
   "cell_type": "code",
   "execution_count": null,
   "metadata": {},
   "outputs": [],
   "source": [
    "print(\"Compressing data\")\n",
    "db=ov.LoadDataset(idx_filename)\n",
    "db.compressDataset(\"zip\") \n",
    "print(\"compress dataset done\")"
   ]
  },
  {
   "cell_type": "markdown",
   "metadata": {},
   "source": [
    "Read data"
   ]
  },
  {
   "cell_type": "code",
   "execution_count": 3,
   "metadata": {},
   "outputs": [
    {
     "name": "stdout",
     "output_type": "stream",
     "text": [
      "logic_box ([0], [35022570])\n",
      "db.getMaxResolution() 26\n",
      "IDX read done dtype=int64 shape=(2138,) vmin=0 vmax=3221225488\n"
     ]
    }
   ],
   "source": [
    "import OpenVisus as ov\n",
    "import numpy as np\n",
    "idx_filename='/mnt/c/big/visus-datasets/signal1d_slac/visus.idx'\n",
    "db=ov.LoadDataset(idx_filename)\n",
    "logic_box=db.getLogicBox()\n",
    "print(\"logic_box\",logic_box)\n",
    "print(\"db.getMaxResolution()\",db.getMaxResolution())\n",
    "resolution=12\n",
    "data=db.read(logic_box=logic_box, max_resolution=resolution)\n",
    "print(f\"IDX read done dtype={data.dtype} shape={data.shape} vmin={np.min(data)} vmax={np.max(data)}\")\n",
    "\n",
    "\n",
    "#full_res=db.read()\n",
    "#np.save(\"fullres.npy\",full_res)"
   ]
  },
  {
   "cell_type": "markdown",
   "metadata": {},
   "source": [
    "Show data"
   ]
  },
  {
   "cell_type": "code",
   "execution_count": 4,
   "metadata": {},
   "outputs": [
    {
     "data": {
      "text/html": [
       "<style>\n",
       "        .bk-notebook-logo {\n",
       "            display: block;\n",
       "            width: 20px;\n",
       "            height: 20px;\n",
       "            background-image: url(data:image/png;base64,iVBORw0KGgoAAAANSUhEUgAAABQAAAAUCAYAAACNiR0NAAAABHNCSVQICAgIfAhkiAAAAAlwSFlzAAALEgAACxIB0t1+/AAAABx0RVh0U29mdHdhcmUAQWRvYmUgRmlyZXdvcmtzIENTNui8sowAAAOkSURBVDiNjZRtaJVlGMd/1/08zzln5zjP1LWcU9N0NkN8m2CYjpgQYQXqSs0I84OLIC0hkEKoPtiH3gmKoiJDU7QpLgoLjLIQCpEsNJ1vqUOdO7ppbuec5+V+rj4ctwzd8IIbbi6u+8f1539dt3A78eXC7QizUF7gyV1fD1Yqg4JWz84yffhm0qkFqBogB9rM8tZdtwVsPUhWhGcFJngGeWrPzHm5oaMmkfEg1usvLFyc8jLRqDOMru7AyC8saQr7GG7f5fvDeH7Ej8CM66nIF+8yngt6HWaKh7k49Soy9nXurCi1o3qUbS3zWfrYeQDTB/Qj6kX6Ybhw4B+bOYoLKCC9H3Nu/leUTZ1JdRWkkn2ldcCamzrcf47KKXdAJllSlxAOkRgyHsGC/zRday5Qld9DyoM4/q/rUoy/CXh3jzOu3bHUVZeU+DEn8FInkPBFlu3+nW3Nw0mk6vCDiWg8CeJaxEwuHS3+z5RgY+YBR6V1Z1nxSOfoaPa4LASWxxdNp+VWTk7+4vzaou8v8PN+xo+KY2xsw6une2frhw05CTYOmQvsEhjhWjn0bmXPjpE1+kplmmkP3suftwTubK9Vq22qKmrBhpY4jvd5afdRA3wGjFAgcnTK2s4hY0/GPNIb0nErGMCRxWOOX64Z8RAC4oCXdklmEvcL8o0BfkNK4lUg9HTl+oPlQxdNo3Mg4Nv175e/1LDGzZen30MEjRUtmXSfiTVu1kK8W4txyV6BMKlbgk3lMwYCiusNy9fVfvvwMxv8Ynl6vxoByANLTWplvuj/nF9m2+PDtt1eiHPBr1oIfhCChQMBw6Aw0UulqTKZdfVvfG7VcfIqLG9bcldL/+pdWTLxLUy8Qq38heUIjh4XlzZxzQm19lLFlr8vdQ97rjZVOLf8nclzckbcD4wxXMidpX30sFd37Fv/GtwwhzhxGVAprjbg0gCAEeIgwCZyTV2Z1REEW8O4py0wsjeloKoMr6iCY6dP92H6Vw/oTyICIthibxjm/DfN9lVz8IqtqKYLUXfoKVMVQVVJOElGjrnnUt9T9wbgp8AyYKaGlqingHZU/uG2NTZSVqwHQTWkx9hxjkpWDaCg6Ckj5qebgBVbT3V3NNXMSiWSDdGV3hrtzla7J+duwPOToIg42ChPQOQjspnSlp1V+Gjdged7+8UN5CRAV7a5EdFNwCjEaBR27b3W890TE7g24NAP/mMDXRWrGoFPQI9ls/MWO2dWFAar/xcOIImbbpA3zgAAAABJRU5ErkJggg==);\n",
       "        }\n",
       "    </style>\n",
       "    <div>\n",
       "        <a href=\"https://bokeh.org\" target=\"_blank\" class=\"bk-notebook-logo\"></a>\n",
       "        <span id=\"d1b17c3c-9d13-4fab-b603-5aa8772ec17b\">Loading BokehJS ...</span>\n",
       "    </div>\n"
      ]
     },
     "metadata": {},
     "output_type": "display_data"
    },
    {
     "data": {
      "application/javascript": "(function(root) {\n  function now() {\n    return new Date();\n  }\n\n  const force = true;\n\n  if (typeof root._bokeh_onload_callbacks === \"undefined\" || force === true) {\n    root._bokeh_onload_callbacks = [];\n    root._bokeh_is_loading = undefined;\n  }\n\nconst JS_MIME_TYPE = 'application/javascript';\n  const HTML_MIME_TYPE = 'text/html';\n  const EXEC_MIME_TYPE = 'application/vnd.bokehjs_exec.v0+json';\n  const CLASS_NAME = 'output_bokeh rendered_html';\n\n  /**\n   * Render data to the DOM node\n   */\n  function render(props, node) {\n    const script = document.createElement(\"script\");\n    node.appendChild(script);\n  }\n\n  /**\n   * Handle when an output is cleared or removed\n   */\n  function handleClearOutput(event, handle) {\n    const cell = handle.cell;\n\n    const id = cell.output_area._bokeh_element_id;\n    const server_id = cell.output_area._bokeh_server_id;\n    // Clean up Bokeh references\n    if (id != null && id in Bokeh.index) {\n      Bokeh.index[id].model.document.clear();\n      delete Bokeh.index[id];\n    }\n\n    if (server_id !== undefined) {\n      // Clean up Bokeh references\n      const cmd_clean = \"from bokeh.io.state import curstate; print(curstate().uuid_to_server['\" + server_id + \"'].get_sessions()[0].document.roots[0]._id)\";\n      cell.notebook.kernel.execute(cmd_clean, {\n        iopub: {\n          output: function(msg) {\n            const id = msg.content.text.trim();\n            if (id in Bokeh.index) {\n              Bokeh.index[id].model.document.clear();\n              delete Bokeh.index[id];\n            }\n          }\n        }\n      });\n      // Destroy server and session\n      const cmd_destroy = \"import bokeh.io.notebook as ion; ion.destroy_server('\" + server_id + \"')\";\n      cell.notebook.kernel.execute(cmd_destroy);\n    }\n  }\n\n  /**\n   * Handle when a new output is added\n   */\n  function handleAddOutput(event, handle) {\n    const output_area = handle.output_area;\n    const output = handle.output;\n\n    // limit handleAddOutput to display_data with EXEC_MIME_TYPE content only\n    if ((output.output_type != \"display_data\") || (!Object.prototype.hasOwnProperty.call(output.data, EXEC_MIME_TYPE))) {\n      return\n    }\n\n    const toinsert = output_area.element.find(\".\" + CLASS_NAME.split(' ')[0]);\n\n    if (output.metadata[EXEC_MIME_TYPE][\"id\"] !== undefined) {\n      toinsert[toinsert.length - 1].firstChild.textContent = output.data[JS_MIME_TYPE];\n      // store reference to embed id on output_area\n      output_area._bokeh_element_id = output.metadata[EXEC_MIME_TYPE][\"id\"];\n    }\n    if (output.metadata[EXEC_MIME_TYPE][\"server_id\"] !== undefined) {\n      const bk_div = document.createElement(\"div\");\n      bk_div.innerHTML = output.data[HTML_MIME_TYPE];\n      const script_attrs = bk_div.children[0].attributes;\n      for (let i = 0; i < script_attrs.length; i++) {\n        toinsert[toinsert.length - 1].firstChild.setAttribute(script_attrs[i].name, script_attrs[i].value);\n        toinsert[toinsert.length - 1].firstChild.textContent = bk_div.children[0].textContent\n      }\n      // store reference to server id on output_area\n      output_area._bokeh_server_id = output.metadata[EXEC_MIME_TYPE][\"server_id\"];\n    }\n  }\n\n  function register_renderer(events, OutputArea) {\n\n    function append_mime(data, metadata, element) {\n      // create a DOM node to render to\n      const toinsert = this.create_output_subarea(\n        metadata,\n        CLASS_NAME,\n        EXEC_MIME_TYPE\n      );\n      this.keyboard_manager.register_events(toinsert);\n      // Render to node\n      const props = {data: data, metadata: metadata[EXEC_MIME_TYPE]};\n      render(props, toinsert[toinsert.length - 1]);\n      element.append(toinsert);\n      return toinsert\n    }\n\n    /* Handle when an output is cleared or removed */\n    events.on('clear_output.CodeCell', handleClearOutput);\n    events.on('delete.Cell', handleClearOutput);\n\n    /* Handle when a new output is added */\n    events.on('output_added.OutputArea', handleAddOutput);\n\n    /**\n     * Register the mime type and append_mime function with output_area\n     */\n    OutputArea.prototype.register_mime_type(EXEC_MIME_TYPE, append_mime, {\n      /* Is output safe? */\n      safe: true,\n      /* Index of renderer in `output_area.display_order` */\n      index: 0\n    });\n  }\n\n  // register the mime type if in Jupyter Notebook environment and previously unregistered\n  if (root.Jupyter !== undefined) {\n    const events = require('base/js/events');\n    const OutputArea = require('notebook/js/outputarea').OutputArea;\n\n    if (OutputArea.prototype.mime_types().indexOf(EXEC_MIME_TYPE) == -1) {\n      register_renderer(events, OutputArea);\n    }\n  }\n  if (typeof (root._bokeh_timeout) === \"undefined\" || force === true) {\n    root._bokeh_timeout = Date.now() + 5000;\n    root._bokeh_failed_load = false;\n  }\n\n  const NB_LOAD_WARNING = {'data': {'text/html':\n     \"<div style='background-color: #fdd'>\\n\"+\n     \"<p>\\n\"+\n     \"BokehJS does not appear to have successfully loaded. If loading BokehJS from CDN, this \\n\"+\n     \"may be due to a slow or bad network connection. Possible fixes:\\n\"+\n     \"</p>\\n\"+\n     \"<ul>\\n\"+\n     \"<li>re-rerun `output_notebook()` to attempt to load from CDN again, or</li>\\n\"+\n     \"<li>use INLINE resources instead, as so:</li>\\n\"+\n     \"</ul>\\n\"+\n     \"<code>\\n\"+\n     \"from bokeh.resources import INLINE\\n\"+\n     \"output_notebook(resources=INLINE)\\n\"+\n     \"</code>\\n\"+\n     \"</div>\"}};\n\n  function display_loaded() {\n    const el = document.getElementById(\"d1b17c3c-9d13-4fab-b603-5aa8772ec17b\");\n    if (el != null) {\n      el.textContent = \"BokehJS is loading...\";\n    }\n    if (root.Bokeh !== undefined) {\n      if (el != null) {\n        el.textContent = \"BokehJS \" + root.Bokeh.version + \" successfully loaded.\";\n      }\n    } else if (Date.now() < root._bokeh_timeout) {\n      setTimeout(display_loaded, 100)\n    }\n  }\n\n  function run_callbacks() {\n    try {\n      root._bokeh_onload_callbacks.forEach(function(callback) {\n        if (callback != null)\n          callback();\n      });\n    } finally {\n      delete root._bokeh_onload_callbacks\n    }\n    console.debug(\"Bokeh: all callbacks have finished\");\n  }\n\n  function load_libs(css_urls, js_urls, callback) {\n    if (css_urls == null) css_urls = [];\n    if (js_urls == null) js_urls = [];\n\n    root._bokeh_onload_callbacks.push(callback);\n    if (root._bokeh_is_loading > 0) {\n      console.debug(\"Bokeh: BokehJS is being loaded, scheduling callback at\", now());\n      return null;\n    }\n    if (js_urls == null || js_urls.length === 0) {\n      run_callbacks();\n      return null;\n    }\n    console.debug(\"Bokeh: BokehJS not loaded, scheduling load and callback at\", now());\n    root._bokeh_is_loading = css_urls.length + js_urls.length;\n\n    function on_load() {\n      root._bokeh_is_loading--;\n      if (root._bokeh_is_loading === 0) {\n        console.debug(\"Bokeh: all BokehJS libraries/stylesheets loaded\");\n        run_callbacks()\n      }\n    }\n\n    function on_error(url) {\n      console.error(\"failed to load \" + url);\n    }\n\n    for (let i = 0; i < css_urls.length; i++) {\n      const url = css_urls[i];\n      const element = document.createElement(\"link\");\n      element.onload = on_load;\n      element.onerror = on_error.bind(null, url);\n      element.rel = \"stylesheet\";\n      element.type = \"text/css\";\n      element.href = url;\n      console.debug(\"Bokeh: injecting link tag for BokehJS stylesheet: \", url);\n      document.body.appendChild(element);\n    }\n\n    for (let i = 0; i < js_urls.length; i++) {\n      const url = js_urls[i];\n      const element = document.createElement('script');\n      element.onload = on_load;\n      element.onerror = on_error.bind(null, url);\n      element.async = false;\n      element.src = url;\n      console.debug(\"Bokeh: injecting script tag for BokehJS library: \", url);\n      document.head.appendChild(element);\n    }\n  };\n\n  function inject_raw_css(css) {\n    const element = document.createElement(\"style\");\n    element.appendChild(document.createTextNode(css));\n    document.body.appendChild(element);\n  }\n\n  const js_urls = [\"https://cdn.bokeh.org/bokeh/release/bokeh-3.1.1.min.js\", \"https://cdn.bokeh.org/bokeh/release/bokeh-gl-3.1.1.min.js\", \"https://cdn.bokeh.org/bokeh/release/bokeh-widgets-3.1.1.min.js\", \"https://cdn.bokeh.org/bokeh/release/bokeh-tables-3.1.1.min.js\", \"https://cdn.bokeh.org/bokeh/release/bokeh-mathjax-3.1.1.min.js\"];\n  const css_urls = [];\n\n  const inline_js = [    function(Bokeh) {\n      Bokeh.set_log_level(\"info\");\n    },\nfunction(Bokeh) {\n    }\n  ];\n\n  function run_inline_js() {\n    if (root.Bokeh !== undefined || force === true) {\n          for (let i = 0; i < inline_js.length; i++) {\n      inline_js[i].call(root, root.Bokeh);\n    }\nif (force === true) {\n        display_loaded();\n      }} else if (Date.now() < root._bokeh_timeout) {\n      setTimeout(run_inline_js, 100);\n    } else if (!root._bokeh_failed_load) {\n      console.log(\"Bokeh: BokehJS failed to load within specified timeout.\");\n      root._bokeh_failed_load = true;\n    } else if (force !== true) {\n      const cell = $(document.getElementById(\"d1b17c3c-9d13-4fab-b603-5aa8772ec17b\")).parents('.cell').data().cell;\n      cell.output_area.append_execute_result(NB_LOAD_WARNING)\n    }\n  }\n\n  if (root._bokeh_is_loading === 0) {\n    console.debug(\"Bokeh: BokehJS loaded, going straight to plotting\");\n    run_inline_js();\n  } else {\n    load_libs(css_urls, js_urls, function() {\n      console.debug(\"Bokeh: BokehJS plotting callback run at\", now());\n      run_inline_js();\n    });\n  }\n}(window));",
      "application/vnd.bokehjs_load.v0+json": ""
     },
     "metadata": {},
     "output_type": "display_data"
    }
   ],
   "source": [
    "import bokeh\n",
    "import bokeh.io \n",
    "bokeh.io.output_notebook()"
   ]
  },
  {
   "cell_type": "code",
   "execution_count": 5,
   "metadata": {},
   "outputs": [
    {
     "data": {
      "text/html": [
       "\n",
       "  <div id=\"f51b324d-2870-4c76-bf32-e6c95de9a414\" data-root-id=\"p1001\" style=\"display: contents;\"></div>\n"
      ]
     },
     "metadata": {},
     "output_type": "display_data"
    },
    {
     "data": {
      "application/javascript": "(function(root) {\n  function embed_document(root) {\n  const docs_json = {\"2cc45f20-eb48-492f-baeb-0a0e1984a8f6\":{\"version\":\"3.1.1\",\"title\":\"Bokeh Application\",\"defs\":[],\"roots\":[{\"type\":\"object\",\"name\":\"Figure\",\"id\":\"p1001\",\"attributes\":{\"x_range\":{\"type\":\"object\",\"name\":\"DataRange1d\",\"id\":\"p1003\"},\"y_range\":{\"type\":\"object\",\"name\":\"DataRange1d\",\"id\":\"p1002\"},\"x_scale\":{\"type\":\"object\",\"name\":\"LinearScale\",\"id\":\"p1015\"},\"y_scale\":{\"type\":\"object\",\"name\":\"LinearScale\",\"id\":\"p1017\"},\"title\":{\"type\":\"object\",\"name\":\"Title\",\"id\":\"p1004\",\"attributes\":{\"text\":\"Simple line example\"}},\"renderers\":[{\"type\":\"object\",\"name\":\"GlyphRenderer\",\"id\":\"p1054\",\"attributes\":{\"data_source\":{\"type\":\"object\",\"name\":\"ColumnDataSource\",\"id\":\"p1048\",\"attributes\":{\"selected\":{\"type\":\"object\",\"name\":\"Selection\",\"id\":\"p1050\",\"attributes\":{\"indices\":[],\"line_indices\":[]}},\"selection_policy\":{\"type\":\"object\",\"name\":\"UnionRenderers\",\"id\":\"p1049\"},\"data\":{\"type\":\"map\",\"entries\":[[\"x\",[0,1,2,3,4,5,6,7,8,9,10,11,12,13,14,15,16,17,18,19,20,21,22,23,24,25,26,27,28,29,30,31,32,33,34,35,36,37,38,39,40,41,42,43,44,45,46,47,48,49,50,51,52,53,54,55,56,57,58,59,60,61,62,63,64,65,66,67,68,69,70,71,72,73,74,75,76,77,78,79,80,81,82,83,84,85,86,87,88,89,90,91,92,93,94,95,96,97,98,99,100,101,102,103,104,105,106,107,108,109,110,111,112,113,114,115,116,117,118,119,120,121,122,123,124,125,126,127,128,129,130,131,132,133,134,135,136,137,138,139,140,141,142,143,144,145,146,147,148,149,150,151,152,153,154,155,156,157,158,159,160,161,162,163,164,165,166,167,168,169,170,171,172,173,174,175,176,177,178,179,180,181,182,183,184,185,186,187,188,189,190,191,192,193,194,195,196,197,198,199,200,201,202,203,204,205,206,207,208,209,210,211,212,213,214,215,216,217,218,219,220,221,222,223,224,225,226,227,228,229,230,231,232,233,234,235,236,237,238,239,240,241,242,243,244,245,246,247,248,249,250,251,252,253,254,255,256,257,258,259,260,261,262,263,264,265,266,267,268,269,270,271,272,273,274,275,276,277,278,279,280,281,282,283,284,285,286,287,288,289,290,291,292,293,294,295,296,297,298,299,300,301,302,303,304,305,306,307,308,309,310,311,312,313,314,315,316,317,318,319,320,321,322,323,324,325,326,327,328,329,330,331,332,333,334,335,336,337,338,339,340,341,342,343,344,345,346,347,348,349,350,351,352,353,354,355,356,357,358,359,360,361,362,363,364,365,366,367,368,369,370,371,372,373,374,375,376,377,378,379,380,381,382,383,384,385,386,387,388,389,390,391,392,393,394,395,396,397,398,399,400,401,402,403,404,405,406,407,408,409,410,411,412,413,414,415,416,417,418,419,420,421,422,423,424,425,426,427,428,429,430,431,432,433,434,435,436,437,438,439,440,441,442,443,444,445,446,447,448,449,450,451,452,453,454,455,456,457,458,459,460,461,462,463,464,465,466,467,468,469,470,471,472,473,474,475,476,477,478,479,480,481,482,483,484,485,486,487,488,489,490,491,492,493,494,495,496,497,498,499,500,501,502,503,504,505,506,507,508,509,510,511,512,513,514,515,516,517,518,519,520,521,522,523,524,525,526,527,528,529,530,531,532,533,534,535,536,537,538,539,540,541,542,543,544,545,546,547,548,549,550,551,552,553,554,555,556,557,558,559,560,561,562,563,564,565,566,567,568,569,570,571,572,573,574,575,576,577,578,579,580,581,582,583,584,585,586,587,588,589,590,591,592,593,594,595,596,597,598,599,600,601,602,603,604,605,606,607,608,609,610,611,612,613,614,615,616,617,618,619,620,621,622,623,624,625,626,627,628,629,630,631,632,633,634,635,636,637,638,639,640,641,642,643,644,645,646,647,648,649,650,651,652,653,654,655,656,657,658,659,660,661,662,663,664,665,666,667,668,669,670,671,672,673,674,675,676,677,678,679,680,681,682,683,684,685,686,687,688,689,690,691,692,693,694,695,696,697,698,699,700,701,702,703,704,705,706,707,708,709,710,711,712,713,714,715,716,717,718,719,720,721,722,723,724,725,726,727,728,729,730,731,732,733,734,735,736,737,738,739,740,741,742,743,744,745,746,747,748,749,750,751,752,753,754,755,756,757,758,759,760,761,762,763,764,765,766,767,768,769,770,771,772,773,774,775,776,777,778,779,780,781,782,783,784,785,786,787,788,789,790,791,792,793,794,795,796,797,798,799,800,801,802,803,804,805,806,807,808,809,810,811,812,813,814,815,816,817,818,819,820,821,822,823,824,825,826,827,828,829,830,831,832,833,834,835,836,837,838,839,840,841,842,843,844,845,846,847,848,849,850,851,852,853,854,855,856,857,858,859,860,861,862,863,864,865,866,867,868,869,870,871,872,873,874,875,876,877,878,879,880,881,882,883,884,885,886,887,888,889,890,891,892,893,894,895,896,897,898,899,900,901,902,903,904,905,906,907,908,909,910,911,912,913,914,915,916,917,918,919,920,921,922,923,924,925,926,927,928,929,930,931,932,933,934,935,936,937,938,939,940,941,942,943,944,945,946,947,948,949,950,951,952,953,954,955,956,957,958,959,960,961,962,963,964,965,966,967,968,969,970,971,972,973,974,975,976,977,978,979,980,981,982,983,984,985,986,987,988,989,990,991,992,993,994,995,996,997,998,999,1000,1001,1002,1003,1004,1005,1006,1007,1008,1009,1010,1011,1012,1013,1014,1015,1016,1017,1018,1019,1020,1021,1022,1023,1024,1025,1026,1027,1028,1029,1030,1031,1032,1033,1034,1035,1036,1037,1038,1039,1040,1041,1042,1043,1044,1045,1046,1047,1048,1049,1050,1051,1052,1053,1054,1055,1056,1057,1058,1059,1060,1061,1062,1063,1064,1065,1066,1067,1068,1069,1070,1071,1072,1073,1074,1075,1076,1077,1078,1079,1080,1081,1082,1083,1084,1085,1086,1087,1088,1089,1090,1091,1092,1093,1094,1095,1096,1097,1098,1099,1100,1101,1102,1103,1104,1105,1106,1107,1108,1109,1110,1111,1112,1113,1114,1115,1116,1117,1118,1119,1120,1121,1122,1123,1124,1125,1126,1127,1128,1129,1130,1131,1132,1133,1134,1135,1136,1137,1138,1139,1140,1141,1142,1143,1144,1145,1146,1147,1148,1149,1150,1151,1152,1153,1154,1155,1156,1157,1158,1159,1160,1161,1162,1163,1164,1165,1166,1167,1168,1169,1170,1171,1172,1173,1174,1175,1176,1177,1178,1179,1180,1181,1182,1183,1184,1185,1186,1187,1188,1189,1190,1191,1192,1193,1194,1195,1196,1197,1198,1199,1200,1201,1202,1203,1204,1205,1206,1207,1208,1209,1210,1211,1212,1213,1214,1215,1216,1217,1218,1219,1220,1221,1222,1223,1224,1225,1226,1227,1228,1229,1230,1231,1232,1233,1234,1235,1236,1237,1238,1239,1240,1241,1242,1243,1244,1245,1246,1247,1248,1249,1250,1251,1252,1253,1254,1255,1256,1257,1258,1259,1260,1261,1262,1263,1264,1265,1266,1267,1268,1269,1270,1271,1272,1273,1274,1275,1276,1277,1278,1279,1280,1281,1282,1283,1284,1285,1286,1287,1288,1289,1290,1291,1292,1293,1294,1295,1296,1297,1298,1299,1300,1301,1302,1303,1304,1305,1306,1307,1308,1309,1310,1311,1312,1313,1314,1315,1316,1317,1318,1319,1320,1321,1322,1323,1324,1325,1326,1327,1328,1329,1330,1331,1332,1333,1334,1335,1336,1337,1338,1339,1340,1341,1342,1343,1344,1345,1346,1347,1348,1349,1350,1351,1352,1353,1354,1355,1356,1357,1358,1359,1360,1361,1362,1363,1364,1365,1366,1367,1368,1369,1370,1371,1372,1373,1374,1375,1376,1377,1378,1379,1380,1381,1382,1383,1384,1385,1386,1387,1388,1389,1390,1391,1392,1393,1394,1395,1396,1397,1398,1399,1400,1401,1402,1403,1404,1405,1406,1407,1408,1409,1410,1411,1412,1413,1414,1415,1416,1417,1418,1419,1420,1421,1422,1423,1424,1425,1426,1427,1428,1429,1430,1431,1432,1433,1434,1435,1436,1437,1438,1439,1440,1441,1442,1443,1444,1445,1446,1447,1448,1449,1450,1451,1452,1453,1454,1455,1456,1457,1458,1459,1460,1461,1462,1463,1464,1465,1466,1467,1468,1469,1470,1471,1472,1473,1474,1475,1476,1477,1478,1479,1480,1481,1482,1483,1484,1485,1486,1487,1488,1489,1490,1491,1492,1493,1494,1495,1496,1497,1498,1499,1500,1501,1502,1503,1504,1505,1506,1507,1508,1509,1510,1511,1512,1513,1514,1515,1516,1517,1518,1519,1520,1521,1522,1523,1524,1525,1526,1527,1528,1529,1530,1531,1532,1533,1534,1535,1536,1537,1538,1539,1540,1541,1542,1543,1544,1545,1546,1547,1548,1549,1550,1551,1552,1553,1554,1555,1556,1557,1558,1559,1560,1561,1562,1563,1564,1565,1566,1567,1568,1569,1570,1571,1572,1573,1574,1575,1576,1577,1578,1579,1580,1581,1582,1583,1584,1585,1586,1587,1588,1589,1590,1591,1592,1593,1594,1595,1596,1597,1598,1599,1600,1601,1602,1603,1604,1605,1606,1607,1608,1609,1610,1611,1612,1613,1614,1615,1616,1617,1618,1619,1620,1621,1622,1623,1624,1625,1626,1627,1628,1629,1630,1631,1632,1633,1634,1635,1636,1637,1638,1639,1640,1641,1642,1643,1644,1645,1646,1647,1648,1649,1650,1651,1652,1653,1654,1655,1656,1657,1658,1659,1660,1661,1662,1663,1664,1665,1666,1667,1668,1669,1670,1671,1672,1673,1674,1675,1676,1677,1678,1679,1680,1681,1682,1683,1684,1685,1686,1687,1688,1689,1690,1691,1692,1693,1694,1695,1696,1697,1698,1699,1700,1701,1702,1703,1704,1705,1706,1707,1708,1709,1710,1711,1712,1713,1714,1715,1716,1717,1718,1719,1720,1721,1722,1723,1724,1725,1726,1727,1728,1729,1730,1731,1732,1733,1734,1735,1736,1737,1738,1739,1740,1741,1742,1743,1744,1745,1746,1747,1748,1749,1750,1751,1752,1753,1754,1755,1756,1757,1758,1759,1760,1761,1762,1763,1764,1765,1766,1767,1768,1769,1770,1771,1772,1773,1774,1775,1776,1777,1778,1779,1780,1781,1782,1783,1784,1785,1786,1787,1788,1789,1790,1791,1792,1793,1794,1795,1796,1797,1798,1799,1800,1801,1802,1803,1804,1805,1806,1807,1808,1809,1810,1811,1812,1813,1814,1815,1816,1817,1818,1819,1820,1821,1822,1823,1824,1825,1826,1827,1828,1829,1830,1831,1832,1833,1834,1835,1836,1837,1838,1839,1840,1841,1842,1843,1844,1845,1846,1847,1848,1849,1850,1851,1852,1853,1854,1855,1856,1857,1858,1859,1860,1861,1862,1863,1864,1865,1866,1867,1868,1869,1870,1871,1872,1873,1874,1875,1876,1877,1878,1879,1880,1881,1882,1883,1884,1885,1886,1887,1888,1889,1890,1891,1892,1893,1894,1895,1896,1897,1898,1899,1900,1901,1902,1903,1904,1905,1906,1907,1908,1909,1910,1911,1912,1913,1914,1915,1916,1917,1918,1919,1920,1921,1922,1923,1924,1925,1926,1927,1928,1929,1930,1931,1932,1933,1934,1935,1936,1937,1938,1939,1940,1941,1942,1943,1944,1945,1946,1947,1948,1949,1950,1951,1952,1953,1954,1955,1956,1957,1958,1959,1960,1961,1962,1963,1964,1965,1966,1967,1968,1969,1970,1971,1972,1973,1974,1975,1976,1977,1978,1979,1980,1981,1982,1983,1984,1985,1986,1987,1988,1989,1990,1991,1992,1993,1994,1995,1996,1997,1998,1999,2000,2001,2002,2003,2004,2005,2006,2007,2008,2009,2010,2011,2012,2013,2014,2015,2016,2017,2018,2019,2020,2021,2022,2023,2024,2025,2026,2027,2028,2029,2030,2031,2032,2033,2034,2035,2036,2037,2038,2039,2040,2041,2042,2043,2044,2045,2046,2047,2048,2049,2050,2051,2052,2053,2054,2055,2056,2057,2058,2059,2060,2061,2062,2063,2064,2065,2066,2067,2068,2069,2070,2071,2072,2073,2074,2075,2076,2077,2078,2079,2080,2081,2082,2083,2084,2085,2086,2087,2088,2089,2090,2091,2092,2093,2094,2095,2096,2097,2098,2099,2100,2101,2102,2103,2104,2105,2106,2107,2108,2109,2110,2111,2112,2113,2114,2115,2116,2117,2118,2119,2120,2121,2122,2123,2124,2125,2126,2127,2128,2129,2130,2131,2132,2133,2134,2135,2136,2137]],[\"y\",{\"type\":\"ndarray\",\"array\":[3221225488,241766001,235081225,222956872,216141024,221515063,0,0,0,231673293,228789668,241438308,249171677,355538224,245239456,222694732,225971570,224202076,0,0,0,216272099,229772721,230297013,240455254,338039848,234294773,221383991,643376730,287183138,0,0,0,262410143,268242945,289280317,289149246,1000094621,287379746,292688242,633218499,256249670,0,0,0,236457500,238358067,260706183,267653107,268767234,2147254268,264966090,248123087,237375012,237243940,0,0,0,229772723,251334394,251006705,260181890,338170921,259526521,238489142,238882364,230821313,0,2208334754,0,224595297,224726370,245632674,253300506,999111568,248450766,248975064,235539971,227610002,0,0,0,220990770,220466466,239930957,250089196,249499357,244190864,243601028,231804369,223546709,223415634,0,0,0,223087953,239734346,246025901,305795646,338170916,280891581,235015687,232984036,247074485,0,0,0,219680021,238554680,238947908,248712914,998783884,245632678,225971577,224005478,224857444,0,0,0,214502594,216534245,229903799,243076732,235146748,232132054,235802124,231542221,232328664,233246174,0,0,0,217124086,231214537,234360310,239603273,355538223,241831530,222432577,254414641,221318450,0,218107139,0,224529765,236457498,236195348,237112867,1073692671,596714381,216534243,222498109,215616731,0,0,0,213847236,212864174,245436066,235867662,255594299,301404664,241503846,231738822,217976056,241962602,0,0,0,212012196,230821318,236391959,277090435,355276078,241176162,226626947,222891335,264769479,0,0,0,214568140,235998736,245304995,257101656,1073692671,237178403,228134287,232394199,216534247,0,0,0,210701463,243338885,243732112,234556924,1048002128,238292525,233377258,226954630,228527524,217582835,0,0,0,236654106,234229239,252055304,237768235,355472688,266080220,226364792,219614485,227478926,0,0,0,223808859,355079464,232263127,310907529,338236456,236719648,225709439,225774969,217451773,0,0,0,211815585,216730862,231738835,236457493,995900251,238423605,265818074,232328667,225054057,0,0,0,212077729,215747805,250679023,315364040,234622455,2147254268,241765990,241962602,221580593,223415631,0,0,0,215420115,224529762,228855204,235277828,338301995,237309480,225971576,236523044,224726366,0,2204664676,0,220859682,230755778,230952389,256970574,995310422,281153726,232394204,227085706,216075488,0,0,0,212733107,216272106,257691482,251989759,247992005,238947900,237768238,224136540,217255160,217582842,0,0,0,215813338,230362556,229379497,240258640,337908772,233639410,373888589,321065765,264048574,0,0,0,237178403,258543467,258084700,265359316,1073692671,262868908,248057543,259723125,233115111,0,0,0,228134298,224791913,247664320,255659838,258477927,250875635,251793152,237899313,226561411,227937682,0,0,0,220859692,239996496,250023657,249106135,355341614,243601027,230034878,230165942,223087946,0,0,0,216730861,236523031,236457493,245894821,1073692671,239734341,236981795,274010199,224398690,0,0,0,232459743,217910524,243207811,247795395,250810097,308154977,241962608,239537739,225774962,214830281,0,0,0,221449525,228265374,231280073,243404419,355538221,243338873,234360314,455940901,340268112,0,0,0,215485667,233770474,234098164,240389714,1073692671,239013441,227020176,225971583,219680023,0,0,0,214240454,215026901,232984035,239603271,1043021465,236719642,238095926,225840503,219417882,219614492,0,0,0,214961358,232132054,238226992,237899307,355407152,237112863,224398690,218959124,218828043,0,0,0,213060794,234884608,249564896,240389713,338170919,238292530,224333155,225381752,218434820,0,0,0,213978300,213322935,229903802,235933201,997473144,235605520,235474440,223481179,219680028,0,0,0,213060792,212339886,230624705,236850723,236064279,2147254268,234884613,224267622,218434817,217844993,0,0,0,215813339,229772718,230165945,236195340,338957367,234819064,223087940,223022412,218303744,0,0,0,212667568,212929712,229117356,235015675,998194047,233246185,233311726,228527509,229576112,0,0,0,210635913,220400929,229248433,235867667,273420368,272371775,251793153,243404408,228068757,218828043,0,0,0,219745559,229772718,230821318,242814586,338236456,276697220,228330910,221777205,232656348,0,0,0,209718401,230034867,229445041,233115109,998718344,237899310,235146755,224857449,216730864,0,0,0,220073252,227741080,237637162,254676790,243666565,243666567,238816828,227544468,219286799,217910528,0,0,0,246025898,246091442,251662075,236523034,355472686,308941420,223743313,227610007,215223508,0,220663080,0,233180650,234950144,229903799,244977307,1073692671,238161459,224922981,226102649,220073246,0,0,0,222760265,219745563,229903802,232984034,252514067,244518556,235736593,233311717,232000982,219548953,0,0,0,211029150,237506084,234425849,256708432,355210540,246156972,231673293,226823555,218107140,0,0,0,215289045,235736585,233704946,241241694,1073692671,247664323,231476678,225906041,218696973,0,0,0,219942171,215420111,233508328,237768234,1064451923,307630673,247205559,221252910,216665323,223808856,0,0,0,214240454,229707182,238358071,243273346,357569873,251531006,219548948,217648376,225512810,0,0,0,284954874,242159214,228789663,237899308,338170920,343676028,225774967,223939936,216141025,0,0,0,230297015,216665319,238161463,244780693,998783878,244977304,306975310,253824793,222563649,0,0,0,213060787,211029139,284889336,235146749,249171668,2147254268,239472199,317854455,219483414,218631427,0,0,0,211553437,261033875,235408907,237243939,338170920,239603278,226364797,235212294,230297011,0,2209579955,0,221842752,227020167,228068765,236981789,999504787,230755777,240979553,229313959,221383988,0,0,0,215616729,216861923,234491385,244518546,244059787,238226993,237440555,225447291,219614479,219417879,0,0,0,215551194,232787427,233311725,243535493,338105384,237243943,223939930,224988516,218762513,0,0,0,214305992,231083462,232328659,242552432,1073692671,239668811,224791911,224857449,219221261,0,0,0,213716150,213847228,230690235,241045081,241897068,234688000,233901554,222629193,218369286,216927466,0,0,0,212602025,229445036,239668809,239406659,355407151,233639404,221383988,221580604,216009948,0,216468709,0,211946652,228789666,228593058,239406658,1073692671,231542219,220990763,308679289,234884609,0,0,0,215157973,216075485,231738836,241962599,241307234,234163706,234098163,222301507,217582838,217713918,0,0,0,213388468,229641654,240258641,336204811,355472688,276500603,227085707,219483414,219876633,0,0,0,308875877,241765991,245370528,614474915,1073692671,242093678,228593052,237178411,229117350,0,0,0,210898065,213585086,232328669,232328661,1068580479,232066520,233639406,219876635,265621460,222760262,0,0,0,243928711,232918504,244846236,239537735,355472686,242683517,220663077,219024645,221580598,0,0,0,213585080,229510572,229576111,239799883,338236458,232984033,220138783,222104890,225971572,0,0,0,212470954,213781693,339088440,275976313,999373709,249564895,242028142,309793399,226954635,0,0,0,215551198,216599786,232787425,243666565,244125317,2147254268,239144507,224595298,219483418,219811096,0,0,0,214043840,230428092,230559169,241634919,338039847,268636166,227478930,236785154,220204320,0,0,0,213912774,213781698,229051818,240389717,1000094622,239144515,232263135,231542216,235998739,0,0,0,215485656,215289052,232918501,244911766,245436064,237112863,237309473,224922973,219286807,219417873,0,0,0,213060789,229641649,229445036,242028133,338236456,234163701,222563651,222235963,216927473,0,0,0,214174914,230755777,230821310,241045090,999046028,234294776,233836015,331289537,255004474,0,0,0,216141027,239996499,234688000,244321939,245042844,238816826,238554685,226495864,220531998,220597539,0,0,0,214961360,231804365,232000980,243076731,338105384,598090669,275386482,238489141,237571627,0,0,0,218238210,236129814,236523034,247271101,1073692671,241831531,226823555,228396450,220925232,0,0,0,215485646,214109380,262672294,257036113,247402171,241634925,242355823,228068755,220138787,220794150,0,0,0,215813336,232721884,243076734,243535491,355669295,237768232,225512812,224857449,219221268,0,0,0,215223501,232459740,231411152,242159216,1073692671,235343368,223284564,223350101,218041597,0,0,0,213912768,213126316,269291540,256773969,1086472418,239930964,239668810,241962609,225512819,224857447,0,0,0,216599790,408557660,323031875,355603764,355341613,335942660,284037359,254938933,242028145,0,0,0,234425848,253300506,233704941,251531009,1073692671,237637162,224791906,264769470,224791900,0,0,0,212864178,211487905,230428089,234622461,997800825,244911771,233836017,225250666,218303742,0,0,0,0,218107136,232721890,244059787,258674541,355603762,245173920,243469955,221187372,223743317,0,0,0,217648378,240979549,261951390,244584084,338236455,234556924,219417874,223350097,216796395,0,0,0,217582840,212470951,229379496,238030379,998062973,243011200,233573866,222629187,227544463,0,0,0,217255158,221383988,232459741,235998734,266080219,267456501,268570628,221121839,217582837,215944415,0,0,0,223284555,245501605,274141272,235146758,338301996,231148999,223415638,231673290,223546701,0,2204271466,0,217517298,242814585,233901552,238816827,999111564,242224753,238554681,225709421,219942169,0,0,0,223612242,213650619,230952391,241897067,245108384,238292535,245042842,230624699,239930949,215944414,0,0,0,231149002,259723133,226430338,237440556,338236457,249695969,222432576,218828047,226168191,0,0,0,228330900,232394200,230100412,248123087,1073692671,246615733,229051818,380049062,222760267,0,0,0,267456497,218828049,226102650,235212293,243601028,247926471,232459738,228396452,224660830,230952386,0,0,0,221646133,242355828,237899311,250679023,355276082,249040602,251989764,235802129,217058546,0,0,0,211029136,231673290,229248426,236260888,1073692671,247140027,226102640,223481177,247336639,0,0,0,223546708,217713916,259985284,466688981,1086865614,231280068,230493629,219221268,218369286,229182889,0,0,0,214371520,231411145,239341128,237506087,365303189,229445035,221056300,216665318,216075493,0,0,0,216272097,237702699,230034870,235212293,1073692671,232984030,224333152,223546701,220990760,0,0,0,210308233,214699212,231083462,242552440,999046028,234556917,238161462,222235976,228724130,0,0,0,212339878,229707183,240586326,260116357,246288049,2147254268,242355827,229182894,218565892,248254151,0,0,0,216075497,233377255,233704936,242749053,338367530,235146754,223415624,223219030,218565891,0,0,0,213191859,212012191,228724132,239406661,998652808,232263132,232459741,221711672,217582831,0,0,0,211618966,211422356,228330906,239472195,238620216,232197589,232394206,220990752,216599790,215944417,0,0,0,234294779,235277828,238882370,247402179,338236456,238751294,222367045,222039367,217451768,0,0,0,211094676,228724127,228134298,238947901,998849414,232328668,231280075,220859691,216534247,0,0,0,211356823,209652869,227741075,250089195,568730041,531767234,309465716,229313966,219155725,293474701,0,0,0,212864177,227937689,227610003,239144516,338236457,373036603,270536731,245763755,230100404,0,0,0,227282317,243011195,235867661,251072249,1073692671,246681270,230100403,231673290,221580596,0,0,0,219090189,209849477,312939176,249630431,235998732,234687995,351868153,227020173,214437061,217910530,0,0,0,229051812,297406902,240651865,239275590,355341613,239734342,219483413,221252919,229379499,0,0,0,212012194,232656347,297537992,237964847,1073692671,286069005,227741074,228789660,220269860,0,0,0,212077739,216730860,225250671,246681265,1084965077,233704938,252120838,221580595,229510575,219024652,0,0,0,214895825,234491386,243142273,267784181,352457983,237899307,224922983,218369286,223546709,0,0,0,231935440,259985281,246681268,246353591,1073692671,235277829,228068763,441260623,218434820,0,0,0,213912762,216534248,232918499,244256402,998849417,234753535,229182895,220007705,224202080,0,0,0,247271101,241569381,230690242,232787430,263720885,2147254268,238882366,264048577,216206554,221515054,0,0,0,221318447,234229236,233639401,235081213,338236456,234294773,221908274,270209005,221777210,0,0,0,214371523,214764750,232984032,243207810,998390660,235671059,236850719,224726376,219024654,0,0,0,217910532,217124080,231935448,242814590,242683513,236654107,236129810,225054047,218828038,218238210,0,0,0,212405420,230297018,230362555,240717403,338039846,234688000,223874388,222367047,217124085,0,11,0,212143262,229182890,229379502,240062029,997538676,233901547,234032628,221187381,216993009,0,0,0,211422365,211029141,228920741,238816832,239341130,232328671,232656350,239865423,221252912,218172669,0,0,0,212405413,231345612,228855205,240520790,338039848,233901551,513547955,222170429,219548948,0,0,0,218172684,233180650,232984037,243732098,1073692671,253366036,224791916,232852969,218565898,0,0,0,213912770,238816846,229117351,239799892,240717397,234163700,233508328,220794153,216730860,216468713,0,0,0,243797649,237571624,238423599,250220265,355472689,235998738,222956881,226626947,223284557,0,65568,0,216403176,230952392,233704944,235998733,1073692671,233573871,222367034,262672298,221646136,0,0,0,216861936,216665320,357963097,343217269,1084244177,344069248,364910016,314053307,273223755,271716400,0,0,0,255397693,278270106,284561657,287052058,355276077,280236212,262344615,245436062,246550194,0,0,0,241765991,263524280,264179651,273158219,1073692671,269488142,251858692,252055302,288690486,0,0,0,260247423,249237214,259657595,268374020,998718342,264900560,264441792,248254155,235671054,0,0,0,0,235802127,252710669,264507333,397809614,355341614,267390966,242224760,232918496,233180646,0,0,0,243601022,254938929,383325938,260771723,337974310,255397689,299438546,638395923,253431576,0,0,0,230362556,230624707,251924229,261099407,999111564,257232730,257363797,239668804,232787422,0,0,0,224333149,224333159,644490857,499850701,236654103,2147254268,296030625,293867909,219024656,228593061,0,0,0,216272097,242093682,234491384,234032626,338039849,247533247,243863171,236064278,215813340,0,2204664670,0,259788659,235867660,321327917,245960358,998128508,238816834,240258647,222825804,217386226,0,0,0,220138784,311366283,241241696,234229239,243338880,241438307,237047331,245632683,218959118,219155728,0,0,0,216272107,236654105,235408906,244190861,338170919,255528763,236850721,224726377,218893585,0,0,0,216009955,230231478,230165945,239603271,1073692671,233704943,221121838,221842741,218238206,0,0,0,220859682,221908277,241831533,245108378,245501595,236457502,236326427,222498123,219548945,219090190,0,0,0,213388464,228396447,242421366,250547947,355538225,235015680,223415624,222563656,218041602,0,0,0,227544468,240717400,272502842,245894821,1073692671,238423603,224005475,223743320,219155726,0,0,0,497163695,218107134,246091432,248581842,250089193,248254155,289280320,228199843,220204318,220859692,0,0,0,218303754,233442794,244125324,244387470,355800373,237702699,225381750,219614491,219155733,0,0,0,216927467,234229233,234294777,244453010,1073692671,239013432,225906041,222367040,216534253,0,0,0,216272100,239013437,233377258,254218019,1080967471,241241698,261623712,226889084,214699212,226758026,0,0,0,210832531,281612485,236981793,290197838,355341614,237309474,219942177,215157974,221318450,0,0,0,261689243,227085708,235867658,239734347,338301991,229182893,218959126,220859693,218631430,0,0,0,217320690,211553427,228658593,235081219,998194047,235474444,246222511,247140022,227610004,0,0,0,217517304,217451767,239537738,249040602,233639401,2147254268,438966820,218434826,215092439,213781692,0,0,0,212536490,546644128,233377254,244846229,338367529,241765988,221646134,228527515,219548946,0,2208400298,0,213060793,286331155,230886847,631317917,996686698,279974063,234622459,314643134,236129807,0,0,0,215092438,214764752,232328665,242421360,241438312,235998740,236391962,224988522,218565899,218565884,0,0,0,211750055,229248428,228855206,238816828,338301995,233377255,221908286,222956866,216730860,0,0,0,306319939,334173162,350295265,349508822,1073692671,351409387,316216031,329323424,280563893,0,0,0,268767228,271716406,300356077,320541464,309465716,317854453,365041102,296161707,262410151,269488144,0,0,0,259198830,285151482,289673543,290722133,355472688,292295022,268636158,271323174,250154725,0,221580596,0,245370528,269291538,271061030,279908532,1073692671,279318694,258019172,259592065,242290290,0,0,0,236719633,545005696,281612492,279449769,276631680,272306231,271454253,224267617,216796398,452270836,0,0,0,535044069,232328664,245567137,241241700,355276077,241045081,223677783,217648373,237375012,0,0,0,323359555,254807859,240389716,230362558,1073692671,307434063,222170438,222563642,216468712,0,0,0,244256403,214502603,234294773,303763989,1038564649,245173923,243797642,227741068,223546708,227282312,0,0,0,216403179,228199835,236654107,245632681,355276076,260247428,246419121,213650627,222432580,0,0,0,210766998,235343367,228855205,235277829,338105384,231083462,224267614,227675541,217386228,0,0,0,218500357,230821317,235933203,241897067,1000815527,278991012,248188623,294654363,255266614,0,0,0,212602030,425073001,229051813,245698212,249433823,2147254268,242945657,246419117,239275583,226954628,0,0,0,247795399,229117351,229576112,236785184,338170921,296489393,222498117,231607753,219745560,0,2207679386,0,224922983,220466467,284168436,238947902,996162403,253759261,245698213,227413398,218500364,0,0,0,254480170,216861931,228658589,236785178,251268854,241765995,232000977,288428336,218172674,217844993,0,0,0,213847235,239210049,247795391,237243936,338170919,272699456,220532007,245567135,215420119,0,0,0,327947148,237833775,253693723,242093681,1073692671,238226992,238095918,226430335,214043840,0,0,0,228330907,232197590,252972821,246222508,252972816,247992009,233508332,221383989,226102647,233704948,0,0],\"shape\":[2138],\"dtype\":\"object\",\"order\":\"little\"}]]}}},\"view\":{\"type\":\"object\",\"name\":\"CDSView\",\"id\":\"p1055\",\"attributes\":{\"filter\":{\"type\":\"object\",\"name\":\"AllIndices\",\"id\":\"p1056\"}}},\"glyph\":{\"type\":\"object\",\"name\":\"Line\",\"id\":\"p1051\",\"attributes\":{\"x\":{\"type\":\"field\",\"field\":\"x\"},\"y\":{\"type\":\"field\",\"field\":\"y\"},\"line_color\":\"#1f77b4\"}},\"nonselection_glyph\":{\"type\":\"object\",\"name\":\"Line\",\"id\":\"p1052\",\"attributes\":{\"x\":{\"type\":\"field\",\"field\":\"x\"},\"y\":{\"type\":\"field\",\"field\":\"y\"},\"line_color\":\"#1f77b4\",\"line_alpha\":0.1}},\"muted_glyph\":{\"type\":\"object\",\"name\":\"Line\",\"id\":\"p1053\",\"attributes\":{\"x\":{\"type\":\"field\",\"field\":\"x\"},\"y\":{\"type\":\"field\",\"field\":\"y\"},\"line_color\":\"#1f77b4\",\"line_alpha\":0.2}}}}],\"toolbar\":{\"type\":\"object\",\"name\":\"Toolbar\",\"id\":\"p1008\",\"attributes\":{\"tools\":[{\"type\":\"object\",\"name\":\"PanTool\",\"id\":\"p1033\"},{\"type\":\"object\",\"name\":\"WheelZoomTool\",\"id\":\"p1034\"},{\"type\":\"object\",\"name\":\"BoxZoomTool\",\"id\":\"p1035\",\"attributes\":{\"overlay\":{\"type\":\"object\",\"name\":\"BoxAnnotation\",\"id\":\"p1036\",\"attributes\":{\"syncable\":false,\"level\":\"overlay\",\"visible\":false,\"left_units\":\"canvas\",\"right_units\":\"canvas\",\"bottom_units\":\"canvas\",\"top_units\":\"canvas\",\"line_color\":\"black\",\"line_alpha\":1.0,\"line_width\":2,\"line_dash\":[4,4],\"fill_color\":\"lightgrey\",\"fill_alpha\":0.5}}}},{\"type\":\"object\",\"name\":\"SaveTool\",\"id\":\"p1037\"},{\"type\":\"object\",\"name\":\"ResetTool\",\"id\":\"p1038\"},{\"type\":\"object\",\"name\":\"HelpTool\",\"id\":\"p1039\"}]}},\"left\":[{\"type\":\"object\",\"name\":\"LinearAxis\",\"id\":\"p1026\",\"attributes\":{\"ticker\":{\"type\":\"object\",\"name\":\"BasicTicker\",\"id\":\"p1029\",\"attributes\":{\"mantissas\":[1,2,5]}},\"formatter\":{\"type\":\"object\",\"name\":\"BasicTickFormatter\",\"id\":\"p1027\"},\"axis_label\":\"y\",\"major_label_policy\":{\"type\":\"object\",\"name\":\"AllLabels\",\"id\":\"p1028\"}}}],\"below\":[{\"type\":\"object\",\"name\":\"LinearAxis\",\"id\":\"p1019\",\"attributes\":{\"ticker\":{\"type\":\"object\",\"name\":\"BasicTicker\",\"id\":\"p1022\",\"attributes\":{\"mantissas\":[1,2,5]}},\"formatter\":{\"type\":\"object\",\"name\":\"BasicTickFormatter\",\"id\":\"p1020\"},\"axis_label\":\"x\",\"major_label_policy\":{\"type\":\"object\",\"name\":\"AllLabels\",\"id\":\"p1021\"}}}],\"center\":[{\"type\":\"object\",\"name\":\"Grid\",\"id\":\"p1025\",\"attributes\":{\"axis\":{\"id\":\"p1019\"}}},{\"type\":\"object\",\"name\":\"Grid\",\"id\":\"p1032\",\"attributes\":{\"dimension\":1,\"axis\":{\"id\":\"p1026\"}}},{\"type\":\"object\",\"name\":\"Legend\",\"id\":\"p1057\",\"attributes\":{\"items\":[{\"type\":\"object\",\"name\":\"LegendItem\",\"id\":\"p1058\",\"attributes\":{\"label\":{\"type\":\"value\",\"value\":\"Pulse\"},\"renderers\":[{\"id\":\"p1054\"}]}}]}}]}}],\"callbacks\":{\"type\":\"map\"}}};\n  const render_items = [{\"docid\":\"2cc45f20-eb48-492f-baeb-0a0e1984a8f6\",\"roots\":{\"p1001\":\"f51b324d-2870-4c76-bf32-e6c95de9a414\"},\"root_ids\":[\"p1001\"]}];\n  root.Bokeh.embed.embed_items_notebook(docs_json, render_items);\n  }\n  if (root.Bokeh !== undefined) {\n    embed_document(root);\n  } else {\n    let attempts = 0;\n    const timer = setInterval(function(root) {\n      if (root.Bokeh !== undefined) {\n        clearInterval(timer);\n        embed_document(root);\n      } else {\n        attempts++;\n        if (attempts > 100) {\n          clearInterval(timer);\n          console.log(\"Bokeh: ERROR: Unable to run BokehJS code because BokehJS library is missing\");\n        }\n      }\n    }, 10, root)\n  }\n})(window);",
      "application/vnd.bokehjs_exec.v0+json": ""
     },
     "metadata": {
      "application/vnd.bokehjs_exec.v0+json": {
       "id": "p1001"
      }
     },
     "output_type": "display_data"
    }
   ],
   "source": [
    "from bokeh.plotting import figure, show\n",
    "p = bokeh.plotting.figure(title=\"Simple line example\", x_axis_label='x', y_axis_label='y')\n",
    "y=data\n",
    "x=list(range(len(y)))\n",
    "p.line(x, y, legend_label=\"Pulse\", line_width=1)\n",
    "show(p)"
   ]
  },
  {
   "cell_type": "markdown",
   "metadata": {},
   "source": [
    "Copy blocks to S3. For example:\n",
    "\n",
    "\n",
    "```bash\n",
    "aws s3 sync --no-verify-ssl --endpoint-url https://maritime.sealstorage.io/api/v0/s3 --profile sealstorage --size-only  C:/big/visus-datasets/signal1d_slac/ s3://utah/visus-datasets/signal1d_slac/\n",
    "```"
   ]
  },
  {
   "cell_type": "markdown",
   "metadata": {},
   "source": [
    "# With `max` filter"
   ]
  },
  {
   "cell_type": "code",
   "execution_count": null,
   "metadata": {},
   "outputs": [],
   "source": [
    "idx_filename_max='/mnt/c/big/visus-datasets/signal1d_slac_max/visus.idx'\n",
    "shutil.rmtree(os.path.splitext(idx_filename_max)[0], ignore_errors=True)\n",
    "field=ov.Field('data',f\"int64[2]\",'row_major')\n",
    "N=pulse.shape[0]\n",
    "\n",
    "db=ov.CreateIdx(url=idx_filename_max, \n",
    "  dim=1, \n",
    "  dims=[N],\n",
    "  fields=[field], \n",
    "  compression=\"raw\",\n",
    "  filters=['max'],\n",
    "  arco=2*1024*1024\n",
    ")\n",
    "assert(os.path.isfile(idx_filename_max))\n",
    "\n",
    "print(f\"Source pulse dtype={pulse.dtype} shape={pulse.shape} vmin={np.min(pulse):,} vmax={np.max(pulse)}\")\n",
    "pulse_max=np.zeros((N, 2), dtype=pulse.dtype)\n",
    "pulse_max[:,0]=pulse[:]\n",
    "vmin,vmax=np.min(pulse_max[:,0]),np.max(pulse_max[:,0])\n",
    "print(f\"New pulse with extra channel shape={pulse_max.shape} dtype={pulse_max.dtype} vmin={vmin:,} vmax={vmax:,}\")\n",
    "\n",
    "print(\"Writing data...\")\n",
    "logic_box=ov.BoxNi(ov.PointNi([0]),ov.PointNi([N]))\n",
    "db.write(pulse_max, logic_box=logic_box)\n",
    "print(f\"written max pulse logic_box=[{logic_box.toString()}]\")"
   ]
  },
  {
   "cell_type": "markdown",
   "metadata": {},
   "source": [
    "Compute filter (SLOW OPERATION even ~8 minutes!)"
   ]
  },
  {
   "cell_type": "code",
   "execution_count": null,
   "metadata": {},
   "outputs": [],
   "source": [
    "GB=1024*1024*1024\n",
    "db.computeFilter(db.getField(), 1*GB)\n",
    "print(\"Filter computed\")"
   ]
  },
  {
   "cell_type": "code",
   "execution_count": null,
   "metadata": {},
   "outputs": [],
   "source": [
    "print(\"Compressing data...\")\n",
    "db.compressDataset(\"zip\") \n",
    "print(\"compress dataset done\")"
   ]
  },
  {
   "cell_type": "markdown",
   "metadata": {},
   "source": [
    "Show subsampled and max:"
   ]
  },
  {
   "cell_type": "code",
   "execution_count": null,
   "metadata": {},
   "outputs": [],
   "source": [
    "db_id =ov.LoadDataset('/mnt/c/big/visus-datasets/signal1d_slac/visus.idx'    )\n",
    "db_max=ov.LoadDataset('/mnt/c/big/visus-datasets/signal1d_slac_max/visus.idx')\n",
    "logic_box=db_id.getLogicBox()\n",
    "resolution=8\n",
    "data_sub=db_id .read(logic_box=logic_box, max_resolution=resolution)\n",
    "data_max=db_max.read(logic_box=logic_box, max_resolution=resolution)[:,0]\n",
    "print(f\"read id  dtype={data_sub.dtype } shape={data_sub.shape } vmin={np.min(data_sub) } vmax={np.max(data_sub )}\")\n",
    "print(f\"read max dtype={data_max.dtype} shape={data_max.shape} vmin={np.min(data_max)} vmax={np.max(data_max)}\")\n",
    "p = bokeh.plotting.figure(title=\"Simple line example\", x_axis_label='x', y_axis_label='y')\n",
    "p.line(list(range(len(data_sub))), data_sub, legend_label=\"sub\", line_width=1, color=\"blue\" );p.circle(list(range(len(data_sub))),data_sub, color=\"blue\" )\n",
    "p.line(list(range(len(data_max))), data_max, legend_label=\"max\", line_width=1, color=\"green\");p.circle(list(range(len(data_max))),data_max, color=\"green\")\n",
    "bokeh.io.show(p, notebook_handle=True)"
   ]
  },
  {
   "cell_type": "markdown",
   "metadata": {},
   "source": [
    "Copy blocks to S3. For example:\n",
    "\n",
    "\n",
    "```bash\n",
    "aws s3 sync --no-verify-ssl --endpoint-url https://maritime.sealstorage.io/api/v0/s3 --profile sealstorage --size-only  C:/big/visus-datasets/signal1d_slac_max/ s3://utah/visus-datasets/signal1d_slac_max/\n",
    "```"
   ]
  },
  {
   "cell_type": "markdown",
   "metadata": {},
   "source": [
    "# Valerio's period signal"
   ]
  },
  {
   "cell_type": "code",
   "execution_count": 7,
   "metadata": {},
   "outputs": [],
   "source": [
    "import numpy as np\n",
    "import scipy \n",
    "range0 = 128\n",
    "samples = range0*range0*range0*range0\n",
    "x = np.linspace(0, 1, samples)\n",
    "range1 = range0        ;y1 = range1 *scipy.signal.sawtooth((samples/range1) * np.pi * 5 * x)\n",
    "range2 = range1 *range0;y2 = range2 *scipy.signal.square  ((samples/range2) * np.pi * 5 * x)\n",
    "range3 = range2 *range0;y3 = range3 *scipy.signal.sawtooth((samples/range3) * np.pi * 5 * x, 0.5)\n",
    "range4 = range3 *range0;y4 = (range4 //16) *np.sin  ((samples/range4) * np.pi * 8 * x)\n",
    "y = y1 + y2 +y3 + y4"
   ]
  },
  {
   "cell_type": "code",
   "execution_count": 14,
   "metadata": {},
   "outputs": [
    {
     "data": {
      "text/plain": [
       "[<matplotlib.lines.Line2D at 0x7f2841ae2760>]"
      ]
     },
     "execution_count": 14,
     "metadata": {},
     "output_type": "execute_result"
    },
    {
     "data": {
      "image/png": "[encoded data removed]",
      "text/plain": [
       "<Figure size 640x480 with 1 Axes>"
      ]
     },
     "metadata": {},
     "output_type": "display_data"
    }
   ],
   "source": [
    "#This is only to plot a little piece\n",
    "import matplotlib.pyplot as plt\n",
    "\n",
    "plt.plot(x[::256], y[::256])"
   ]
  },
  {
   "cell_type": "code",
   "execution_count": 10,
   "metadata": {},
   "outputs": [
    {
     "name": "stdout",
     "output_type": "stream",
     "text": [
      "Writing IDX data...\n",
      "write uncompressed data done logic_box 0 268435456\n",
      "Compressing data\n",
      "compress dataset done\n"
     ]
    }
   ],
   "source": [
    "import shutil,os,sys\n",
    "import numpy as np\n",
    "import OpenVisus as ov\n",
    "idx_filename='/mnt/c/big/visus-datasets/signal1d_periodic/visus.idx'\n",
    "\n",
    "pulse=y\n",
    "N=pulse.shape[0]\n",
    "shutil.rmtree(os.path.splitext(os.path.dirname(idx_filename))[0], ignore_errors=True)\n",
    "db=ov.CreateIdx(url=idx_filename,  dims=[N], fields=[ov.Field('data',ov.DType.fromString(str(pulse.dtype)),'row_major')], compression=\"raw\", arco=f\"{4*1024*1024}\")\n",
    "\n",
    "print(\"Writing IDX data...\")\n",
    "logic_box=logic_box=ov.BoxNi(ov.PointNi([0]),ov.PointNi([N]))\n",
    "db.write(pulse, logic_box=logic_box)\n",
    "print(\"write uncompressed data done\",\"logic_box\",logic_box.toString())\n",
    "\n",
    "print(\"Compressing data\")\n",
    "db=ov.LoadDataset(idx_filename)\n",
    "db.compressDataset(\"zip\") \n",
    "print(\"compress dataset done\")\n",
    "\n",
    "# aws s3 sync --no-verify-ssl --endpoint-url https://maritime.sealstorage.io/api/v0/s3 --profile sealstorage --size-only  C:/big/visus-datasets/signal1d_periodic/ s3://utah/visus-datasets/signal1d_periodic/"
   ]
  },
  {
   "cell_type": "code",
   "execution_count": null,
   "metadata": {},
   "outputs": [],
   "source": []
  }
 ],
 "metadata": {
  "kernelspec": {
   "display_name": "Python 3",
   "language": "python",
   "name": "python3"
  },
  "language_info": {
   "codemirror_mode": {
    "name": "ipython",
    "version": 3
   },
   "file_extension": ".py",
   "mimetype": "text/x-python",
   "name": "python",
   "nbconvert_exporter": "python",
   "pygments_lexer": "ipython3",
   "version": "3.9.16"
  }
 },
 "nbformat": 4,
 "nbformat_minor": 2
}
