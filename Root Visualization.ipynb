{
 "cells": [
  {
   "cell_type": "code",
   "execution_count": 2,
   "id": "2c895024",
   "metadata": {},
   "outputs": [],
   "source": [
    "import uproot\n",
    "\n",
    "file = uproot.open(\"files/root/Test_Filter_23230808_020422.root\")"
   ]
  },
  {
   "cell_type": "code",
   "execution_count": 3,
   "id": "64fa5ab7",
   "metadata": {},
   "outputs": [
    {
     "data": {
      "text/plain": [
       "['zip4;1',\n",
       " 'zip4/PBS1NoisePSD;1',\n",
       " 'zip4/PBS1NoiseFFT;1',\n",
       " 'zip4/PBS1NoiseFFTsq;1',\n",
       " 'zip4/PBS1OptimalFilterRe;1',\n",
       " 'zip4/PBS1OptimalFilterIm;1',\n",
       " 'zip4/PBS1NormFFT;1',\n",
       " 'zip4/PBS1SigToNoiseSq;1',\n",
       " 'zip4/PBS1PulseNorm;1',\n",
       " 'zip4/PBS1TemplateTime;1',\n",
       " 'zip4/PBS1TemplateFFTRe;1',\n",
       " 'zip4/PBS1TemplateFFTIm;1',\n",
       " 'zip4/PES1NoisePSD;1',\n",
       " 'zip4/PES1NoiseFFT;1',\n",
       " 'zip4/PES1NoiseFFTsq;1',\n",
       " 'zip4/PES1OptimalFilterRe;1',\n",
       " 'zip4/PES1OptimalFilterIm;1',\n",
       " 'zip4/PES1NormFFT;1',\n",
       " 'zip4/PES1SigToNoiseSq;1',\n",
       " 'zip4/PES1PulseNorm;1',\n",
       " 'zip4/PES1TemplateTime;1',\n",
       " 'zip4/PES1TemplateFFTRe;1',\n",
       " 'zip4/PES1TemplateFFTIm;1',\n",
       " 'zip4/PAS1NoisePSD;1',\n",
       " 'zip4/PAS1NoiseFFT;1',\n",
       " 'zip4/PAS1NoiseFFTsq;1',\n",
       " 'zip4/PAS1OptimalFilterRe;1',\n",
       " 'zip4/PAS1OptimalFilterIm;1',\n",
       " 'zip4/PAS1NormFFT;1',\n",
       " 'zip4/PAS1SigToNoiseSq;1',\n",
       " 'zip4/PAS1PulseNorm;1',\n",
       " 'zip4/PAS1TemplateTime;1',\n",
       " 'zip4/PAS1TemplateFFTRe;1',\n",
       " 'zip4/PAS1TemplateFFTIm;1',\n",
       " 'zip4/PFS2NoisePSD;1',\n",
       " 'zip4/PFS2NoiseFFT;1',\n",
       " 'zip4/PFS2NoiseFFTsq;1',\n",
       " 'zip4/PFS2OptimalFilterRe;1',\n",
       " 'zip4/PFS2OptimalFilterIm;1',\n",
       " 'zip4/PFS2NormFFT;1',\n",
       " 'zip4/PFS2SigToNoiseSq;1',\n",
       " 'zip4/PFS2PulseNorm;1',\n",
       " 'zip4/PFS2TemplateTime;1',\n",
       " 'zip4/PFS2TemplateFFTRe;1',\n",
       " 'zip4/PFS2TemplateFFTIm;1',\n",
       " 'zip4/PCS2NoisePSD;1',\n",
       " 'zip4/PCS2NoiseFFT;1',\n",
       " 'zip4/PCS2NoiseFFTsq;1',\n",
       " 'zip4/PCS2OptimalFilterRe;1',\n",
       " 'zip4/PCS2OptimalFilterIm;1',\n",
       " 'zip4/PCS2NormFFT;1',\n",
       " 'zip4/PCS2SigToNoiseSq;1',\n",
       " 'zip4/PCS2PulseNorm;1',\n",
       " 'zip4/PCS2TemplateTime;1',\n",
       " 'zip4/PCS2TemplateFFTRe;1',\n",
       " 'zip4/PCS2TemplateFFTIm;1',\n",
       " 'zip4/PBS2NoisePSD;1',\n",
       " 'zip4/PBS2NoiseFFT;1',\n",
       " 'zip4/PBS2NoiseFFTsq;1',\n",
       " 'zip4/PBS2OptimalFilterRe;1',\n",
       " 'zip4/PBS2OptimalFilterIm;1',\n",
       " 'zip4/PBS2NormFFT;1',\n",
       " 'zip4/PBS2SigToNoiseSq;1',\n",
       " 'zip4/PBS2PulseNorm;1',\n",
       " 'zip4/PBS2TemplateTime;1',\n",
       " 'zip4/PBS2TemplateFFTRe;1',\n",
       " 'zip4/PBS2TemplateFFTIm;1',\n",
       " 'zip4/PES2NoisePSD;1',\n",
       " 'zip4/PES2NoiseFFT;1',\n",
       " 'zip4/PES2NoiseFFTsq;1',\n",
       " 'zip4/PES2OptimalFilterRe;1',\n",
       " 'zip4/PES2OptimalFilterIm;1',\n",
       " 'zip4/PES2NormFFT;1',\n",
       " 'zip4/PES2SigToNoiseSq;1',\n",
       " 'zip4/PES2PulseNorm;1',\n",
       " 'zip4/PES2TemplateTime;1',\n",
       " 'zip4/PES2TemplateFFTRe;1',\n",
       " 'zip4/PES2TemplateFFTIm;1',\n",
       " 'zip4/PDS2NoisePSD;1',\n",
       " 'zip4/PDS2NoiseFFT;1',\n",
       " 'zip4/PDS2NoiseFFTsq;1',\n",
       " 'zip4/PDS2OptimalFilterRe;1',\n",
       " 'zip4/PDS2OptimalFilterIm;1',\n",
       " 'zip4/PDS2NormFFT;1',\n",
       " 'zip4/PDS2SigToNoiseSq;1',\n",
       " 'zip4/PDS2PulseNorm;1',\n",
       " 'zip4/PDS2TemplateTime;1',\n",
       " 'zip4/PDS2TemplateFFTRe;1',\n",
       " 'zip4/PDS2TemplateFFTIm;1',\n",
       " 'zip4/PAS2NoisePSD;1',\n",
       " 'zip4/PAS2NoiseFFT;1',\n",
       " 'zip4/PAS2NoiseFFTsq;1',\n",
       " 'zip4/PAS2OptimalFilterRe;1',\n",
       " 'zip4/PAS2OptimalFilterIm;1',\n",
       " 'zip4/PAS2NormFFT;1',\n",
       " 'zip4/PAS2SigToNoiseSq;1',\n",
       " 'zip4/PAS2PulseNorm;1',\n",
       " 'zip4/PAS2TemplateTime;1',\n",
       " 'zip4/PAS2TemplateFFTRe;1',\n",
       " 'zip4/PAS2TemplateFFTIm;1',\n",
       " 'zip4/PTNoisePSD;1',\n",
       " 'zip4/PTNoiseFFT;1',\n",
       " 'zip4/PTNoiseFFTsq;1',\n",
       " 'zip4/PTOptimalFilterRe;1',\n",
       " 'zip4/PTOptimalFilterIm;1',\n",
       " 'zip4/PTNormFFT;1',\n",
       " 'zip4/PTSigToNoiseSq;1',\n",
       " 'zip4/PTPulseNorm;1',\n",
       " 'zip4/PTTemplateTime;1',\n",
       " 'zip4/PTTemplateFFTRe;1',\n",
       " 'zip4/PTTemplateFFTIm;1',\n",
       " 'zip4/PS1NoisePSD;1',\n",
       " 'zip4/PS1NoiseFFT;1',\n",
       " 'zip4/PS1NoiseFFTsq;1',\n",
       " 'zip4/PS1OptimalFilterRe;1',\n",
       " 'zip4/PS1OptimalFilterIm;1',\n",
       " 'zip4/PS1NormFFT;1',\n",
       " 'zip4/PS1SigToNoiseSq;1',\n",
       " 'zip4/PS1PulseNorm;1',\n",
       " 'zip4/PS1TemplateTime;1',\n",
       " 'zip4/PS1TemplateFFTRe;1',\n",
       " 'zip4/PS1TemplateFFTIm;1',\n",
       " 'zip4/PS2NoisePSD;1',\n",
       " 'zip4/PS2NoiseFFT;1',\n",
       " 'zip4/PS2NoiseFFTsq;1',\n",
       " 'zip4/PS2OptimalFilterRe;1',\n",
       " 'zip4/PS2OptimalFilterIm;1',\n",
       " 'zip4/PS2NormFFT;1',\n",
       " 'zip4/PS2SigToNoiseSq;1',\n",
       " 'zip4/PS2PulseNorm;1',\n",
       " 'zip4/PS2TemplateTime;1',\n",
       " 'zip4/PS2TemplateFFTRe;1',\n",
       " 'zip4/PS2TemplateFFTIm;1',\n",
       " 'detectorConfigDir;1',\n",
       " 'detectorConfigDir/detectorConfigZip4;1',\n",
       " 'infoDir;1',\n",
       " 'infoDir/zip4;1',\n",
       " 'infoDir/zip4/EventList;1',\n",
       " 'infoDir/zip4/PT_randTrid.zip4;1',\n",
       " 'infoDir/zip4/PT_minmax.zip4;1',\n",
       " 'infoDir/zip4/PT_OFchisq.zip4;1',\n",
       " 'infoDir/zip4/PT_OFamp.zip4;1',\n",
       " 'infoDir/zip4/PT_slope.zip4;1',\n",
       " 'infoDir/zip4/PT_randTrig_SEQ.zip4;1',\n",
       " 'infoDir/zip4/PT_minmax_SEQ.zip4;1',\n",
       " 'infoDir/zip4/PT_OFamp_SEQ.zip4;1',\n",
       " 'infoDir/zip4/PT_OFchisq_SEQ.zip4;1',\n",
       " 'infoDir/zip4/PT_slope_SEQ.zip4;1',\n",
       " 'infoDir/zip4/infoZip4;1']"
      ]
     },
     "execution_count": 3,
     "metadata": {},
     "output_type": "execute_result"
    }
   ],
   "source": [
    "file.keys()"
   ]
  },
  {
   "cell_type": "code",
   "execution_count": 24,
   "id": "8bf935e4",
   "metadata": {},
   "outputs": [
    {
     "data": {
      "text/plain": [
       "{'zip4;1': 'TDirectory',\n",
       " 'zip4/PBS1NoisePSD;1': 'TH1D',\n",
       " 'zip4/PBS1NoiseFFT;1': 'TH1D',\n",
       " 'zip4/PBS1NoiseFFTsq;1': 'TH1D',\n",
       " 'zip4/PBS1OptimalFilterRe;1': 'TH1D',\n",
       " 'zip4/PBS1OptimalFilterIm;1': 'TH1D',\n",
       " 'zip4/PBS1NormFFT;1': 'TH1D',\n",
       " 'zip4/PBS1SigToNoiseSq;1': 'TH1D',\n",
       " 'zip4/PBS1PulseNorm;1': 'TH1D',\n",
       " 'zip4/PBS1TemplateTime;1': 'TH1D',\n",
       " 'zip4/PBS1TemplateFFTRe;1': 'TH1D',\n",
       " 'zip4/PBS1TemplateFFTIm;1': 'TH1D',\n",
       " 'zip4/PES1NoisePSD;1': 'TH1D',\n",
       " 'zip4/PES1NoiseFFT;1': 'TH1D',\n",
       " 'zip4/PES1NoiseFFTsq;1': 'TH1D',\n",
       " 'zip4/PES1OptimalFilterRe;1': 'TH1D',\n",
       " 'zip4/PES1OptimalFilterIm;1': 'TH1D',\n",
       " 'zip4/PES1NormFFT;1': 'TH1D',\n",
       " 'zip4/PES1SigToNoiseSq;1': 'TH1D',\n",
       " 'zip4/PES1PulseNorm;1': 'TH1D',\n",
       " 'zip4/PES1TemplateTime;1': 'TH1D',\n",
       " 'zip4/PES1TemplateFFTRe;1': 'TH1D',\n",
       " 'zip4/PES1TemplateFFTIm;1': 'TH1D',\n",
       " 'zip4/PAS1NoisePSD;1': 'TH1D',\n",
       " 'zip4/PAS1NoiseFFT;1': 'TH1D',\n",
       " 'zip4/PAS1NoiseFFTsq;1': 'TH1D',\n",
       " 'zip4/PAS1OptimalFilterRe;1': 'TH1D',\n",
       " 'zip4/PAS1OptimalFilterIm;1': 'TH1D',\n",
       " 'zip4/PAS1NormFFT;1': 'TH1D',\n",
       " 'zip4/PAS1SigToNoiseSq;1': 'TH1D',\n",
       " 'zip4/PAS1PulseNorm;1': 'TH1D',\n",
       " 'zip4/PAS1TemplateTime;1': 'TH1D',\n",
       " 'zip4/PAS1TemplateFFTRe;1': 'TH1D',\n",
       " 'zip4/PAS1TemplateFFTIm;1': 'TH1D',\n",
       " 'zip4/PFS2NoisePSD;1': 'TH1D',\n",
       " 'zip4/PFS2NoiseFFT;1': 'TH1D',\n",
       " 'zip4/PFS2NoiseFFTsq;1': 'TH1D',\n",
       " 'zip4/PFS2OptimalFilterRe;1': 'TH1D',\n",
       " 'zip4/PFS2OptimalFilterIm;1': 'TH1D',\n",
       " 'zip4/PFS2NormFFT;1': 'TH1D',\n",
       " 'zip4/PFS2SigToNoiseSq;1': 'TH1D',\n",
       " 'zip4/PFS2PulseNorm;1': 'TH1D',\n",
       " 'zip4/PFS2TemplateTime;1': 'TH1D',\n",
       " 'zip4/PFS2TemplateFFTRe;1': 'TH1D',\n",
       " 'zip4/PFS2TemplateFFTIm;1': 'TH1D',\n",
       " 'zip4/PCS2NoisePSD;1': 'TH1D',\n",
       " 'zip4/PCS2NoiseFFT;1': 'TH1D',\n",
       " 'zip4/PCS2NoiseFFTsq;1': 'TH1D',\n",
       " 'zip4/PCS2OptimalFilterRe;1': 'TH1D',\n",
       " 'zip4/PCS2OptimalFilterIm;1': 'TH1D',\n",
       " 'zip4/PCS2NormFFT;1': 'TH1D',\n",
       " 'zip4/PCS2SigToNoiseSq;1': 'TH1D',\n",
       " 'zip4/PCS2PulseNorm;1': 'TH1D',\n",
       " 'zip4/PCS2TemplateTime;1': 'TH1D',\n",
       " 'zip4/PCS2TemplateFFTRe;1': 'TH1D',\n",
       " 'zip4/PCS2TemplateFFTIm;1': 'TH1D',\n",
       " 'zip4/PBS2NoisePSD;1': 'TH1D',\n",
       " 'zip4/PBS2NoiseFFT;1': 'TH1D',\n",
       " 'zip4/PBS2NoiseFFTsq;1': 'TH1D',\n",
       " 'zip4/PBS2OptimalFilterRe;1': 'TH1D',\n",
       " 'zip4/PBS2OptimalFilterIm;1': 'TH1D',\n",
       " 'zip4/PBS2NormFFT;1': 'TH1D',\n",
       " 'zip4/PBS2SigToNoiseSq;1': 'TH1D',\n",
       " 'zip4/PBS2PulseNorm;1': 'TH1D',\n",
       " 'zip4/PBS2TemplateTime;1': 'TH1D',\n",
       " 'zip4/PBS2TemplateFFTRe;1': 'TH1D',\n",
       " 'zip4/PBS2TemplateFFTIm;1': 'TH1D',\n",
       " 'zip4/PES2NoisePSD;1': 'TH1D',\n",
       " 'zip4/PES2NoiseFFT;1': 'TH1D',\n",
       " 'zip4/PES2NoiseFFTsq;1': 'TH1D',\n",
       " 'zip4/PES2OptimalFilterRe;1': 'TH1D',\n",
       " 'zip4/PES2OptimalFilterIm;1': 'TH1D',\n",
       " 'zip4/PES2NormFFT;1': 'TH1D',\n",
       " 'zip4/PES2SigToNoiseSq;1': 'TH1D',\n",
       " 'zip4/PES2PulseNorm;1': 'TH1D',\n",
       " 'zip4/PES2TemplateTime;1': 'TH1D',\n",
       " 'zip4/PES2TemplateFFTRe;1': 'TH1D',\n",
       " 'zip4/PES2TemplateFFTIm;1': 'TH1D',\n",
       " 'zip4/PDS2NoisePSD;1': 'TH1D',\n",
       " 'zip4/PDS2NoiseFFT;1': 'TH1D',\n",
       " 'zip4/PDS2NoiseFFTsq;1': 'TH1D',\n",
       " 'zip4/PDS2OptimalFilterRe;1': 'TH1D',\n",
       " 'zip4/PDS2OptimalFilterIm;1': 'TH1D',\n",
       " 'zip4/PDS2NormFFT;1': 'TH1D',\n",
       " 'zip4/PDS2SigToNoiseSq;1': 'TH1D',\n",
       " 'zip4/PDS2PulseNorm;1': 'TH1D',\n",
       " 'zip4/PDS2TemplateTime;1': 'TH1D',\n",
       " 'zip4/PDS2TemplateFFTRe;1': 'TH1D',\n",
       " 'zip4/PDS2TemplateFFTIm;1': 'TH1D',\n",
       " 'zip4/PAS2NoisePSD;1': 'TH1D',\n",
       " 'zip4/PAS2NoiseFFT;1': 'TH1D',\n",
       " 'zip4/PAS2NoiseFFTsq;1': 'TH1D',\n",
       " 'zip4/PAS2OptimalFilterRe;1': 'TH1D',\n",
       " 'zip4/PAS2OptimalFilterIm;1': 'TH1D',\n",
       " 'zip4/PAS2NormFFT;1': 'TH1D',\n",
       " 'zip4/PAS2SigToNoiseSq;1': 'TH1D',\n",
       " 'zip4/PAS2PulseNorm;1': 'TH1D',\n",
       " 'zip4/PAS2TemplateTime;1': 'TH1D',\n",
       " 'zip4/PAS2TemplateFFTRe;1': 'TH1D',\n",
       " 'zip4/PAS2TemplateFFTIm;1': 'TH1D',\n",
       " 'zip4/PTNoisePSD;1': 'TH1D',\n",
       " 'zip4/PTNoiseFFT;1': 'TH1D',\n",
       " 'zip4/PTNoiseFFTsq;1': 'TH1D',\n",
       " 'zip4/PTOptimalFilterRe;1': 'TH1D',\n",
       " 'zip4/PTOptimalFilterIm;1': 'TH1D',\n",
       " 'zip4/PTNormFFT;1': 'TH1D',\n",
       " 'zip4/PTSigToNoiseSq;1': 'TH1D',\n",
       " 'zip4/PTPulseNorm;1': 'TH1D',\n",
       " 'zip4/PTTemplateTime;1': 'TH1D',\n",
       " 'zip4/PTTemplateFFTRe;1': 'TH1D',\n",
       " 'zip4/PTTemplateFFTIm;1': 'TH1D',\n",
       " 'zip4/PS1NoisePSD;1': 'TH1D',\n",
       " 'zip4/PS1NoiseFFT;1': 'TH1D',\n",
       " 'zip4/PS1NoiseFFTsq;1': 'TH1D',\n",
       " 'zip4/PS1OptimalFilterRe;1': 'TH1D',\n",
       " 'zip4/PS1OptimalFilterIm;1': 'TH1D',\n",
       " 'zip4/PS1NormFFT;1': 'TH1D',\n",
       " 'zip4/PS1SigToNoiseSq;1': 'TH1D',\n",
       " 'zip4/PS1PulseNorm;1': 'TH1D',\n",
       " 'zip4/PS1TemplateTime;1': 'TH1D',\n",
       " 'zip4/PS1TemplateFFTRe;1': 'TH1D',\n",
       " 'zip4/PS1TemplateFFTIm;1': 'TH1D',\n",
       " 'zip4/PS2NoisePSD;1': 'TH1D',\n",
       " 'zip4/PS2NoiseFFT;1': 'TH1D',\n",
       " 'zip4/PS2NoiseFFTsq;1': 'TH1D',\n",
       " 'zip4/PS2OptimalFilterRe;1': 'TH1D',\n",
       " 'zip4/PS2OptimalFilterIm;1': 'TH1D',\n",
       " 'zip4/PS2NormFFT;1': 'TH1D',\n",
       " 'zip4/PS2SigToNoiseSq;1': 'TH1D',\n",
       " 'zip4/PS2PulseNorm;1': 'TH1D',\n",
       " 'zip4/PS2TemplateTime;1': 'TH1D',\n",
       " 'zip4/PS2TemplateFFTRe;1': 'TH1D',\n",
       " 'zip4/PS2TemplateFFTIm;1': 'TH1D',\n",
       " 'detectorConfigDir;1': 'TDirectory',\n",
       " 'detectorConfigDir/detectorConfigZip4;1': 'TTree',\n",
       " 'infoDir;1': 'TDirectory',\n",
       " 'infoDir/zip4;1': 'TDirectory',\n",
       " 'infoDir/zip4/EventList;1': 'TH1D',\n",
       " 'infoDir/zip4/PT_randTrid.zip4;1': 'TH1D',\n",
       " 'infoDir/zip4/PT_minmax.zip4;1': 'TH1D',\n",
       " 'infoDir/zip4/PT_OFchisq.zip4;1': 'TH1D',\n",
       " 'infoDir/zip4/PT_OFamp.zip4;1': 'TH1D',\n",
       " 'infoDir/zip4/PT_slope.zip4;1': 'TH1D',\n",
       " 'infoDir/zip4/PT_randTrig_SEQ.zip4;1': 'TH1D',\n",
       " 'infoDir/zip4/PT_minmax_SEQ.zip4;1': 'TH1D',\n",
       " 'infoDir/zip4/PT_OFamp_SEQ.zip4;1': 'TH1D',\n",
       " 'infoDir/zip4/PT_OFchisq_SEQ.zip4;1': 'TH1D',\n",
       " 'infoDir/zip4/PT_slope_SEQ.zip4;1': 'TH1D',\n",
       " 'infoDir/zip4/infoZip4;1': 'TTree'}"
      ]
     },
     "execution_count": 24,
     "metadata": {},
     "output_type": "execute_result"
    }
   ],
   "source": [
    "file.classnames()"
   ]
  },
  {
   "cell_type": "code",
   "execution_count": 52,
   "id": "3d101c88",
   "metadata": {},
   "outputs": [
    {
     "data": {
      "text/plain": [
       "{'@fUniqueID': 0,\n",
       " '@fBits': 50331656,\n",
       " 'fName': 'PBS1NoisePSD',\n",
       " 'fTitle': 'PBS1NoisePSD',\n",
       " 'fLineColor': 602,\n",
       " 'fLineStyle': 1,\n",
       " 'fLineWidth': 1,\n",
       " 'fFillColor': 0,\n",
       " 'fFillStyle': 1001,\n",
       " 'fMarkerColor': 1,\n",
       " 'fMarkerStyle': 1,\n",
       " 'fMarkerSize': 1.0,\n",
       " 'fNcells': 16387,\n",
       " 'fXaxis': <TAxis (version 10) at 0x000117ffaec0>,\n",
       " 'fYaxis': <TAxis (version 10) at 0x000117ffb3d0>,\n",
       " 'fZaxis': <TAxis (version 10) at 0x000117ffb700>,\n",
       " 'fBarOffset': 0,\n",
       " 'fBarWidth': 1000,\n",
       " 'fEntries': 16385.0,\n",
       " 'fTsumw': 0.0,\n",
       " 'fTsumw2': 0.0,\n",
       " 'fTsumwx': 0.0,\n",
       " 'fTsumwx2': 0.0,\n",
       " 'fMaximum': -1111.0,\n",
       " 'fMinimum': -1111.0,\n",
       " 'fNormFactor': 0.0,\n",
       " 'fContour': <TArrayD [] at 0x000117ffba30>,\n",
       " 'fSumw2': <TArrayD [] at 0x000117ffba60>,\n",
       " 'fOption': <TString '' at 0x000117dce570>,\n",
       " 'fFunctions': <TList of 0 items at 0x000117ffbb50>,\n",
       " 'fBufferSize': 0,\n",
       " 'fBuffer': array([], dtype='>f8'),\n",
       " 'fBinStatErrOpt': 0,\n",
       " 'fStatOverflows': 2,\n",
       " 'fN': 16387}"
      ]
     },
     "execution_count": 52,
     "metadata": {},
     "output_type": "execute_result"
    }
   ],
   "source": [
    "file[\"zip4/PBS1NoisePSD;1\"].all_members"
   ]
  },
  {
   "cell_type": "code",
   "execution_count": 38,
   "id": "2520f50a",
   "metadata": {},
   "outputs": [
    {
     "data": {
      "text/plain": [
       "array([0.00000000e+00, 1.90723222e+01, 3.81446445e+01, ...,\n",
       "       3.12461855e+05, 3.12480928e+05, 3.12500000e+05])"
      ]
     },
     "execution_count": 38,
     "metadata": {},
     "output_type": "execute_result"
    }
   ],
   "source": [
    "file[\"zip4/PBS1NoisePSD;1\"].axis().edges()"
   ]
  },
  {
   "cell_type": "code",
   "execution_count": 39,
   "id": "1fe73bb3",
   "metadata": {},
   "outputs": [
    {
     "data": {
      "text/plain": [
       "array([0.00000000e+00, 1.02165568e-10, 8.40820052e-11, ...,\n",
       "       5.90227415e-12, 6.27409752e-12, 4.01894017e-12])"
      ]
     },
     "execution_count": 39,
     "metadata": {},
     "output_type": "execute_result"
    }
   ],
   "source": [
    "file[\"zip4/PBS1NoisePSD;1\"].values()"
   ]
  },
  {
   "cell_type": "code",
   "execution_count": 40,
   "id": "cede7a4b",
   "metadata": {},
   "outputs": [
    {
     "data": {
      "text/plain": [
       "array([0.00000000e+00, 1.01076985e-05, 9.16962405e-06, ...,\n",
       "       2.42945964e-06, 2.50481487e-06, 2.00472945e-06])"
      ]
     },
     "execution_count": 40,
     "metadata": {},
     "output_type": "execute_result"
    }
   ],
   "source": [
    "file[\"zip4/PBS1NoisePSD;1\"].errors()"
   ]
  },
  {
   "cell_type": "code",
   "execution_count": 6,
   "id": "87eed809",
   "metadata": {},
   "outputs": [],
   "source": [
    "x, y = file[\"infoDir/zip4/PT_minmax_SEQ.zip4;1\"].to_numpy()"
   ]
  },
  {
   "cell_type": "code",
   "execution_count": 7,
   "id": "1f013038",
   "metadata": {},
   "outputs": [
    {
     "data": {
      "text/plain": [
       "[StairsArtists(stairs=<matplotlib.patches.StepPatch object at 0x107f4aec0>, errorbar=None, legend_artist=None)]"
      ]
     },
     "execution_count": 7,
     "metadata": {},
     "output_type": "execute_result"
    },
    {
     "data": {
      "image/png": "[encoded data removed]",
      "text/plain": [
       "<Figure size 640x480 with 1 Axes>"
      ]
     },
     "metadata": {},
     "output_type": "display_data"
    }
   ],
   "source": [
    "import mplhep as hep\n",
    "\n",
    "hep.histplot(x,y)"
   ]
  }
 ],
 "metadata": {
  "kernelspec": {
   "display_name": "Python 3 (ipykernel)",
   "language": "python",
   "name": "python3"
  },
  "language_info": {
   "codemirror_mode": {
    "name": "ipython",
    "version": 3
   },
   "file_extension": ".py",
   "mimetype": "text/x-python",
   "name": "python",
   "nbconvert_exporter": "python",
   "pygments_lexer": "ipython3",
   "version": "3.10.14"
  }
 },
 "nbformat": 4,
 "nbformat_minor": 5
}
