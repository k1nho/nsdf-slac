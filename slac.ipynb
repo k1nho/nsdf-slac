{
 "cells": [
  {
   "cell_type": "markdown",
   "id": "0fa67b7f-4c70-4ae1-bc14-9830ce42d46f",
   "metadata": {},
   "source": [
    "# Using NSDF for anomalies detection in time series\n",
    "\n",
    "<div>\n",
    "    <center>\n",
    "        <img src=\"files/docs/Logo.png\" width=\"250\"/>\n",
    "    </center>\n",
    "</div>\n",
    "\n",
    "Colaborators: \n",
    "\n",
    "* Stanford Linear Accelerator Center (SLAC) \n",
    "* Super Cryogenic Dark Matter Search (SuperCDMS)\n",
    "* Sudbury Neutrino Observatory Lab (SNOLAB)\n",
    "* National Science Data Fabric (NSDF)\n",
    "\n",
    "NSDF-Team:\n",
    "\n",
    "* Heberth Martinez \n",
    "* Glenn Tarcea\n",
    "* Giorgio Scorzelli\n",
    "* Michela Taufer"
   ]
  },
  {
   "cell_type": "markdown",
   "id": "c2d6077f",
   "metadata": {},
   "source": [
    "## Preparing your Environment\n",
    "\n",
    "The following cell prepares the environment by importing various crucial libraries for workflow execution. Please note that running this cell might take some time. Upon completion, a message will be displayed to notify you that the cell execution has finished."
   ]
  },
  {
   "cell_type": "code",
   "execution_count": 41,
   "id": "2bbe55de",
   "metadata": {},
   "outputs": [],
   "source": [
    "%load_ext autoreload\n",
    "%autoreload 2"
   ]
  },
  {
   "cell_type": "code",
   "execution_count": 3,
   "id": "6c442d5f-99dc-46e6-9b01-bc4c02ade2c0",
   "metadata": {},
   "outputs": [
    {
     "name": "stdout",
     "output_type": "stream",
     "text": [
      "You have successfully prepared your environment.\n"
     ]
    }
   ],
   "source": [
    "# import libraries\n",
    "import numpy as np\n",
    "from matplotlib import pyplot as plt\n",
    "import pandas as pd\n",
    "import matplotlib.dates as mdates\n",
    "import warnings\n",
    "import boto3\n",
    "from botocore.client import Config\n",
    "import os\n",
    "import concurrent\n",
    "from convert import ConvertJob\n",
    "warnings.filterwarnings(\"ignore\")\n",
    "\n",
    "print(\"You have successfully prepared your environment.\")"
   ]
  },
  {
   "cell_type": "markdown",
   "id": "3d64021e-dffb-40ee-82a6-2499ecc41eda",
   "metadata": {},
   "source": [
    "## Accessing Data from Seal Storage\n",
    "\n",
    "The following cell establishes a connection with a private storage service such as Seal Storage and downloads previously generated data"
   ]
  },
  {
   "cell_type": "code",
   "execution_count": 5,
   "id": "862dba7f",
   "metadata": {},
   "outputs": [],
   "source": [
    "# print(\"Your download is starting...\")\n",
    "\n",
    "# with open(\"./files/json/data.json\", \"r\") as file:\n",
    "#     urls = json.load(file)\n",
    "\n",
    "# config = Config(signature_version=\"s3v4\")\n",
    "# s3 = boto3.resource(\n",
    "#     \"s3\",\n",
    "#     endpoint_url=\"https://maritime.sealstorage.io/api/v0/s3\",\n",
    "#     aws_access_key_id=\"any\",\n",
    "#     aws_secret_access_key=\"any\",\n",
    "#     config=config,\n",
    "#     verify=False,\n",
    "# )\n",
    "# bucket = s3.Bucket(\"utah\")\n",
    "\n",
    "# bucket.download_file(urls[0].get(\"key\"), \"data.npz\")\n",
    "\n",
    "\n",
    "# print(\"You have successfully downloaded the data from Seal Storage.\")"
   ]
  },
  {
   "cell_type": "markdown",
   "id": "f1ccc49a",
   "metadata": {},
   "source": [
    "## Download from CUTE Data\n"
   ]
  },
  {
   "cell_type": "code",
   "execution_count": 29,
   "id": "005e8be3",
   "metadata": {},
   "outputs": [],
   "source": [
    "src_endpoint_url=\"https://ncsa.osn.xsede.org\"\n",
    "src_bucket_name=\"supercdms-data\"\n",
    "src_prefix=\"CDMS/CUTE\"\n",
    "dst_prefix=\"files/raw_cute\"\n",
    "\n",
    "def Connect(profile_name,endpoint_url,bucket_name, verify=True):\n",
    "\tsession=boto3.session.Session(profile_name=profile_name)\n",
    "\tresource=session.resource('s3', endpoint_url=endpoint_url,verify=verify)\n",
    "\tbucket = resource.Bucket(bucket_name)\n",
    "\tclient = session.client('s3', endpoint_url=endpoint_url, verify=verify)\n",
    "\treturn dict(session=session, resource=resource, bucket=bucket, client=client)\n",
    "\n",
    "ConnectSrc=lambda : Connect(profile_name='osn',endpoint_url=src_endpoint_url, bucket_name=src_bucket_name)"
   ]
  },
  {
   "cell_type": "code",
   "execution_count": 35,
   "id": "9c68c21d",
   "metadata": {},
   "outputs": [
    {
     "name": "stdout",
     "output_type": "stream",
     "text": [
      "Skipping CDMS/CUTE/23230808/Raw/23230808_020422/23230808_020422_F0001.mid.gz to files/raw_cute/CDMS/CUTE/23230808/Raw/23230808_020422/23230808_020422_F0001.mid.gz\n",
      "Skipping CDMS/CUTE/23230808/Raw/23230808_020422/23230808_020422_F0045.mid.gz to files/raw_cute/CDMS/CUTE/23230808/Raw/23230808_020422/23230808_020422_F0045.mid.gz\n"
     ]
    }
   ],
   "source": [
    "jobs=[]\n",
    "for k,it in enumerate(ConnectSrc()['bucket'].objects.filter(Prefix=src_prefix)):\n",
    "\t\tsrc_key=it.key\n",
    "\t\tif src_key.endswith(\".mid.gz\"):\n",
    "\t\t\tlocal_filename=f\"{dst_prefix}/{src_key}\"\n",
    "\t\t\tdst_key=f\"{dst_prefix}/{src_key}\"\n",
    "\t\t\tdone_filename=f\"{local_filename}.done\"\n",
    "\t\t\t# print (src_key,local_filename,dst_key,done_filename)\n",
    "\t\t\tif not os.path.exists(done_filename):\n",
    "\t\t\t\tos.makedirs(os.path.dirname(local_filename),exist_ok=True)\n",
    "\t\t\t\tprint(f\"Downloading {src_key} to {local_filename}\")\n",
    "\t\t\t\tConnectSrc()['bucket'].download_file(src_key, local_filename)\n",
    "\t\t\t\tprint(f\"Downloaded {src_key} to {local_filename}\")\n",
    "\t\t\t\t# print(f\"Uploading {local_filename} to {dst_key}\")\n",
    "\t\t\t\t# ConnectDst()['bucket'].upload_file(local_filename, dst_key)\n",
    "\t\t\t\t# print(f\"Uploaded {local_filename} to {dst_key}\")\n",
    "\t\t\t\tprint(f\"Creating {done_filename}\")\n",
    "\t\t\t\topen(done_filename, 'w').close()\n",
    "\t\t\t\tprint(f\"Created {done_filename}\")\n",
    "\t\t\telse:\n",
    "\t\t\t\tprint(f\"Skipping {src_key} to {local_filename}\")\n",
    "\t\t\tjobs.append((k,local_filename))\n",
    "\t\n"
   ]
  },
  {
   "cell_type": "markdown",
   "id": "9c715319",
   "metadata": {},
   "source": [
    "## Convert Cute data to generate json npz and xml\n"
   ]
  },
  {
   "cell_type": "code",
   "execution_count": 43,
   "id": "d8670270",
   "metadata": {},
   "outputs": [
    {
     "name": "stdout",
     "output_type": "stream",
     "text": [
      "Doing 4 files/raw_cute/CDMS/CUTE/23230808/Raw/23230808_020422/23230808_020422_F0001.mid.gz\n",
      "Doing 5 files/raw_cute/CDMS/CUTE/23230808/Raw/23230808_020422/23230808_020422_F0045.mid.gz\n",
      "Done 5 files/raw_cute/CDMS/CUTE/23230808/Raw/23230808_020422/23230808_020422_F0045.mid.gz in 10.077183961868286 seconds\n",
      "Done 4 files/raw_cute/CDMS/CUTE/23230808/Raw/23230808_020422/23230808_020422_F0001.mid.gz in 60.15653395652771 seconds\n"
     ]
    }
   ],
   "source": [
    "with concurrent.futures.ProcessPoolExecutor (max_workers=64) as executor:\n",
    "    futures = [executor.submit(ConvertJob, *job) for job in jobs]\n",
    "    for future in concurrent.futures.as_completed(futures):\n",
    "        try:\n",
    "            result = future.result()\n",
    "            # print(f\"Still todo {todo}\")\n",
    "        except Exception as ex:\n",
    "            print(f'Error {ex}')"
   ]
  },
  {
   "cell_type": "markdown",
   "id": "608d2035",
   "metadata": {},
   "source": [
    "## Load data using Numpy"
   ]
  },
  {
   "cell_type": "code",
   "execution_count": 4,
   "id": "26c95b71-1f3d-43bb-b4f1-085aef12d25c",
   "metadata": {},
   "outputs": [
    {
     "name": "stdout",
     "output_type": "stream",
     "text": [
      "              data\n",
      "0       2415951873\n",
      "1       1342767104\n",
      "2                8\n",
      "3            10008\n",
      "4              258\n",
      "...            ...\n",
      "147562  2139324184\n",
      "147563  2684354560\n",
      "147564           0\n",
      "147565  4026531840\n",
      "147566  2147483648\n",
      "\n",
      "[147567 rows x 1 columns]\n"
     ]
    }
   ],
   "source": [
    "# load data using numpy\n",
    "# npz = np.load(\"data.npz\")\n",
    "npz = np.load(\"/Users/jmarque4/jack/NSDF/nsdf-slac/files/raw_cute/CDMS/CUTE/23230808/Raw/23230808_020422/23230808_020422_F0001/events/00011/banks/SCD0/data.npz\")\n",
    "df = pd.DataFrame.from_dict({item: npz[item] for item in npz.files}, orient=\"columns\")\n",
    "index = pd.date_range(\"1/1/2000\", periods=df.shape[0], freq=\"1S\")\n",
    "print(df)\n",
    "\n",
    "# # Creating train and test dataframes\n",
    "# df.index = index\n",
    "# new_df = df.iloc[: int(df.shape[0] * 0.9)]\n",
    "# test_df = df.iloc[int(df.shape[0] * 0.9) :]\n",
    "\n",
    "# # final data frame: frequency estimation\n",
    "# final_df = new_df.asfreq(pd.infer_freq(new_df.index))\n",
    "\n",
    "# print(\"You have successfully loaded the data.\")\n",
    "# print(\"Number of values: \", df.shape[0])"
   ]
  },
  {
   "cell_type": "markdown",
   "id": "3cbb4677",
   "metadata": {},
   "source": [
    "* Plot raw data using Matplotlib "
   ]
  },
  {
   "cell_type": "code",
   "execution_count": 7,
   "id": "d4b1d874-7b33-46c3-be04-1ddfe7a929f3",
   "metadata": {},
   "outputs": [
    {
     "data": {
      "image/png": "[encoded data removed]",
      "text/plain": [
       "<Figure size 1500x600 with 1 Axes>"
      ]
     },
     "metadata": {},
     "output_type": "display_data"
    },
    {
     "name": "stdout",
     "output_type": "stream",
     "text": [
      "You have successfully plotted the data.\n"
     ]
    }
   ],
   "source": [
    "# plot train data\n",
    "myFmt = mdates.DateFormatter(\"%m-%d %H:%M:%S\")\n",
    "plt.figure(figsize=(15, 6))\n",
    "plt.plot(df)\n",
    "plt.title(\"SLAC Raw Data\", fontsize=20)\n",
    "plt.ylabel(\"Y\", fontsize=16)\n",
    "plt.xlabel(\"X\", fontsize=16)\n",
    "plt.gca().xaxis.set_major_formatter(myFmt)\n",
    "plt.gcf().autofmt_xdate()\n",
    "plt.grid()\n",
    "plt.show()\n",
    "print(\"You have successfully plotted the data.\")"
   ]
  }
 ],
 "metadata": {
  "kernelspec": {
   "display_name": "Python 3 (ipykernel)",
   "language": "python",
   "name": "python3"
  },
  "language_info": {
   "codemirror_mode": {
    "name": "ipython",
    "version": 3
   },
   "file_extension": ".py",
   "mimetype": "text/x-python",
   "name": "python",
   "nbconvert_exporter": "python",
   "pygments_lexer": "ipython3",
   "version": "3.10.14"
  }
 },
 "nbformat": 4,
 "nbformat_minor": 5
}
